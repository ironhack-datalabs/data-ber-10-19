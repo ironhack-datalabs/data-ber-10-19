{
 "cells": [
  {
   "cell_type": "markdown",
   "metadata": {},
   "source": [
    "In the cell below, create a Python function that wraps your previous solution for the Bag of Words lab.\n",
    "\n",
    "Requirements:\n",
    "\n",
    "1. Your function should accept the following parameters:\n",
    "    * `docs` [REQUIRED] - array of document paths.\n",
    "    * `stop_words` [OPTIONAL] - array of stop words. The default value is an empty array.\n",
    "\n",
    "1. Your function should return a Python object that contains the following:\n",
    "    * `bag_of_words` - array of strings of normalized unique words in the corpus.\n",
    "    * `term_freq` - array of the term-frequency vectors."
   ]
  },
  {
   "cell_type": "code",
   "execution_count": 12,
   "metadata": {},
   "outputs": [],
   "source": [
    "# Import required libraries\n",
    "from string import punctuation\n",
    "\n",
    "# Define function\n",
    "def get_bow_from_docs(docs, stop_words=[]):\n",
    "    # In the function, first define the variables you will use such as `corpus`, `bag_of_words`, and `term_freq`.\n",
    "    corpus = []\n",
    "    bag_of_words = []\n",
    "    term_freq = []\n",
    "    \n",
    "    \"\"\"\n",
    "    Loop `docs` and read the content of each doc into a string in `corpus`.\n",
    "    Remember to convert the doc content to lowercases and remove punctuation.\n",
    "    \"\"\"\n",
    "    for doc in docs:\n",
    "        f = open(doc, 'r')\n",
    "        s = f.read()\n",
    "        s = ''.join(c for c in s if c not in punctuation)\n",
    "        corpus.append(s.lower())\n",
    "        f.close()\n",
    "    \n",
    "    \"\"\"\n",
    "    Loop `corpus`. Append the terms in each doc into the `bag_of_words` array. The terms in `bag_of_words` \n",
    "    should be unique which means before adding each term you need to check if it's already added to the array.\n",
    "    In addition, check if each term is in the `stop_words` array. Only append the term to `bag_of_words`\n",
    "    if it is not a stop word.\n",
    "    \"\"\"\n",
    "    for s in corpus:\n",
    "        s = ''.join(c for c in s if c not in punctuation)\n",
    "        terms = s.split()\n",
    "        for term in terms:\n",
    "            if not term in bag_of_words and not term in stop_words:\n",
    "                bag_of_words.append(term)\n",
    "    \n",
    "    \n",
    "    \"\"\"\n",
    "    Loop `corpus` again. For each doc string, count the number of occurrences of each term in `bag_of_words`. \n",
    "    Create an array for each doc's term frequency and append it to `term_freq`.\n",
    "    \"\"\"\n",
    "    for s in corpus:\n",
    "        freq = []\n",
    "        terms = s.split()\n",
    "        for word in bag_of_words:\n",
    "            freq.append(terms.count(word))\n",
    "        term_freq.append(freq)\n",
    "    \n",
    "    # Now return your output as an object\n",
    "    return {\n",
    "        \"bag_of_words\": bag_of_words,\n",
    "        \"term_freq\": term_freq\n",
    "    }\n",
    "    "
   ]
  },
  {
   "cell_type": "markdown",
   "metadata": {},
   "source": [
    "Test your function without stop words. You should see the output like below:\n",
    "\n",
    "```{'bag_of_words': ['ironhack', 'is', 'cool', 'i', 'love', 'am', 'a', 'student', 'at'], 'term_freq': [[1, 1, 1, 0, 0, 0, 0, 0, 0], [1, 0, 0, 1, 1, 0, 0, 0, 0], [1, 0, 0, 1, 0, 1, 1, 1, 1]]}```"
   ]
  },
  {
   "cell_type": "code",
   "execution_count": 13,
   "metadata": {},
   "outputs": [
    {
     "name": "stdout",
     "output_type": "stream",
     "text": [
      "{'bag_of_words': ['ironhack', 'is', 'cool', 'i', 'love', 'am', 'a', 'student', 'at'], 'term_freq': [[1, 1, 1, 0, 0, 0, 0, 0, 0], [1, 0, 0, 1, 1, 0, 0, 0, 0], [1, 0, 0, 1, 0, 1, 1, 1, 1]]}\n"
     ]
    }
   ],
   "source": [
    "bow = get_bow_from_docs([\n",
    "    '../../lab-bag-of-words/your-code/doc1.txt', \n",
    "    '../../lab-bag-of-words/your-code/doc2.txt', \n",
    "    '../../lab-bag-of-words/your-code/doc3.txt'])\n",
    "\n",
    "print(bow)"
   ]
  },
  {
   "cell_type": "markdown",
   "metadata": {},
   "source": [
    "If your attempt above is successful, nice work done!\n",
    "\n",
    "Now test your function again with the stop words. In the previous lab we defined the stop words in a large array. In this lab, we'll import the stop words from Scikit-Learn."
   ]
  },
  {
   "cell_type": "code",
   "execution_count": 14,
   "metadata": {},
   "outputs": [
    {
     "name": "stdout",
     "output_type": "stream",
     "text": [
      "frozenset({'across', 'mine', 'cannot', 'during', 'if', 'along', 'however', 'con', 'made', 'anyway', 'indeed', 'somewhere', 'perhaps', 'whatever', 'some', 'very', 'under', 'with', 'fifty', 'yourself', 'call', 'done', 'they', 'while', 'amount', 'sometime', 'will', 'what', 'anywhere', 'within', 'interest', 'though', 'many', 'we', 'such', 'bill', 'see', 'whence', 'never', 'again', 'may', 'noone', 'each', 'because', 'out', 'elsewhere', 'everything', 'were', 'whereby', 'hundred', 'except', 'well', 'only', 'formerly', 'do', 'but', 'another', 'together', 'why', 'move', 'both', 'others', 'through', 'up', 'has', 'over', 'when', 'down', 'was', 'above', 'me', 'four', 'everyone', 'nor', 'of', 're', 'couldnt', 'put', 'all', 'thence', 'for', 'thereupon', 'onto', 'too', 'by', 'whom', 'wherever', 'amongst', 'last', 'de', 'much', 'hasnt', 'somehow', 'whereupon', 'mill', 'nowhere', 'its', 'became', 'whereas', 'how', 'top', 'serious', 'least', 'seemed', 'find', 'behind', 'thereafter', 'at', 'take', 'himself', 'front', 'please', 'who', 'meanwhile', 'here', 'more', 'namely', 'several', 'other', 'you', 'forty', 'against', 'sincere', 'not', 'amoungst', 'neither', 'hers', 'throughout', 'since', 'although', 'every', 'any', 'have', 'keep', 'thick', 'below', 'him', 'an', 'as', 'back', 'her', 'go', 'thin', 'eleven', 'one', 'should', 'un', 'them', 'from', 'seems', 'where', 'found', 'almost', 'upon', 'six', 'even', 'these', 'wherein', 'she', 'so', 'same', 'few', 'my', 'else', 'can', 'then', 'than', 'side', 'around', 'am', 'this', 'into', 'moreover', 'twenty', 'whenever', 'nevertheless', 'already', 'could', 'most', 'first', 'ever', 'latterly', 'everywhere', 'yours', 'thereby', 'etc', 'therein', 'would', 'bottom', 'fill', 'themselves', 'alone', 'myself', 'whoever', 'whither', 'always', 'that', 'yourselves', 'are', 'be', 'beforehand', 'therefore', 'seem', 'hereafter', 'itself', 'now', 'herein', 'none', 'between', 'or', 'there', 'in', 'less', 'your', 'towards', 'five', 'before', 'also', 'former', 'toward', 'enough', 'whose', 'must', 'anything', 'beside', 'ltd', 'own', 'describe', 'rather', 'ie', 'three', 'us', 'herself', 'two', 'on', 'part', 'eight', 'beyond', 'yet', 'co', 'a', 'fire', 'sometimes', 'mostly', 'fifteen', 'until', 'nine', 'seeming', 'thru', 'full', 'still', 'otherwise', 'latter', 'due', 'whether', 'give', 'hereby', 'twelve', 'becomes', 'via', 'his', 'about', 'cant', 'becoming', 'empty', 'he', 'ours', 'thus', 'per', 'anyone', 'those', 'something', 'besides', 'further', 'it', 'whereafter', 'off', 'their', 'either', 'been', 'ten', 'whole', 'get', 'had', 'is', 'our', 'among', 'no', 'name', 'eg', 'cry', 'i', 'might', 'nothing', 'ourselves', 'often', 'hence', 'become', 'once', 'being', 'without', 'which', 'after', 'and', 'detail', 'system', 'sixty', 'nobody', 'someone', 'show', 'hereupon', 'to', 'anyhow', 'next', 'the', 'inc', 'third', 'afterwards'})\n"
     ]
    }
   ],
   "source": [
    "from sklearn.feature_extraction import stop_words\n",
    "print(stop_words.ENGLISH_STOP_WORDS)"
   ]
  },
  {
   "cell_type": "markdown",
   "metadata": {},
   "source": [
    "You should have seen a large list of words that looks like:\n",
    "\n",
    "```frozenset({'across', 'mine', 'cannot', ...})```\n",
    "\n",
    "`frozenset` is a type of Python object that is immutable. In this lab you can use it just like an array without conversion."
   ]
  },
  {
   "cell_type": "markdown",
   "metadata": {},
   "source": [
    "Next, test your function with supplying `stop_words.ENGLISH_STOP_WORDS` as the second parameter."
   ]
  },
  {
   "cell_type": "code",
   "execution_count": 15,
   "metadata": {},
   "outputs": [
    {
     "name": "stdout",
     "output_type": "stream",
     "text": [
      "{'bag_of_words': ['ironhack', 'cool', 'love', 'student'], 'term_freq': [[1, 1, 0, 0], [1, 0, 1, 0], [1, 0, 0, 1]]}\n"
     ]
    }
   ],
   "source": [
    "bow = get_bow_from_docs([\n",
    "    '../../lab-bag-of-words/your-code/doc1.txt', \n",
    "    '../../lab-bag-of-words/your-code/doc2.txt', \n",
    "    '../../lab-bag-of-words/your-code/doc3.txt'],\n",
    "    stop_words.ENGLISH_STOP_WORDS\n",
    ")\n",
    "\n",
    "print(bow)"
   ]
  },
  {
   "cell_type": "markdown",
   "metadata": {},
   "source": [
    "You should have seen:\n",
    "\n",
    "```{'bag_of_words': ['ironhack', 'cool', 'love', 'student'], 'term_freq': [[1, 1, 0, 0], [1, 0, 1, 0], [1, 0, 0, 1]]}```"
   ]
  },
  {
   "cell_type": "code",
   "execution_count": null,
   "metadata": {},
   "outputs": [],
   "source": []
  }
 ],
 "metadata": {
  "kernelspec": {
   "display_name": "Python 3",
   "language": "python",
   "name": "python3"
  },
  "language_info": {
   "codemirror_mode": {
    "name": "ipython",
    "version": 3
   },
   "file_extension": ".py",
   "mimetype": "text/x-python",
   "name": "python",
   "nbconvert_exporter": "python",
   "pygments_lexer": "ipython3",
   "version": "3.7.3"
  }
 },
 "nbformat": 4,
 "nbformat_minor": 4
}
