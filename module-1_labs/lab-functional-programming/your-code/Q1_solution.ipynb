{
 "cells": [
  {
   "cell_type": "markdown",
   "metadata": {},
   "source": [
    "In the cell below, create a Python function that wraps your previous solution for the Bag of Words lab.\n",
    "\n",
    "Requirements:\n",
    "\n",
    "1. Your function should accept the following parameters:\n",
    "    * `docs` [REQUIRED] - array of document paths.\n",
    "    * `stop_words` [OPTIONAL] - array of stop words. The default value is an empty array.\n",
    "\n",
    "1. Your function should return a Python object that contains the following:\n",
    "    * `bag_of_words` - array of strings of normalized unique words in the corpus.\n",
    "    * `term_freq` - array of the term-frequency vectors."
   ]
  },
  {
   "cell_type": "code",
   "execution_count": 12,
   "metadata": {},
   "outputs": [],
   "source": [
    "# Import required libraries\n",
    "from string import punctuation\n",
    "\n",
    "# Define function\n",
    "def get_bow_from_docs(docs, stop_words=[]):\n",
    "    # In the function, first define the variables you will use such as `corpus`, `bag_of_words`, and `term_freq`.\n",
    "    corpus = []\n",
    "    bag_of_words = []\n",
    "    term_freq = []\n",
    "    \n",
    "    \"\"\"\n",
    "    Loop `docs` and read the content of each doc into a string in `corpus`.\n",
    "    Remember to convert the doc content to lowercases and remove punctuation.\n",
    "    \"\"\"\n",
    "    for doc in docs:\n",
    "        f = open(doc, 'r')\n",
    "        s = f.read()\n",
    "        s = ''.join(c for c in s if c not in punctuation)\n",
    "        corpus.append(s.lower())\n",
    "        f.close()\n",
    "    \n",
    "    \"\"\"\n",
    "    Loop `corpus`. Append the terms in each doc into the `bag_of_words` array. The terms in `bag_of_words` \n",
    "    should be unique which means before adding each term you need to check if it's already added to the array.\n",
    "    In addition, check if each term is in the `stop_words` array. Only append the term to `bag_of_words`\n",
    "    if it is not a stop word.\n",
    "    \"\"\"\n",
    "    for s in corpus:\n",
    "        s = ''.join(c for c in s if c not in punctuation)\n",
    "        terms = s.split()\n",
    "        for term in terms:\n",
    "            if not term in bag_of_words and not term in stop_words:\n",
    "                bag_of_words.append(term)\n",
    "    \n",
    "    \n",
    "    \"\"\"\n",
    "    Loop `corpus` again. For each doc string, count the number of occurrences of each term in `bag_of_words`. \n",
    "    Create an array for each doc's term frequency and append it to `term_freq`.\n",
    "    \"\"\"\n",
    "    for s in corpus:\n",
    "        freq = []\n",
    "        terms = s.split()\n",
    "        for word in bag_of_words:\n",
    "            freq.append(terms.count(word))\n",
    "        term_freq.append(freq)\n",
    "    \n",
    "    # Now return your output as an object\n",
    "    return {\n",
    "        \"bag_of_words\": bag_of_words,\n",
    "        \"term_freq\": term_freq\n",
    "    }\n",
    "    "
   ]
  },
  {
   "cell_type": "markdown",
   "metadata": {},
   "source": [
    "Test your function without stop words. You should see the output like below:\n",
    "\n",
    "```{'bag_of_words': ['ironhack', 'is', 'cool', 'i', 'love', 'am', 'a', 'student', 'at'], 'term_freq': [[1, 1, 1, 0, 0, 0, 0, 0, 0], [1, 0, 0, 1, 1, 0, 0, 0, 0], [1, 0, 0, 1, 0, 1, 1, 1, 1]]}```"
   ]
  },
  {
   "cell_type": "code",
   "execution_count": 13,
   "metadata": {},
   "outputs": [
    {
     "name": "stdout",
     "output_type": "stream",
     "text": [
      "{'bag_of_words': ['ironhack', 'is', 'cool', 'i', 'love', 'am', 'a', 'student', 'at'], 'term_freq': [[1, 1, 1, 0, 0, 0, 0, 0, 0], [1, 0, 0, 1, 1, 0, 0, 0, 0], [1, 0, 0, 1, 0, 1, 1, 1, 1]]}\n"
     ]
    }
   ],
   "source": [
    "bow = get_bow_from_docs([\n",
    "    '../../lab-bag-of-words/your-code/doc1.txt', \n",
    "    '../../lab-bag-of-words/your-code/doc2.txt', \n",
    "    '../../lab-bag-of-words/your-code/doc3.txt'])\n",
    "\n",
    "print(bow)"
   ]
  },
  {
   "cell_type": "markdown",
   "metadata": {},
   "source": [
    "If your attempt above is successful, nice work done!\n",
    "\n",
    "Now test your function again with the stop words. In the previous lab we defined the stop words in a large array. In this lab, we'll import the stop words from Scikit-Learn."
   ]
  },
  {
   "cell_type": "code",
   "execution_count": 5,
   "metadata": {},
   "outputs": [
    {
     "name": "stdout",
     "output_type": "stream",
     "text": [
      "frozenset({'by', 'hereupon', 'had', 'so', 'one', 'front', 'her', 'therefore', 'call', 'throughout', 'already', 'whoever', 'i', 'none', 'than', 'besides', 'can', 'twenty', 'third', 'mill', 'all', 'below', 'next', 'cannot', 'mostly', 'your', 'would', 'everyone', 'wherever', 'con', 'afterwards', 'becoming', 'to', 'if', 'get', 'moreover', 'noone', 'neither', 'somewhere', 'mine', 'latterly', 'be', 'therein', 'around', 'thin', 'along', 'across', 'part', 'twelve', 'each', 'take', 'us', 'whose', 'least', 'do', 'still', 'amount', 'too', 'a', 'seeming', 'show', 'otherwise', 'see', 'sincere', 'yours', 'before', 'not', 'keep', 'down', 'serious', 'indeed', 'in', 'thereafter', 'here', 'or', 'toward', 'as', 'no', 'couldnt', 'ltd', 'alone', 'of', 'through', 'made', 'upon', 'go', 'top', 'is', 'since', 'and', 'ourselves', 'at', 'something', 'him', 'same', 'some', 'yourselves', 'off', 'could', 'between', 'must', 'every', 'he', 'nobody', 'thence', 'several', 'ever', 'for', 'sometimes', 'who', 'via', 'against', 'has', 'another', 'my', 'bottom', 'am', 'seem', 'anyhow', 'hasnt', 'himself', 'until', 'per', 'yourself', 'over', 'have', 'cry', 'up', 'rather', 'namely', 'within', 'however', 'meanwhile', 'ten', 'the', 'anyway', 'yet', 'were', 'others', 'when', 'forty', 'perhaps', 'five', 'etc', 'though', 'hence', 'whereby', 'thru', 'became', 'such', 'seemed', 'now', 'any', 'never', 'side', 'eleven', 'then', 'formerly', 'whither', 'well', 'ours', 'because', 'else', 'often', 'ie', 'please', 'amongst', 'fifteen', 'which', 'beyond', 'how', 'few', 'enough', 'its', 'two', 'four', 'very', 'while', 'de', 'eight', 'former', 'anywhere', 'fill', 'into', 'name', 'last', 'put', 'even', 'first', 'anything', 'me', 'except', 'hundred', 'above', 'nowhere', 'nevertheless', 'both', 'been', 'somehow', 'thus', 'itself', 'under', 'whence', 'whatever', 'may', 'out', 'onto', 'during', 'whenever', 'together', 'although', 'sometime', 'this', 'always', 'move', 'six', 'whereupon', 'own', 'an', 'that', 'becomes', 'due', 'inc', 'whereafter', 'everything', 'whole', 'fifty', 'further', 'someone', 'bill', 'seems', 'interest', 'where', 'themselves', 'thereby', 'nor', 'more', 'we', 'hers', 'anyone', 'full', 'it', 'also', 'much', 'beforehand', 'nothing', 'less', 'most', 'after', 'she', 'from', 'nine', 'there', 'hereby', 'his', 'give', 'about', 'wherein', 'describe', 'should', 'might', 'on', 'being', 'eg', 'cant', 'those', 'are', 'back', 'latter', 'almost', 'whereas', 'among', 'empty', 'hereafter', 'un', 'myself', 'detail', 'elsewhere', 'these', 'find', 'many', 'three', 'again', 'will', 'our', 'system', 'found', 're', 'what', 'was', 'become', 'towards', 'fire', 'thick', 'without', 'other', 'sixty', 'whether', 'done', 'either', 'they', 'whom', 'co', 'with', 'thereupon', 'amoungst', 'behind', 'you', 'beside', 'herself', 'their', 'once', 'only', 'but', 'why', 'them', 'herein', 'everywhere'})\n"
     ]
    }
   ],
   "source": [
    "from sklearn.feature_extraction import stop_words\n",
    "print(stop_words.ENGLISH_STOP_WORDS)"
   ]
  },
  {
   "cell_type": "markdown",
   "metadata": {},
   "source": [
    "You should have seen a large list of words that looks like:\n",
    "\n",
    "```frozenset({'across', 'mine', 'cannot', ...})```\n",
    "\n",
    "`frozenset` is a type of Python object that is immutable. In this lab you can use it just like an array without conversion."
   ]
  },
  {
   "cell_type": "markdown",
   "metadata": {},
   "source": [
    "Next, test your function with supplying `stop_words.ENGLISH_STOP_WORDS` as the second parameter."
   ]
  },
  {
   "cell_type": "code",
   "execution_count": 15,
   "metadata": {},
   "outputs": [
    {
     "name": "stdout",
     "output_type": "stream",
     "text": [
      "{'bag_of_words': ['ironhack', 'cool', 'love', 'student'], 'term_freq': [[1, 1, 0, 0], [1, 0, 1, 0], [1, 0, 0, 1]]}\n"
     ]
    }
   ],
   "source": [
    "bow = get_bow_from_docs([\n",
    "    '../../lab-bag-of-words/your-code/doc1.txt', \n",
    "    '../../lab-bag-of-words/your-code/doc2.txt', \n",
    "    '../../lab-bag-of-words/your-code/doc3.txt'],\n",
    "    stop_words.ENGLISH_STOP_WORDS\n",
    ")\n",
    "\n",
    "print(bow)"
   ]
  },
  {
   "cell_type": "markdown",
   "metadata": {},
   "source": [
    "You should have seen:\n",
    "\n",
    "```{'bag_of_words': ['ironhack', 'cool', 'love', 'student'], 'term_freq': [[1, 1, 0, 0], [1, 0, 1, 0], [1, 0, 0, 1]]}```"
   ]
  },
  {
   "cell_type": "code",
   "execution_count": null,
   "metadata": {},
   "outputs": [],
   "source": []
  }
 ],
 "metadata": {
  "kernelspec": {
   "display_name": "Python 3",
   "language": "python",
   "name": "python3"
  },
  "language_info": {
   "codemirror_mode": {
    "name": "ipython",
    "version": 3
   },
   "file_extension": ".py",
   "mimetype": "text/x-python",
   "name": "python",
   "nbconvert_exporter": "python",
   "pygments_lexer": "ipython3",
   "version": "3.7.4"
  }
 },
 "nbformat": 4,
 "nbformat_minor": 4
}
