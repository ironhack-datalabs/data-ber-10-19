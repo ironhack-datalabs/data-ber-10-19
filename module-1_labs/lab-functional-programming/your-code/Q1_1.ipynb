{
 "cells": [
  {
   "cell_type": "markdown",
   "metadata": {},
   "source": [
    "In the cell below, create a Python function that wraps your previous solution for the Bag of Words lab.\n",
    "\n",
    "Requirements:\n",
    "\n",
    "1. Your function should accept the following parameters:\n",
    "    * `docs` [REQUIRED] - array of document paths.\n",
    "    * `stop_words` [OPTIONAL] - array of stop words. The default value is an empty array.\n",
    "\n",
    "1. Your function should return a Python object that contains the following:\n",
    "    * `bag_of_words` - array of strings of normalized unique words in the corpus.\n",
    "    * `term_freq` - array of the term-frequency vectors."
   ]
  },
  {
   "cell_type": "code",
   "execution_count": 13,
   "metadata": {},
   "outputs": [],
   "source": [
    "# Import required libraries\n",
    "import sklearn\n",
    "\n",
    "# Define function\n",
    "def get_bow_from_docs(docs, stop_words=[]):\n",
    "    corpus=[]\n",
    "\n",
    "    \n",
    "    # In the function, first define the variables you will use such as `corpus`, `bag_of_words`, and `term_freq`.\n",
    "    \n",
    "    \n",
    "    \n",
    "    \"\"\"\n",
    "    Loop `docs` and read the content of each doc into a string in `corpus`.\n",
    "    Remember to convert the doc content to lowercases and remove punctuation.\n",
    "    \"\"\"\n",
    "    for doc in docs:\n",
    "        corpus.append(open(doc,\"r\").read().lower().replace(\".\",\"\"))\n",
    "    \n",
    "    print(corpus)\n",
    "    \"\"\"\n",
    "    Loop `corpus`. Append the terms in each doc into the `bag_of_words` array. The terms in `bag_of_words` \n",
    "    should be unique which means before adding each term you need to check if it's already added to the array.\n",
    "    In addition, check if each term is in the `stop_words` array. Only append the term to `bag_of_words`\n",
    "    if it is not a stop word.\n",
    "    \"\"\"\n",
    "    bag_of_words=[]\n",
    "    for line in corpus:\n",
    "        for word in line.split():\n",
    "            if (word not in bag_of_words) and (word not in stop_words):\n",
    "                bag_of_words.append(word)\n",
    "    \n",
    "    \n",
    "    \"\"\"\n",
    "    Loop `corpus` again. For each doc string, count the number of occurrences of each term in `bag_of_words`. \n",
    "    Create an array for each doc's term frequency and append it to `term_freq`.\n",
    "    \"\"\"\n",
    "    term_freq=[]\n",
    "    for line in corpus:\n",
    "        freq=[]\n",
    "        for word in bag_of_words:\n",
    "            freq.append(line.split().count(word))\n",
    "        term_freq.append(freq)\n",
    "    \n",
    "    # Now return your output as an object\n",
    "    return {\n",
    "        \"bag_of_words\": bag_of_words,\n",
    "        \"term_freq\": term_freq\n",
    "    }\n",
    "    "
   ]
  },
  {
   "cell_type": "markdown",
   "metadata": {},
   "source": [
    "Test your function without stop words. You should see the output like below:\n",
    "\n",
    "```{'bag_of_words': ['ironhack', 'is', 'cool', 'i', 'love', 'am', 'a', 'student', 'at'], 'term_freq': [[1, 1, 1, 0, 0, 0, 0, 0, 0], [1, 0, 0, 1, 1, 0, 0, 0, 0], [1, 0, 0, 1, 0, 1, 1, 1, 1]]}```"
   ]
  },
  {
   "cell_type": "code",
   "execution_count": 14,
   "metadata": {},
   "outputs": [
    {
     "name": "stdout",
     "output_type": "stream",
     "text": [
      "['ironhack is cool', 'i love ironhack', 'i am a student at ironhack']\n",
      "{'bag_of_words': ['ironhack', 'is', 'cool', 'i', 'love', 'am', 'a', 'student', 'at'], 'term_freq': [[1, 1, 1, 0, 0, 0, 0, 0, 0], [1, 0, 0, 1, 1, 0, 0, 0, 0], [1, 0, 0, 1, 0, 1, 1, 1, 1]]}\n"
     ]
    }
   ],
   "source": [
    "# Define doc paths array\n",
    "docs =[\"../../lab-string-operations/your-code/doc1.txt\",\"../../lab-string-operations/your-code/doc2.txt\",\"../../lab-string-operations/your-code/doc3.txt\"]\n",
    "\n",
    "# Obtain BoW from your function\n",
    "bow = get_bow_from_docs(docs)\n",
    "\n",
    "# Print BoW\n",
    "print(bow)"
   ]
  },
  {
   "cell_type": "markdown",
   "metadata": {},
   "source": [
    "If your attempt above is successful, nice work done!\n",
    "\n",
    "Now test your function again with the stop words. In the previous lab we defined the stop words in a large array. In this lab, we'll import the stop words from Scikit-Learn."
   ]
  },
  {
   "cell_type": "code",
   "execution_count": 8,
   "metadata": {},
   "outputs": [
    {
     "name": "stdout",
     "output_type": "stream",
     "text": [
      "frozenset({'during', 'up', 'else', 'alone', 'off', 'such', 'above', 'ours', 'thereafter', 'should', 'him', 'either', 'thereupon', 'mine', 'see', 'amoungst', 'a', 'am', 'becoming', 'ten', 'well', 'yours', 'thick', 'back', 'even', 'get', 'our', 'from', 'other', 'they', 'nothing', 'sincere', 'former', 'although', 'next', 'three', 'indeed', 'two', 'herself', 'bill', 'these', 'most', 'them', 'cant', 'with', 'several', 'had', 'is', 'any', 'no', 'wherever', 'anyhow', 'seemed', 'due', 'before', 'nine', 'hundred', 'ie', 'to', 'whether', 'because', 'find', 'we', 'whenever', 'side', 'couldnt', 'out', 'full', 'rather', 'yourselves', 'have', 'if', 'whole', 'forty', 'how', 'than', 'here', 'however', 'very', 'thereby', 'that', 'might', 'except', 'down', 'every', 'an', 'do', 'through', 'has', 'own', 'top', 'none', 'anything', 'while', 'may', 'name', 'can', 'around', 'towards', 'already', 'himself', 'together', 'thus', 'please', 'further', 'she', 'de', 'once', 'part', 'anyway', 'whoever', 'via', 'within', 'first', 'ltd', 'your', 'enough', 'ourselves', 'now', 'one', 'also', 'serious', 'empty', 'onto', 'cry', 'toward', 'often', 'eg', 'between', 'anywhere', 'only', 'neither', 'all', 'after', 'been', 'yet', 'everywhere', 'whom', 'moreover', 'almost', 'themselves', 'why', 'as', 'therein', 'becomes', 'nowhere', 'somewhere', 'everyone', 'who', 'this', 'whose', 'system', 'some', 'of', 'thru', 'six', 'whereas', 'nor', 'front', 'others', 'inc', 'hence', 'the', 'myself', 'co', 'describe', 'wherein', 'i', 'formerly', 'done', 'more', 'which', 'few', 'being', 'per', 'he', 'so', 'everything', 'sixty', 'least', 'in', 'show', 'etc', 'where', 'seem', 'fill', 'mill', 'it', 'fifty', 'meanwhile', 'her', 'move', 'hereby', 'besides', 'un', 'eight', 'my', 'anyone', 'what', 'both', 'afterwards', 'ever', 'noone', 'nevertheless', 'behind', 'something', 'thence', 'itself', 'found', 'too', 'then', 'on', 'became', 'seeming', 'whereafter', 'those', 'whereupon', 'over', 'throughout', 'latterly', 'its', 'less', 'or', 'never', 'con', 'cannot', 'us', 'not', 'be', 'are', 'seems', 'last', 'hereafter', 'whence', 'beside', 'were', 're', 'since', 'herein', 'put', 'under', 'therefore', 'beyond', 'there', 'four', 'at', 'perhaps', 'again', 'by', 'until', 'amongst', 'fifteen', 'and', 'still', 'each', 'would', 'amount', 'among', 'go', 'twenty', 'will', 'much', 'without', 'about', 'hereupon', 'many', 'hasnt', 'eleven', 'for', 'though', 'along', 'across', 'sometime', 'could', 'their', 'always', 'whereby', 'fire', 'his', 'otherwise', 'was', 'bottom', 'latter', 'whither', 'upon', 'whatever', 'third', 'sometimes', 'yourself', 'detail', 'beforehand', 'me', 'five', 'someone', 'namely', 'you', 'into', 'must', 'nobody', 'same', 'below', 'take', 'become', 'against', 'hers', 'mostly', 'when', 'call', 'elsewhere', 'made', 'but', 'twelve', 'keep', 'give', 'another', 'somehow', 'interest', 'thin'})\n"
     ]
    }
   ],
   "source": [
    "from sklearn.feature_extraction import stop_words\n",
    "print(stop_words.ENGLISH_STOP_WORDS)"
   ]
  },
  {
   "cell_type": "markdown",
   "metadata": {},
   "source": [
    "You should have seen a large list of words that looks like:\n",
    "\n",
    "```frozenset({'across', 'mine', 'cannot', ...})```\n",
    "\n",
    "`frozenset` is a type of Python object that is immutable. In this lab you can use it just like an array without conversion."
   ]
  },
  {
   "cell_type": "markdown",
   "metadata": {},
   "source": [
    "Next, test your function with supplying `stop_words.ENGLISH_STOP_WORDS` as the second parameter."
   ]
  },
  {
   "cell_type": "code",
   "execution_count": 11,
   "metadata": {},
   "outputs": [
    {
     "name": "stdout",
     "output_type": "stream",
     "text": [
      "{'bag_of_words': ['ironhack', 'cool', 'love', 'student'], 'term_freq': [[1, 1, 0, 0], [1, 0, 1, 0], [1, 0, 0, 1]]}\n"
     ]
    }
   ],
   "source": [
    "bow = get_bow_from_docs(docs, stop_words.ENGLISH_STOP_WORDS)\n",
    "\n",
    "print(bow)"
   ]
  },
  {
   "cell_type": "markdown",
   "metadata": {},
   "source": [
    "You should have seen:\n",
    "\n",
    "```{'bag_of_words': ['ironhack', 'cool', 'love', 'student'], 'term_freq': [[1, 1, 0, 0], [1, 0, 1, 0], [1, 0, 0, 1]]}```"
   ]
  },
  {
   "cell_type": "code",
   "execution_count": null,
   "metadata": {},
   "outputs": [],
   "source": []
  }
 ],
 "metadata": {
  "kernelspec": {
   "display_name": "Python 3",
   "language": "python",
   "name": "python3"
  },
  "language_info": {
   "codemirror_mode": {
    "name": "ipython",
    "version": 3
   },
   "file_extension": ".py",
   "mimetype": "text/x-python",
   "name": "python",
   "nbconvert_exporter": "python",
   "pygments_lexer": "ipython3",
<<<<<<< HEAD
<<<<<<< HEAD
   "version": "3.7.4"
=======
   "version": "3.7.3"
>>>>>>> upstream/master
=======
   "version": "3.7.3"
>>>>>>> upstream/master
  }
 },
 "nbformat": 4,
 "nbformat_minor": 4
}
