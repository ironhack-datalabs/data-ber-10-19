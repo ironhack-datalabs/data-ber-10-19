{
 "cells": [
  {
   "cell_type": "markdown",
   "metadata": {},
   "source": [
    "In the cell below, create a Python function that wraps your previous solution for the Bag of Words lab.\n",
    "\n",
    "Requirements:\n",
    "\n",
    "1. Your function should accept the following parameters:\n",
    "    * `docs` [REQUIRED] - array of document paths.\n",
    "    * `stop_words` [OPTIONAL] - array of stop words. The default value is an empty array.\n",
    "\n",
    "1. Your function should return a Python object that contains the following:\n",
    "    * `bag_of_words` - array of strings of normalized unique words in the corpus.\n",
    "    * `term_freq` - array of the term-frequency vectors."
   ]
  },
  {
   "cell_type": "code",
   "execution_count": 1,
   "metadata": {},
   "outputs": [],
   "source": [
    "# Import required libraries\n",
    "\n",
    "# Define function\n",
    "def get_bow_from_docs(docs, stop_words=[]):\n",
    "    corpus = []\n",
    "    clean_corpus = []\n",
    "    bag_of_words = []\n",
    "    term_freq = []\n",
    "    freq = []\n",
    "  \n",
    "    \n",
    "    \n",
    "    \"\"\"\n",
    "    Loop `docs` and read the content of each doc into a string in `corpus`.\n",
    "    Remember to convert the doc content to lowercases and remove punctuation.\n",
    "    \"\"\"\n",
    "    for doc in docs:\n",
    "        corpus.append(open(doc,\"r\").read())\n",
    "    for corp in corpus:\n",
    "        clean_corpus.append(corp.lower().replace(\".\",\"\"))\n",
    "    \n",
    "    \"\"\"\n",
    "    Loop `corpus`. Append the terms in each doc into the `bag_of_words` array. The terms in `bag_of_words` \n",
    "    should be unique which means before adding each term you need to check if it's already added to the array.\n",
    "    In addition, check if each term is in the `stop_words` array. Only append the term to `bag_of_words`\n",
    "    if it is not a stop word.\n",
    "    \"\"\"\n",
    "\n",
    "    for line in corpus:\n",
    "        for word in line.split():\n",
    "            if (word not in bag_of_words) and (word not in stop_words):\n",
    "                bag_of_words.append(word)\n",
    "\n",
    "\n",
    "    \n",
    "    \n",
    "    \"\"\"\n",
    "    Loop `corpus` again. For each doc string, count the number of occurrences of each term in `bag_of_words`. \n",
    "    Create an array for each doc's term frequency and append it to `term_freq`.\n",
    "    \"\"\"\n",
    "    for line in corpus:\n",
    "        for word in bag_of_words:\n",
    "            freq.append(line.split().count(word))\n",
    "        term_freq.append(freq)\n",
    "    \n",
    "    \n",
    "    # Now return your output as an object\n",
    "    return {\n",
    "        \"bag_of_words\": bag_of_words,\n",
    "        \"term_freq\": term_freq\n",
    "    }\n",
    "    "
   ]
  },
  {
   "cell_type": "code",
   "execution_count": null,
   "metadata": {},
   "outputs": [],
   "source": []
  },
  {
   "cell_type": "code",
   "execution_count": null,
   "metadata": {},
   "outputs": [],
   "source": []
  },
  {
   "cell_type": "code",
   "execution_count": null,
   "metadata": {},
   "outputs": [],
   "source": []
  },
  {
   "cell_type": "code",
   "execution_count": null,
   "metadata": {},
   "outputs": [],
   "source": []
  },
  {
   "cell_type": "markdown",
   "metadata": {},
   "source": [
    "Test your function without stop words. You should see the output like below:\n",
    "\n",
    "```{'bag_of_words': ['ironhack', 'is', 'cool', 'i', 'love', 'am', 'a', 'student', 'at'], 'term_freq': [[1, 1, 1, 0, 0, 0, 0, 0, 0], [1, 0, 0, 1, 1, 0, 0, 0, 0], [1, 0, 0, 1, 0, 1, 1, 1, 1]]}```"
   ]
  },
  {
   "cell_type": "code",
   "execution_count": 2,
   "metadata": {},
   "outputs": [
    {
     "name": "stdout",
     "output_type": "stream",
     "text": [
      "{'bag_of_words': ['Ironhack', 'is', 'cool.', 'I', 'love', 'Ironhack.', 'am', 'a', 'student', 'at'], 'term_freq': [[1, 1, 1, 0, 0, 0, 0, 0, 0, 0, 0, 0, 0, 1, 1, 1, 0, 0, 0, 0, 0, 0, 0, 1, 0, 1, 1, 1, 1, 1], [1, 1, 1, 0, 0, 0, 0, 0, 0, 0, 0, 0, 0, 1, 1, 1, 0, 0, 0, 0, 0, 0, 0, 1, 0, 1, 1, 1, 1, 1], [1, 1, 1, 0, 0, 0, 0, 0, 0, 0, 0, 0, 0, 1, 1, 1, 0, 0, 0, 0, 0, 0, 0, 1, 0, 1, 1, 1, 1, 1]]}\n"
     ]
    }
   ],
   "source": [
    "# Define doc paths array\n",
    "docs = ['../../lab-string-operations/your-code/doc1.txt', '../../lab-string-operations/your-code/doc2.txt', '../../lab-string-operations/your-code/doc3.txt']\n",
    "\n",
    "# Obtain BoW from your function\n",
    "bow = get_bow_from_docs(docs)\n",
    "\n",
    "# Print BoW\n",
    "print(bow)"
   ]
  },
  {
   "cell_type": "markdown",
   "metadata": {},
   "source": [
    "If your attempt above is successful, nice work done!\n",
    "\n",
    "Now test your function again with the stop words. In the previous lab we defined the stop words in a large array. In this lab, we'll import the stop words from Scikit-Learn."
   ]
  },
  {
   "cell_type": "code",
   "execution_count": 4,
   "metadata": {},
   "outputs": [
    {
     "name": "stdout",
     "output_type": "stream",
     "text": [
      "frozenset({'during', 'six', 'am', 'describe', 'hers', 'would', 'all', 'since', 'few', 'whither', 'empty', 'anyone', 'fill', 'further', 'many', 'between', 'seems', 'her', 'been', 'same', 'here', 'made', 'our', 'them', 'former', 'beside', 'other', 'are', 'whenever', 'your', 'through', 'yours', 'the', 'de', 'therein', 'thereupon', 'thin', 'back', 'moreover', 'hence', 'mostly', 'to', 'inc', 'sixty', 'ten', 'sometime', 'otherwise', 'someone', 'too', 'interest', 'might', 'across', 'below', 'anyway', 'take', 'ever', 'be', 'either', 'could', 'thereafter', 'him', 'may', 'top', 'was', 'serious', 'whatever', 'five', 'nowhere', 'part', 'along', 'see', 'out', 'two', 'also', 'mine', 'do', 'itself', 'yourself', 'system', 'must', 're', 'onto', 'then', 'about', 'found', 'least', 'than', 'first', 'thence', 'when', 'without', 'nevertheless', 'perhaps', 'put', 'thus', 'in', 'yet', 'give', 'whether', 'become', 'down', 'an', 'last', 'always', 'something', 'can', 'meanwhile', 'elsewhere', 'three', 'there', 'own', 'next', 'together', 'well', 'both', 'toward', 'such', 'yourselves', 'whereas', 'most', 'sincere', 'somehow', 'my', 'herein', 'being', 'ours', 'a', 'no', 'became', 'full', 'name', 'if', 'you', 'around', 'everyone', 'even', 'should', 'again', 'eight', 'hereby', 'off', 'whereby', 'bill', 'keep', 'though', 'i', 'indeed', 'noone', 'therefore', 'couldnt', 'neither', 'throughout', 'because', 'rather', 'very', 'its', 'enough', 'nobody', 'ie', 'have', 'please', 'is', 'each', 'however', 'those', 'done', 'these', 'move', 'towards', 'others', 'me', 'hasnt', 'and', 'whereafter', 'forty', 'find', 'where', 'within', 'themselves', 'whose', 'what', 'thereby', 'hundred', 'front', 'twenty', 'beforehand', 'once', 'seemed', 'eleven', 'their', 'latter', 'whereupon', 'himself', 'cry', 'hereupon', 'on', 'until', 'for', 'becoming', 'several', 'thru', 'somewhere', 'while', 'behind', 'anywhere', 'anyhow', 'seem', 'against', 'call', 'hereafter', 'one', 'above', 'his', 'fifty', 'none', 'eg', 'why', 'amount', 'us', 'only', 'beyond', 'another', 'any', 'how', 'they', 'nothing', 'thick', 'detail', 'now', 'under', 'four', 'nor', 'among', 'ltd', 'whoever', 'becomes', 'she', 'who', 'it', 'up', 'fifteen', 'cannot', 'alone', 'with', 'or', 'still', 'get', 'more', 'except', 'anything', 'show', 'which', 'were', 'latterly', 'whole', 'amongst', 'cant', 'everything', 'due', 'myself', 'amoungst', 'via', 'from', 'we', 'ourselves', 'never', 'twelve', 'side', 'as', 'wherein', 'less', 'after', 'at', 'etc', 'un', 'upon', 'go', 'nine', 'will', 'so', 'namely', 'everywhere', 'mill', 'afterwards', 'con', 'this', 'has', 'by', 'before', 'that', 'third', 'but', 'besides', 'much', 'often', 'whom', 'sometimes', 'of', 'not', 'bottom', 'he', 'fire', 'almost', 'although', 'every', 'some', 'had', 'over', 'seeming', 'into', 'whence', 'wherever', 'per', 'formerly', 'co', 'already', 'else', 'herself'})\n"
     ]
    }
   ],
   "source": [
    "from sklearn.feature_extraction import stop_words\n",
    "print(stop_words.ENGLISH_STOP_WORDS)"
   ]
  },
  {
   "cell_type": "markdown",
   "metadata": {},
   "source": [
    "You should have seen a large list of words that looks like:\n",
    "\n",
    "```frozenset({'across', 'mine', 'cannot', ...})```\n",
    "\n",
    "`frozenset` is a type of Python object that is immutable. In this lab you can use it just like an array without conversion."
   ]
  },
  {
   "cell_type": "markdown",
   "metadata": {},
   "source": [
    "Next, test your function with supplying `stop_words.ENGLISH_STOP_WORDS` as the second parameter."
   ]
  },
  {
   "cell_type": "code",
   "execution_count": 5,
   "metadata": {},
   "outputs": [
    {
     "name": "stdout",
     "output_type": "stream",
     "text": [
      "{'bag_of_words': ['Ironhack', 'cool.', 'I', 'love', 'Ironhack.', 'student'], 'term_freq': [[1, 1, 0, 0, 0, 0, 0, 0, 1, 1, 1, 0, 0, 0, 1, 0, 1, 1], [1, 1, 0, 0, 0, 0, 0, 0, 1, 1, 1, 0, 0, 0, 1, 0, 1, 1], [1, 1, 0, 0, 0, 0, 0, 0, 1, 1, 1, 0, 0, 0, 1, 0, 1, 1]]}\n"
     ]
    }
   ],
   "source": [
    "bow = get_bow_from_docs(docs, stop_words.ENGLISH_STOP_WORDS)\n",
    "\n",
    "print(bow)"
   ]
  },
  {
   "cell_type": "markdown",
   "metadata": {},
   "source": [
    "You should have seen:\n",
    "\n",
    "```{'bag_of_words': ['ironhack', 'cool', 'love', 'student'], 'term_freq': [[1, 1, 0, 0], [1, 0, 1, 0], [1, 0, 0, 1]]}```"
   ]
  },
  {
   "cell_type": "code",
   "execution_count": null,
   "metadata": {},
   "outputs": [],
   "source": []
  }
 ],
 "metadata": {
  "kernelspec": {
   "display_name": "Python 3",
   "language": "python",
   "name": "python3"
  },
  "language_info": {
   "codemirror_mode": {
    "name": "ipython",
    "version": 3
   },
   "file_extension": ".py",
   "mimetype": "text/x-python",
   "name": "python",
   "nbconvert_exporter": "python",
   "pygments_lexer": "ipython3",
   "version": "3.7.4"
  }
 },
 "nbformat": 4,
 "nbformat_minor": 2
}
