{
 "cells": [
  {
   "cell_type": "code",
   "execution_count": 11,
   "metadata": {},
   "outputs": [],
   "source": [
    "import numpy as np\n",
    "new_matrix=np.empty((2,3,5), dtype=int)"
   ]
  },
  {
   "cell_type": "code",
   "execution_count": 12,
   "metadata": {},
   "outputs": [
    {
     "data": {
      "text/plain": [
       "array([[[8031659153836146712, 7596498844136600940, 7077469720184579446,\n",
       "         4134925004152595250, 3618129053651186733],\n",
       "        [7364286124399605814, 3401398814843691362, 8083791376949210998,\n",
       "         3832949685789160569, 4049078241598059830],\n",
       "        [7304671878641234993, 7305790138894743150, 7020109474172792680,\n",
       "         8097301071923799395, 7236281195445838188]],\n",
       "\n",
       "       [[8027777813298573407, 7305790138894738540, 7020109474172792680,\n",
       "         8097301071923799395, 7236281195445838188],\n",
       "        [8027777813298573407, 7305790138894738540, 7020109474172792680,\n",
       "         8097301071923799395, 7236281195445838188],\n",
       "        [8027777813298573407, 7305790138894738540, 7020109474172792680,\n",
       "         8097301071923799395, 3417228711435657580]]])"
      ]
     },
     "execution_count": 12,
     "metadata": {},
     "output_type": "execute_result"
    }
   ],
   "source": [
    "new_matrix"
   ]
  },
  {
   "cell_type": "code",
   "execution_count": 9,
   "metadata": {},
   "outputs": [
    {
     "name": "stdout",
     "output_type": "stream",
     "text": [
      "True\n",
      "True\n",
      "True\n",
      "False\n",
      "False\n",
      "True\n",
      "False\n",
      "True\n",
      "False\n",
      "False\n",
      "True\n",
      "True\n",
      "True\n",
      "True\n",
      "True\n",
      "True\n",
      "True\n",
      "True\n",
      "True\n",
      "True\n",
      "True\n",
      "True\n",
      "True\n",
      "True\n",
      "True\n",
      "True\n",
      "True\n",
      "True\n",
      "True\n",
      "False\n"
     ]
    }
   ],
   "source": [
    "for i in new_matrix:\n",
    "    for row in i:\n",
    "        for num in row:\n",
    "            if num >5:\n",
    "                print(True)\n",
    "            else:\n",
    "                print(False)"
   ]
  },
  {
   "cell_type": "code",
   "execution_count": 8,
   "metadata": {},
   "outputs": [
    {
     "name": "stdout",
     "output_type": "stream",
     "text": [
      "8.408969883379347e+228\n",
      "6.7420294453516366e+199\n",
      "1.3949360153549088e+165\n",
      "2.8048662953035036e-32\n",
      "8.225750905918402e-67\n",
      "2.0395750715649427e+184\n",
      "2.6613905940147603e-81\n",
      "2.4371585395753896e+232\n",
      "1.81380274397842e-52\n",
      "5.059226434411905e-38\n",
      "2.0363554700557042e+180\n",
      "2.513123099263587e+180\n",
      "1.9991313987390524e+161\n",
      "1.949483280859192e+233\n",
      "5.626308915417511e+175\n",
      "4.623450366112972e+228\n",
      "2.5131230992614634e+180\n",
      "1.9991313987390524e+161\n",
      "1.949483280859192e+233\n",
      "5.626308915417511e+175\n",
      "4.623450366112972e+228\n",
      "2.5131230992614634e+180\n",
      "1.9991313987390524e+161\n",
      "1.949483280859192e+233\n",
      "5.626308915417511e+175\n",
      "4.623450366112972e+228\n",
      "2.5131230992614634e+180\n",
      "1.9991313987390524e+161\n",
      "1.949483280859192e+233\n",
      "2.9976936682076257e-80\n"
     ]
    }
   ],
   "source": [
    "for i in new_matrix:\n",
    "    for row in i:\n",
    "        for num in row:\n",
    "            print(num)"
   ]
  },
  {
   "cell_type": "code",
   "execution_count": null,
   "metadata": {},
   "outputs": [],
   "source": []
  }
 ],
 "metadata": {
  "kernelspec": {
   "display_name": "Python 3",
   "language": "python",
   "name": "python3"
  },
  "language_info": {
   "codemirror_mode": {
    "name": "ipython",
    "version": 3
   },
   "file_extension": ".py",
   "mimetype": "text/x-python",
   "name": "python",
   "nbconvert_exporter": "python",
   "pygments_lexer": "ipython3",
   "version": "3.7.4"
  }
 },
 "nbformat": 4,
 "nbformat_minor": 2
}
