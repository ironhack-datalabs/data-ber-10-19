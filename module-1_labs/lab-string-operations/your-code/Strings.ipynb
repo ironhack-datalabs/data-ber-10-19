{
 "cells": [
  {
   "cell_type": "code",
   "execution_count": 1,
   "metadata": {},
   "outputs": [],
   "source": [
    "text = \"\"\"Hello, World. What? Here!\"\"\""
   ]
  },
  {
   "cell_type": "code",
   "execution_count": 2,
   "metadata": {},
   "outputs": [
    {
     "data": {
      "text/plain": [
       "'Hello, World. What? Here!'"
      ]
     },
     "execution_count": 2,
     "metadata": {},
     "output_type": "execute_result"
    }
   ],
   "source": [
    "text"
   ]
  },
  {
   "cell_type": "code",
   "execution_count": 4,
   "metadata": {},
   "outputs": [
    {
     "name": "stdout",
     "output_type": "stream",
     "text": [
      "HelloWorldWhatHere\n"
     ]
    }
   ],
   "source": [
    "signs = \",.?! \"\n",
    "t = text\n",
    "for char in signs:\n",
    "    t = t.replace(char,\"\")\n",
    "    \n",
    "print(t)"
   ]
  },
  {
   "cell_type": "code",
   "execution_count": 5,
   "metadata": {},
   "outputs": [
    {
     "data": {
      "text/plain": [
       "'Hello World. What? Here!'"
      ]
     },
     "execution_count": 5,
     "metadata": {},
     "output_type": "execute_result"
    }
   ],
   "source": [
    "text.replace(\",\",\"\")"
   ]
  },
  {
   "cell_type": "code",
   "execution_count": 6,
   "metadata": {},
   "outputs": [
    {
     "data": {
      "text/plain": [
       "str"
      ]
     },
     "execution_count": 6,
     "metadata": {},
     "output_type": "execute_result"
    }
   ],
   "source": [
    "type(text.replace(\",\",\"\"))"
   ]
  },
  {
   "cell_type": "code",
   "execution_count": 7,
   "metadata": {},
   "outputs": [
    {
     "data": {
      "text/plain": [
       "'Hello World What? Here!'"
      ]
     },
     "execution_count": 7,
     "metadata": {},
     "output_type": "execute_result"
    }
   ],
   "source": [
    "text.replace(\",\",\"\").replace(\".\",\"\")"
   ]
  },
  {
   "cell_type": "code",
   "execution_count": 8,
   "metadata": {},
   "outputs": [
    {
     "data": {
      "text/plain": [
       "'Hello World What Here'"
      ]
     },
     "execution_count": 8,
     "metadata": {},
     "output_type": "execute_result"
    }
   ],
   "source": [
    "text.replace(\",\",\"\").replace(\".\",\"\").replace(\"?\",\"\").replace(\"!\",\"\")"
   ]
  },
  {
   "cell_type": "code",
   "execution_count": 9,
   "metadata": {},
   "outputs": [
    {
     "data": {
      "text/plain": [
       "['Hello', 'World', 'What', 'Here']"
      ]
     },
     "execution_count": 9,
     "metadata": {},
     "output_type": "execute_result"
    }
   ],
   "source": [
    "words_only = []\n",
    "for word in text.split(\" \"):\n",
    "    words_only.append(word[0:-1])\n",
    "\n",
    "words_only"
   ]
  },
  {
   "cell_type": "code",
   "execution_count": 10,
   "metadata": {},
   "outputs": [],
   "source": [
    "import re"
   ]
  },
  {
   "cell_type": "code",
   "execution_count": 16,
   "metadata": {},
   "outputs": [
    {
     "data": {
      "text/plain": [
       "['Hello', 'World', 'What', 'Here']"
      ]
     },
     "execution_count": 16,
     "metadata": {},
     "output_type": "execute_result"
    }
   ],
   "source": [
    "re.findall(r\"\\w+\", text)"
   ]
  },
  {
   "cell_type": "code",
   "execution_count": 14,
   "metadata": {},
   "outputs": [
    {
     "name": "stdout",
     "output_type": "stream",
     "text": [
      "\"Hello\"\n"
     ]
    }
   ],
   "source": [
    "print('\"Hello\"')"
   ]
  },
  {
   "cell_type": "code",
   "execution_count": 18,
   "metadata": {},
   "outputs": [
    {
     "name": "stdout",
     "output_type": "stream",
     "text": [
      "0\n",
      "1\n",
      "2\n",
      "3\n",
      "5\n",
      "6\n",
      "7\n",
      "8\n"
     ]
    }
   ],
   "source": [
    "numbers = list(range(9))\n",
    "for number in numbers:\n",
    "    \n",
    "# ignore the value 4\n",
    "\n",
    "    if number == 4:\n",
    "        continue\n",
    "    print(number)"
   ]
  },
  {
   "cell_type": "code",
   "execution_count": 19,
   "metadata": {},
   "outputs": [
    {
     "name": "stdout",
     "output_type": "stream",
     "text": [
      "0\n",
      "1\n",
      "2\n",
      "3\n",
      "5\n",
      "6\n",
      "7\n",
      "8\n"
     ]
    }
   ],
   "source": [
    "numbers = list(range(9))\n",
    "for number in numbers:\n",
    "    \n",
    "# ignore the value 4\n",
    "\n",
    " if number != 4:\n",
    "    print(number)"
   ]
  },
  {
   "cell_type": "code",
   "execution_count": 20,
   "metadata": {},
   "outputs": [],
   "source": [
    "a = \"Hello\"\n",
    "b = \"world\""
   ]
  },
  {
   "cell_type": "code",
   "execution_count": 21,
   "metadata": {},
   "outputs": [
    {
     "data": {
      "text/plain": [
       "'Hello world'"
      ]
     },
     "execution_count": 21,
     "metadata": {},
     "output_type": "execute_result"
    }
   ],
   "source": [
    "a + \" \" + b"
   ]
  },
  {
   "cell_type": "code",
   "execution_count": 22,
   "metadata": {},
   "outputs": [
    {
     "data": {
      "text/plain": [
       "'Hello world'"
      ]
     },
     "execution_count": 22,
     "metadata": {},
     "output_type": "execute_result"
    }
   ],
   "source": [
    "\" \".join([\"Hello\",\"world\"])"
   ]
  },
  {
   "cell_type": "code",
   "execution_count": 23,
   "metadata": {},
   "outputs": [
    {
     "data": {
      "text/plain": [
       "['Hello', 'world']"
      ]
     },
     "execution_count": 23,
     "metadata": {},
     "output_type": "execute_result"
    }
   ],
   "source": [
    "\"Hello world\".split(\" \")"
   ]
  },
  {
   "cell_type": "code",
   "execution_count": 24,
   "metadata": {},
   "outputs": [
    {
     "data": {
      "text/plain": [
       "'Hello World'"
      ]
     },
     "execution_count": 24,
     "metadata": {},
     "output_type": "execute_result"
    }
   ],
   "source": [
    "\" Hello World \".strip()"
   ]
  },
  {
   "cell_type": "code",
   "execution_count": 25,
   "metadata": {},
   "outputs": [],
   "source": [
    "e = \"'Is it real?'\""
   ]
  },
  {
   "cell_type": "code",
   "execution_count": 26,
   "metadata": {},
   "outputs": [
    {
     "name": "stdout",
     "output_type": "stream",
     "text": [
      "'Is it real?'\n"
     ]
    }
   ],
   "source": [
    "print(e)"
   ]
  },
  {
   "cell_type": "code",
   "execution_count": 28,
   "metadata": {},
   "outputs": [
    {
     "name": "stdout",
     "output_type": "stream",
     "text": [
      "\"Is it real?\"\n"
     ]
    }
   ],
   "source": [
    "print(e.replace(\"'\",'\"'))"
   ]
  },
  {
   "cell_type": "code",
   "execution_count": 29,
   "metadata": {},
   "outputs": [
    {
     "data": {
      "text/plain": [
       "\"'is it real?'\""
      ]
     },
     "execution_count": 29,
     "metadata": {},
     "output_type": "execute_result"
    }
   ],
   "source": [
    "e.lower()"
   ]
  },
  {
   "cell_type": "code",
   "execution_count": 34,
   "metadata": {},
   "outputs": [
    {
     "data": {
      "text/plain": [
       "['Inidia', 'ice', 'iris']"
      ]
     },
     "execution_count": 34,
     "metadata": {},
     "output_type": "execute_result"
    }
   ],
   "source": [
    "i = [\"Inidia\",\"ice\",\"Hund\",\"iris\",\"Vogel\"]\n",
    "\n",
    "words_with_i = []\n",
    "for word in i:\n",
    "    if word.lower().startswith(\"i\"):\n",
    "        words_with_i.append(word)\n",
    "        \n",
    "words_with_i"
   ]
  },
  {
   "cell_type": "code",
   "execution_count": 35,
   "metadata": {},
   "outputs": [],
   "source": [
    "import re"
   ]
  },
  {
   "cell_type": "code",
   "execution_count": 40,
   "metadata": {},
   "outputs": [
    {
     "data": {
      "text/plain": [
       "['google']"
      ]
     },
     "execution_count": 40,
     "metadata": {},
     "output_type": "execute_result"
    }
   ],
   "source": [
    "urls = [\n",
    "    \"www.google.com/sdfdsfgf\",\n",
    "    \"www.twitter.com/dksfhdkjhskf\",\n",
    "    \"www.myspace.com/nbdfbmsbfmf95\",\n",
    "    \"www.ironhack.com/ndnfnfms\",\n",
    "    \"www.spiegel.de/msfmssf\"\n",
    "]\n",
    "\n",
    "url_pattern = \"^www\\.(.+)\\.\"\n",
    "\n",
    "re.findall(url_pattern, urls[0])"
   ]
  },
  {
   "cell_type": "code",
   "execution_count": 41,
   "metadata": {},
   "outputs": [
    {
     "data": {
      "text/plain": [
       "['google', 'twitter', 'myspace', 'ironhack', 'spiegel']"
      ]
     },
     "execution_count": 41,
     "metadata": {},
     "output_type": "execute_result"
    }
   ],
   "source": [
    "urls = [\n",
    "    \"www.google.com/sdfdsfgf\",\n",
    "    \"www.twitter.com/dksfhdkjhskf\",\n",
    "    \"www.myspace.com/nbdfbmsbfmf95\",\n",
    "    \"www.ironhack.com/ndnfnfms\",\n",
    "    \"www.spiegel.de/msfmssf\"\n",
    "]\n",
    "\n",
    "url_pattern = \"^www\\.(.+)\\.\"\n",
    "\n",
    "domains = []\n",
    "for url in urls:\n",
    "    domains.append(re.findall(url_pattern,url)[0])\n",
    "\n",
    "domains"
   ]
  },
  {
   "cell_type": "code",
   "execution_count": 42,
   "metadata": {},
   "outputs": [
    {
     "name": "stdout",
     "output_type": "stream",
     "text": [
      "My name is Mano\n"
     ]
    }
   ],
   "source": [
    "# STRING INTERPOLATION\n",
    "name = \"Mano\"\n",
    "print(f\"My name is {name}\")"
   ]
  },
  {
   "cell_type": "code",
   "execution_count": 43,
   "metadata": {},
   "outputs": [
    {
     "name": "stdout",
     "output_type": "stream",
     "text": [
      "My name is ManoMano\n"
     ]
    }
   ],
   "source": [
    "name1 = \"Mano\"\n",
    "print(f\"My name is {name1+name1}\")"
   ]
  },
  {
   "cell_type": "code",
   "execution_count": 44,
   "metadata": {},
   "outputs": [
    {
     "name": "stdout",
     "output_type": "stream",
     "text": [
      "My name is ManoManoManoManoMano\n"
     ]
    }
   ],
   "source": [
    "name2 = \"Mano\"\n",
    "print(f\"My name is {name2 * 5}\")"
   ]
  },
  {
   "cell_type": "code",
   "execution_count": 55,
   "metadata": {},
   "outputs": [
    {
     "name": "stdout",
     "output_type": "stream",
     "text": [
      "Mano has 10 Oranges\n",
      "Tessa has 3 Apples\n",
      "Isabell has 100 Grapefruits\n",
      "Liz has 1 Banana\n"
     ]
    }
   ],
   "source": [
    "fruits = [\n",
    "    {\"name\": \"Mano\",\"fruit\":\"Orange\",\"quantity\": 10},\n",
    "    {\"name\": \"Tessa\",\"fruit\":\"Apple\",\"quantity\": 3},\n",
    "    {\"name\": \"Isabell\",\"fruit\":\"Grapefruit\",\"quantity\": 100},\n",
    "    {\"name\": \"Liz\",\"fruit\":\"Banana\",\"quantity\": 1}\n",
    "]\n",
    "\n",
    "for person in fruits:\n",
    "    print(f\"{person['name']} has {person['quantity']} {person['fruit']}\\\n",
    "{'s' if person['quantity'] > 1 else ''}\"\"\")"
   ]
  },
  {
   "cell_type": "code",
   "execution_count": 56,
   "metadata": {},
   "outputs": [
    {
     "name": "stdout",
     "output_type": "stream",
     "text": [
      "Mano has 10 Oranges\n",
      "Tessa has 3 Apples\n",
      "Isabell has 100 Grapefruits\n",
      "Liz has 1 Banana\n"
     ]
    }
   ],
   "source": [
    "for person in fruits:\n",
    "    print(\"{} has {} {}{}\".format(person[\"name\"],\n",
    "                                  person[\"quantity\"],\n",
    "                                  person[\"fruit\"],\n",
    "                                  \"s\" if person[\"quantity\"]>1 else \"\"))"
   ]
  },
  {
   "cell_type": "code",
   "execution_count": null,
   "metadata": {},
   "outputs": [],
   "source": []
  }
 ],
 "metadata": {
  "kernelspec": {
   "display_name": "Python 3",
   "language": "python",
   "name": "python3"
  },
  "language_info": {
   "codemirror_mode": {
    "name": "ipython",
    "version": 3
   },
   "file_extension": ".py",
   "mimetype": "text/x-python",
   "name": "python",
   "nbconvert_exporter": "python",
   "pygments_lexer": "ipython3",
   "version": "3.7.4"
  }
 },
 "nbformat": 4,
 "nbformat_minor": 2
}
