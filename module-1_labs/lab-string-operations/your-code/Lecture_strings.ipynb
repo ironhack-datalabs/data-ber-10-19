{
 "cells": [
  {
   "cell_type": "code",
   "execution_count": 1,
   "metadata": {},
   "outputs": [
    {
     "data": {
      "text/plain": [
       "'Hello world'"
      ]
     },
     "execution_count": 1,
     "metadata": {},
     "output_type": "execute_result"
    }
   ],
   "source": [
    "a = \"Hello\"\n",
    "b = \"world\"\n",
    "a + \" \" + b"
   ]
  },
  {
   "cell_type": "code",
   "execution_count": 2,
   "metadata": {},
   "outputs": [
    {
     "data": {
      "text/plain": [
       "'Hello world'"
      ]
     },
     "execution_count": 2,
     "metadata": {},
     "output_type": "execute_result"
    }
   ],
   "source": [
    "\" \".join([\"Hello\", \"world\"])"
   ]
  },
  {
   "cell_type": "code",
   "execution_count": 3,
   "metadata": {},
   "outputs": [
    {
     "data": {
      "text/plain": [
       "['Hello', 'world']"
      ]
     },
     "execution_count": 3,
     "metadata": {},
     "output_type": "execute_result"
    }
   ],
   "source": [
    "\"Hello world\".split(\" \")"
   ]
  },
  {
   "cell_type": "code",
   "execution_count": 4,
   "metadata": {},
   "outputs": [
    {
     "data": {
      "text/plain": [
       "'Hello world'"
      ]
     },
     "execution_count": 4,
     "metadata": {},
     "output_type": "execute_result"
    }
   ],
   "source": [
    "\" Hello world \".strip()"
   ]
  },
  {
   "cell_type": "code",
   "execution_count": 5,
   "metadata": {},
   "outputs": [
    {
     "name": "stdout",
     "output_type": "stream",
     "text": [
      "'Is it real?'\n"
     ]
    }
   ],
   "source": [
    "e = \"'Is it real?'\"\n",
    "print(e)"
   ]
  },
  {
   "cell_type": "code",
   "execution_count": 12,
   "metadata": {},
   "outputs": [
    {
     "name": "stdout",
     "output_type": "stream",
     "text": [
      "\"Is it real?\"\n"
     ]
    }
   ],
   "source": [
    "print(e.replace(\"'\", '\"'))"
   ]
  },
  {
   "cell_type": "code",
   "execution_count": 13,
   "metadata": {},
   "outputs": [
    {
     "data": {
      "text/plain": [
       "\"'IS IT REAL?'\""
      ]
     },
     "execution_count": 13,
     "metadata": {},
     "output_type": "execute_result"
    }
   ],
   "source": [
    "e.lower()\n",
    "e.upper()"
   ]
  },
  {
   "cell_type": "code",
   "execution_count": 16,
   "metadata": {},
   "outputs": [
    {
     "data": {
      "text/plain": [
       "['Inidia', 'ice', 'iris']"
      ]
     },
     "execution_count": 16,
     "metadata": {},
     "output_type": "execute_result"
    }
   ],
   "source": [
    "i = [\"Inidia\", \"ice\", \"Hund\", \"iris\", \"Vogel\"]\n",
    "\n",
    "words_with_i = []\n",
    "\n",
    "for word in i:\n",
    "    if word.lower().startswith(\"i\"):\n",
    "        words_with_i.append(word)\n",
    "\n",
    "words_with_i"
   ]
  },
  {
   "cell_type": "code",
   "execution_count": 17,
   "metadata": {},
   "outputs": [
    {
     "data": {
      "text/plain": [
       "['google', 'twitter', 'myspace', 'ironhack', 'spiegel']"
      ]
     },
     "execution_count": 17,
     "metadata": {},
     "output_type": "execute_result"
    }
   ],
   "source": [
    "import re\n",
    "\n",
    "urls = [\n",
    "    \"www.google.com/hdjshn\",\n",
    "    \"www.twitter.com/hdjshn\",\n",
    "    \"www.myspace.com/hdjshn\",\n",
    "    \"www.ironhack.com/hdjshn\",\n",
    "    \"www.spiegel.de/hdjshn\"\n",
    "]\n",
    "\n",
    "url_pattern = \"^www\\.(.+)\\.\"\n",
    "\n",
    "domains = []\n",
    "\n",
    "for url in urls:\n",
    "    domains.append(re.findall(url_pattern, url)[0])\n",
    "    \n",
    "domains\n"
   ]
  },
  {
   "cell_type": "markdown",
   "metadata": {},
   "source": [
    "# String Interpolation"
   ]
  },
  {
   "cell_type": "code",
   "execution_count": 19,
   "metadata": {},
   "outputs": [
    {
     "name": "stdout",
     "output_type": "stream",
     "text": [
      "My name is Mano\n"
     ]
    }
   ],
   "source": [
    "name = \"Mano\"\n",
    "print(f\"My name is {name}\")"
   ]
  },
  {
   "cell_type": "code",
   "execution_count": 21,
   "metadata": {},
   "outputs": [
    {
     "name": "stdout",
     "output_type": "stream",
     "text": [
      "Mano has 10 Oranges\n",
      "Tessa has 3 Apples\n",
      "Isabel has 100 Grapefruits\n"
     ]
    }
   ],
   "source": [
    "fruits = [\n",
    "    {\"name\": \"Mano\",\n",
    "    \"fruit\": \"Orange\",\n",
    "    \"quantity\": 10},\n",
    "    {\"name\": \"Tessa\",\n",
    "    \"fruit\": \"Apple\",\n",
    "    \"quantity\": 3},\n",
    "    {\"name\": \"Isabel\",\n",
    "    \"fruit\": \"Grapefruit\",\n",
    "    \"quantity\": 100},\n",
    "]\n",
    "\n",
    "for person in fruits:\n",
    "    print(f\"{person['name']} has {person['quantity']} {person['fruit']}{'s' if person['quantity'] > 1 else ''}\")"
   ]
  },
  {
   "cell_type": "code",
   "execution_count": 25,
   "metadata": {},
   "outputs": [
    {
     "name": "stdout",
     "output_type": "stream",
     "text": [
      "Mano has 10 Oranges\n",
      "Tessa has 3 Apples\n",
      "Isabel has 100 Grapefruits\n"
     ]
    }
   ],
   "source": [
    "for person in fruits:\n",
    "    print(f\"\"\"{person['name']} has {person['quantity']} {person['fruit']}{'s' if person['quantity'] > 1 else ''}\"\"\")"
   ]
  },
  {
   "cell_type": "code",
   "execution_count": null,
   "metadata": {},
   "outputs": [],
   "source": []
  }
 ],
 "metadata": {
  "kernelspec": {
   "display_name": "Python 3",
   "language": "python",
   "name": "python3"
  },
  "language_info": {
   "codemirror_mode": {
    "name": "ipython",
    "version": 3
   },
   "file_extension": ".py",
   "mimetype": "text/x-python",
   "name": "python",
   "nbconvert_exporter": "python",
   "pygments_lexer": "ipython3",
   "version": "3.7.4"
  }
 },
 "nbformat": 4,
 "nbformat_minor": 2
}
