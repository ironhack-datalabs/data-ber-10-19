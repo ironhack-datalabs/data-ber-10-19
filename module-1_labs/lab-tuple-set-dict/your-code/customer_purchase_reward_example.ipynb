{
 "cells": [
  {
   "cell_type": "code",
   "execution_count": 12,
   "metadata": {},
   "outputs": [],
   "source": [
    "import random\n",
    "shoppers = random.sample(range(40), 20)"
   ]
  },
  {
   "cell_type": "code",
   "execution_count": 15,
   "metadata": {},
   "outputs": [
    {
     "data": {
      "text/plain": [
       "[1, 0, 2, 0, 3, 2, 2, 3, 3, 2, 1, 0, 1, 3, 0, 2, 1, 3, 2, 2]"
      ]
     },
     "execution_count": 15,
     "metadata": {},
     "output_type": "execute_result"
    }
   ],
   "source": [
    "shoppers\n",
    "\n",
    "[int(i / 10) for i in shoppers]\n"
   ]
  },
  {
   "cell_type": "code",
   "execution_count": 16,
   "metadata": {},
   "outputs": [
    {
     "name": "stdout",
     "output_type": "stream",
     "text": [
      "candybar\n",
      "BUY MORE!\n",
      "cake\n",
      "BUY MORE!\n",
      "steak\n",
      "cake\n",
      "cake\n",
      "steak\n",
      "steak\n",
      "cake\n",
      "candybar\n",
      "BUY MORE!\n",
      "candybar\n",
      "steak\n",
      "BUY MORE!\n",
      "cake\n",
      "candybar\n",
      "steak\n",
      "cake\n",
      "cake\n"
     ]
    }
   ],
   "source": [
    "for purchase_price in shoppers:\n",
    "    if int(purchase_price /10) == 3:\n",
    "        print(\"steak\")\n",
    "    elif int(purchase_price /10) == 2:\n",
    "        print(\"cake\")\n",
    "    elif int(purchase_price /10) == 1:\n",
    "        print(\"candybar\")\n",
    "    else:\n",
    "        print(\"BUY MORE!\")"
   ]
  },
  {
   "cell_type": "code",
   "execution_count": 24,
   "metadata": {},
   "outputs": [],
   "source": [
    "rewards ={\n",
    "    0: \"BUY MORE!\",\n",
    "    1: \"candybar\",\n",
    "    2: \"cake\",\n",
    "    3: \"bikes\"}"
   ]
  },
  {
   "cell_type": "code",
   "execution_count": 29,
   "metadata": {},
   "outputs": [],
   "source": [
    "def candybar():\n",
    "    print(\"You got a candybar!\")\n",
    "\n",
    "def cake():\n",
    "    print (\"cake cake cake\")   \n",
    "        \n",
    "def bikes():\n",
    "    print(\"Wear a helmet!\")\n",
    "\n",
    "def buy_more():\n",
    "    print(\"BUY MORE!\")\n",
    "\n",
    "rewards_from_funcs ={\n",
    "    0: buy_more,\n",
    "    1: candybar,\n",
    "    2: cake,\n",
    "    3: bikes}"
   ]
  },
  {
   "cell_type": "code",
   "execution_count": 30,
   "metadata": {},
   "outputs": [
    {
     "name": "stdout",
     "output_type": "stream",
     "text": [
      "You got a candybar!\n",
      "BUY MORE!\n",
      "cake cake cake\n",
      "BUY MORE!\n",
      "Wear a helmet!\n",
      "cake cake cake\n",
      "cake cake cake\n",
      "Wear a helmet!\n",
      "Wear a helmet!\n",
      "cake cake cake\n",
      "You got a candybar!\n",
      "BUY MORE!\n",
      "You got a candybar!\n",
      "Wear a helmet!\n",
      "BUY MORE!\n",
      "cake cake cake\n",
      "You got a candybar!\n",
      "Wear a helmet!\n",
      "cake cake cake\n",
      "cake cake cake\n"
     ]
    }
   ],
   "source": [
    "for purchase_price in shoppers:\n",
    "    truncated_price = int(purchase_price / 10)\n",
    "    rewards_from_funcs[truncated_price]()"
   ]
  },
  {
   "cell_type": "code",
   "execution_count": 33,
   "metadata": {},
   "outputs": [],
   "source": [
    "text = \"Fischers Fritz fischt frische Fische\""
   ]
  },
  {
   "cell_type": "code",
   "execution_count": 34,
   "metadata": {},
   "outputs": [
    {
     "data": {
      "text/plain": [
       "'fischers fritz fischt frische fische'"
      ]
     },
     "execution_count": 34,
     "metadata": {},
     "output_type": "execute_result"
    }
   ],
   "source": [
    "text.lower()"
   ]
  },
  {
   "cell_type": "code",
   "execution_count": 37,
   "metadata": {},
   "outputs": [
    {
     "data": {
      "text/plain": [
       "{'f': 5,\n",
       " 'i': 5,\n",
       " 's': 5,\n",
       " 'c': 4,\n",
       " 'h': 4,\n",
       " 'e': 3,\n",
       " 'r': 3,\n",
       " ' ': 4,\n",
       " 't': 2,\n",
       " 'z': 1}"
      ]
     },
     "execution_count": 37,
     "metadata": {},
     "output_type": "execute_result"
    }
   ],
   "source": [
    "#item potency\n",
    "\n",
    "letter_occurences = {}\n",
    "\n",
    "for letter in text.lower():\n",
    "    if letter in letter_occurences:\n",
    "        letter_occurences[letter] += 1\n",
    "    else:\n",
    "        letter_occurences[letter] = 1\n",
    "\n",
    "letter_occurences"
   ]
  },
  {
   "cell_type": "code",
   "execution_count": null,
   "metadata": {},
   "outputs": [],
   "source": []
  }
 ],
 "metadata": {
  "kernelspec": {
   "display_name": "Python 3",
   "language": "python",
   "name": "python3"
  },
  "language_info": {
   "codemirror_mode": {
    "name": "ipython",
    "version": 3
   },
   "file_extension": ".py",
   "mimetype": "text/x-python",
   "name": "python",
   "nbconvert_exporter": "python",
   "pygments_lexer": "ipython3",
   "version": "3.7.4"
  }
 },
 "nbformat": 4,
 "nbformat_minor": 2
}
