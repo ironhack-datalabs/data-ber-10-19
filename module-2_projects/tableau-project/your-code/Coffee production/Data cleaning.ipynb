{
 "cells": [
  {
   "cell_type": "markdown",
   "metadata": {},
   "source": [
    "# Data cleaning \n",
    "\n",
    "In total we collected 5 csv files with data of different aspects of coffee production that we will later explore. All files will be imported in this notebook. We will examine each file and 4 of the files will go through the following data cleaning process with a function:\n",
    "\n",
    "1. Convert csv file to a dataframe\n",
    "2. Drop unncessary columns\n",
    "3. Rename columns\n",
    "4. Rearrange columns\n",
    "5. Export to cleaned csv files\n",
    "\n",
    "Exception: \n",
    "- Data for 'production_quantity' has different column name for country. We will do it seperately without function. "
   ]
  },
  {
   "cell_type": "code",
   "execution_count": 95,
   "metadata": {},
   "outputs": [],
   "source": [
    "import pandas as pd"
   ]
  },
  {
   "cell_type": "markdown",
   "metadata": {},
   "source": [
    "## Dataframe 1 : production_quantity"
   ]
  },
  {
   "cell_type": "code",
   "execution_count": 105,
   "metadata": {},
   "outputs": [],
   "source": [
    "# Convert csv file to dataframe\n",
    "production_quantity = pd.read_csv('./original_data/production_quantity.csv')"
   ]
  },
  {
   "cell_type": "code",
   "execution_count": 106,
   "metadata": {},
   "outputs": [],
   "source": [
    "# Drop unnecessary columns\n",
    "to_drop = ['Domain Code','Domain','Country Code','Element Code','Element','Item Code','Item','Year Code','Flag','Flag Description']\n",
    "\n",
    "production_quantity = production_quantity.drop(to_drop,axis=1)"
   ]
  },
  {
   "cell_type": "code",
   "execution_count": 107,
   "metadata": {},
   "outputs": [],
   "source": [
    "# Rename columns\n",
    "production_quantity = production_quantity.rename({'Value': 'production_quantity'},axis=1)"
   ]
  },
  {
   "cell_type": "code",
   "execution_count": 108,
   "metadata": {},
   "outputs": [],
   "source": [
    "# Rearrange columns\n",
    "production_quantity = production_quantity[['Country','Year','production_quantity','Unit']]"
   ]
  },
  {
   "cell_type": "code",
   "execution_count": 113,
   "metadata": {},
   "outputs": [
    {
     "data": {
      "text/html": [
       "<div>\n",
       "<style scoped>\n",
       "    .dataframe tbody tr th:only-of-type {\n",
       "        vertical-align: middle;\n",
       "    }\n",
       "\n",
       "    .dataframe tbody tr th {\n",
       "        vertical-align: top;\n",
       "    }\n",
       "\n",
       "    .dataframe thead th {\n",
       "        text-align: right;\n",
       "    }\n",
       "</style>\n",
       "<table border=\"1\" class=\"dataframe\">\n",
       "  <thead>\n",
       "    <tr style=\"text-align: right;\">\n",
       "      <th></th>\n",
       "      <th>Country</th>\n",
       "      <th>Year</th>\n",
       "      <th>production_quantity</th>\n",
       "      <th>Unit</th>\n",
       "    </tr>\n",
       "  </thead>\n",
       "  <tbody>\n",
       "    <tr>\n",
       "      <th>0</th>\n",
       "      <td>Angola</td>\n",
       "      <td>1961</td>\n",
       "      <td>169</td>\n",
       "      <td>1000 tonnes</td>\n",
       "    </tr>\n",
       "    <tr>\n",
       "      <th>1</th>\n",
       "      <td>Angola</td>\n",
       "      <td>1962</td>\n",
       "      <td>185</td>\n",
       "      <td>1000 tonnes</td>\n",
       "    </tr>\n",
       "    <tr>\n",
       "      <th>2</th>\n",
       "      <td>Angola</td>\n",
       "      <td>1963</td>\n",
       "      <td>168</td>\n",
       "      <td>1000 tonnes</td>\n",
       "    </tr>\n",
       "    <tr>\n",
       "      <th>3</th>\n",
       "      <td>Angola</td>\n",
       "      <td>1964</td>\n",
       "      <td>198</td>\n",
       "      <td>1000 tonnes</td>\n",
       "    </tr>\n",
       "    <tr>\n",
       "      <th>4</th>\n",
       "      <td>Angola</td>\n",
       "      <td>1965</td>\n",
       "      <td>205</td>\n",
       "      <td>1000 tonnes</td>\n",
       "    </tr>\n",
       "    <tr>\n",
       "      <th>...</th>\n",
       "      <td>...</td>\n",
       "      <td>...</td>\n",
       "      <td>...</td>\n",
       "      <td>...</td>\n",
       "    </tr>\n",
       "    <tr>\n",
       "      <th>3970</th>\n",
       "      <td>China</td>\n",
       "      <td>2009</td>\n",
       "      <td>70</td>\n",
       "      <td>1000 tonnes</td>\n",
       "    </tr>\n",
       "    <tr>\n",
       "      <th>3971</th>\n",
       "      <td>China</td>\n",
       "      <td>2010</td>\n",
       "      <td>50</td>\n",
       "      <td>1000 tonnes</td>\n",
       "    </tr>\n",
       "    <tr>\n",
       "      <th>3972</th>\n",
       "      <td>China</td>\n",
       "      <td>2011</td>\n",
       "      <td>65</td>\n",
       "      <td>1000 tonnes</td>\n",
       "    </tr>\n",
       "    <tr>\n",
       "      <th>3973</th>\n",
       "      <td>China</td>\n",
       "      <td>2012</td>\n",
       "      <td>92</td>\n",
       "      <td>1000 tonnes</td>\n",
       "    </tr>\n",
       "    <tr>\n",
       "      <th>3974</th>\n",
       "      <td>China</td>\n",
       "      <td>2013</td>\n",
       "      <td>117</td>\n",
       "      <td>1000 tonnes</td>\n",
       "    </tr>\n",
       "  </tbody>\n",
       "</table>\n",
       "<p>3975 rows × 4 columns</p>\n",
       "</div>"
      ],
      "text/plain": [
       "     Country  Year  production_quantity         Unit\n",
       "0     Angola  1961                  169  1000 tonnes\n",
       "1     Angola  1962                  185  1000 tonnes\n",
       "2     Angola  1963                  168  1000 tonnes\n",
       "3     Angola  1964                  198  1000 tonnes\n",
       "4     Angola  1965                  205  1000 tonnes\n",
       "...      ...   ...                  ...          ...\n",
       "3970   China  2009                   70  1000 tonnes\n",
       "3971   China  2010                   50  1000 tonnes\n",
       "3972   China  2011                   65  1000 tonnes\n",
       "3973   China  2012                   92  1000 tonnes\n",
       "3974   China  2013                  117  1000 tonnes\n",
       "\n",
       "[3975 rows x 4 columns]"
      ]
     },
     "execution_count": 113,
     "metadata": {},
     "output_type": "execute_result"
    }
   ],
   "source": [
    "production_quantity"
   ]
  },
  {
   "cell_type": "code",
   "execution_count": 114,
   "metadata": {},
   "outputs": [],
   "source": [
    "production_quantity.to_csv(f'./cleaned_data/production_quantity_c.csv')"
   ]
  },
  {
   "cell_type": "markdown",
   "metadata": {},
   "source": [
    "## Dataframes 2-4: gross_production_value, primary_forest, pesticides_usage\n",
    "\n",
    "- Define a function for cleaning"
   ]
  },
  {
   "cell_type": "code",
   "execution_count": 110,
   "metadata": {},
   "outputs": [],
   "source": [
    "def csv_to_dataframe(filename):\n",
    "    df = pd.read_csv(f'./original_data/{filename}.csv')\n",
    "    to_drop = ['Domain Code','Domain','Area Code','Element Code','Element','Item Code','Item','Year Code','Flag','Flag Description']\n",
    "    df = (df.drop(to_drop,axis=1)\n",
    "            .rename({'Area':'Country','Value': f'{filename}'},axis=1)[['Country','Year',f'{filename}','Unit']])\n",
    "    filename = df.copy()\n",
    "    return filename\n",
    "                        \n",
    "    "
   ]
  },
  {
   "cell_type": "markdown",
   "metadata": {},
   "source": [
    "- Save all dataframes first into a dictionary"
   ]
  },
  {
   "cell_type": "code",
   "execution_count": 112,
   "metadata": {},
   "outputs": [],
   "source": [
    "files= ['gross_production_value','primary_forest','pesticides_usage','crop_residue']\n",
    "\n",
    "df_dict={}\n",
    "for file in files:\n",
    "    csv_to_dataframe(file).to_csv(f'./cleaned_data/{file}_c.csv')\n",
    "    "
   ]
  },
  {
   "cell_type": "code",
   "execution_count": null,
   "metadata": {},
   "outputs": [],
   "source": []
  }
 ],
 "metadata": {
  "kernelspec": {
   "display_name": "Python 3",
   "language": "python",
   "name": "python3"
  },
  "language_info": {
   "codemirror_mode": {
    "name": "ipython",
    "version": 3
   },
   "file_extension": ".py",
   "mimetype": "text/x-python",
   "name": "python",
   "nbconvert_exporter": "python",
   "pygments_lexer": "ipython3",
   "version": "3.7.4"
  }
 },
 "nbformat": 4,
 "nbformat_minor": 2
}
