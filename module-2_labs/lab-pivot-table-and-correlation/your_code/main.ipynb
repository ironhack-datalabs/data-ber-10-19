{
 "cells": [
  {
   "cell_type": "markdown",
   "metadata": {},
   "source": [
    "# Before you start :\n",
    "   - These exercises are related to the Pivot table and correlation lessons.\n",
    "   - Keep in mind that you need to use some of the functions you learned in the previous lessons.\n",
    "   - All datasets are provided in the `your-code` folder of this lab.\n",
    "   - Elaborate your codes and outputs as much as you can.\n",
    "   - Try your best to answer the questions and complete the tasks and most importantly enjoy the process!!!"
   ]
  },
  {
   "cell_type": "markdown",
   "metadata": {},
   "source": [
    "#### Import all the libraries that are necessary"
   ]
  },
  {
   "cell_type": "code",
<<<<<<< HEAD
   "execution_count": 8,
   "metadata": {},
=======
   "execution_count": 1,
   "metadata": {
    "collapsed": true,
    "jupyter": {
     "outputs_hidden": true
    }
   },
>>>>>>> upstream/master
   "outputs": [],
   "source": [
    "# import libraries here\n",
    "\n",
    "import pandas as pd\n",
    "import numpy as np"
   ]
  },
  {
   "cell_type": "markdown",
   "metadata": {},
   "source": [
    "# Challenge 1"
   ]
  },
  {
   "cell_type": "markdown",
   "metadata": {},
   "source": [
    "#### Open the ` Employee.csv` file and name your dataset `employee`"
   ]
  },
  {
   "cell_type": "code",
   "execution_count": 2,
<<<<<<< HEAD
   "metadata": {},
=======
   "metadata": {
    "collapsed": false,
    "jupyter": {
     "outputs_hidden": false
    }
   },
>>>>>>> upstream/master
   "outputs": [],
   "source": [
    "# your answer here\n",
    "\n",
    "employee = pd.read_csv('Employee.csv')"
   ]
  },
  {
   "cell_type": "code",
   "execution_count": 3,
   "metadata": {},
   "outputs": [
    {
     "data": {
      "text/html": [
       "<div>\n",
       "<style scoped>\n",
       "    .dataframe tbody tr th:only-of-type {\n",
       "        vertical-align: middle;\n",
       "    }\n",
       "\n",
       "    .dataframe tbody tr th {\n",
       "        vertical-align: top;\n",
       "    }\n",
       "\n",
       "    .dataframe thead th {\n",
       "        text-align: right;\n",
       "    }\n",
       "</style>\n",
       "<table border=\"1\" class=\"dataframe\">\n",
       "  <thead>\n",
       "    <tr style=\"text-align: right;\">\n",
       "      <th></th>\n",
       "      <th>Name</th>\n",
       "      <th>Department</th>\n",
       "      <th>Education</th>\n",
       "      <th>Gender</th>\n",
       "      <th>Title</th>\n",
       "      <th>Years</th>\n",
       "      <th>Salary</th>\n",
       "    </tr>\n",
       "  </thead>\n",
       "  <tbody>\n",
       "    <tr>\n",
       "      <td>0</td>\n",
       "      <td>Jose</td>\n",
       "      <td>IT</td>\n",
       "      <td>Bachelor</td>\n",
       "      <td>M</td>\n",
       "      <td>analyst</td>\n",
       "      <td>1</td>\n",
       "      <td>35</td>\n",
       "    </tr>\n",
       "    <tr>\n",
       "      <td>1</td>\n",
       "      <td>Maria</td>\n",
       "      <td>IT</td>\n",
       "      <td>Master</td>\n",
       "      <td>F</td>\n",
       "      <td>analyst</td>\n",
       "      <td>2</td>\n",
       "      <td>30</td>\n",
       "    </tr>\n",
       "    <tr>\n",
       "      <td>2</td>\n",
       "      <td>David</td>\n",
       "      <td>HR</td>\n",
       "      <td>Master</td>\n",
       "      <td>M</td>\n",
       "      <td>analyst</td>\n",
       "      <td>2</td>\n",
       "      <td>30</td>\n",
       "    </tr>\n",
       "    <tr>\n",
       "      <td>3</td>\n",
       "      <td>Sonia</td>\n",
       "      <td>HR</td>\n",
       "      <td>Bachelor</td>\n",
       "      <td>F</td>\n",
       "      <td>analyst</td>\n",
       "      <td>4</td>\n",
       "      <td>35</td>\n",
       "    </tr>\n",
       "    <tr>\n",
       "      <td>4</td>\n",
       "      <td>Samuel</td>\n",
       "      <td>Sales</td>\n",
       "      <td>Master</td>\n",
       "      <td>M</td>\n",
       "      <td>associate</td>\n",
       "      <td>3</td>\n",
       "      <td>55</td>\n",
       "    </tr>\n",
       "    <tr>\n",
       "      <td>5</td>\n",
       "      <td>Eva</td>\n",
       "      <td>Sales</td>\n",
       "      <td>Bachelor</td>\n",
       "      <td>F</td>\n",
       "      <td>associate</td>\n",
       "      <td>2</td>\n",
       "      <td>55</td>\n",
       "    </tr>\n",
       "    <tr>\n",
       "      <td>6</td>\n",
       "      <td>Carlos</td>\n",
       "      <td>IT</td>\n",
       "      <td>Master</td>\n",
       "      <td>M</td>\n",
       "      <td>VP</td>\n",
       "      <td>8</td>\n",
       "      <td>70</td>\n",
       "    </tr>\n",
       "    <tr>\n",
       "      <td>7</td>\n",
       "      <td>Pedro</td>\n",
       "      <td>IT</td>\n",
       "      <td>Phd</td>\n",
       "      <td>M</td>\n",
       "      <td>associate</td>\n",
       "      <td>7</td>\n",
       "      <td>60</td>\n",
       "    </tr>\n",
       "    <tr>\n",
       "      <td>8</td>\n",
       "      <td>Ana</td>\n",
       "      <td>HR</td>\n",
       "      <td>Master</td>\n",
       "      <td>F</td>\n",
       "      <td>VP</td>\n",
       "      <td>8</td>\n",
       "      <td>70</td>\n",
       "    </tr>\n",
       "  </tbody>\n",
       "</table>\n",
       "</div>"
      ],
      "text/plain": [
       "     Name Department Education Gender      Title  Years  Salary\n",
       "0    Jose         IT  Bachelor      M    analyst      1      35\n",
       "1   Maria         IT    Master      F    analyst      2      30\n",
       "2   David         HR    Master      M    analyst      2      30\n",
       "3   Sonia         HR  Bachelor      F    analyst      4      35\n",
       "4  Samuel      Sales    Master      M  associate      3      55\n",
       "5     Eva      Sales  Bachelor      F  associate      2      55\n",
       "6  Carlos         IT    Master      M         VP      8      70\n",
       "7   Pedro         IT       Phd      M  associate      7      60\n",
       "8     Ana         HR    Master      F         VP      8      70"
      ]
     },
     "execution_count": 3,
     "metadata": {},
     "output_type": "execute_result"
    }
   ],
   "source": [
    "employee"
   ]
  },
  {
   "cell_type": "markdown",
   "metadata": {},
   "source": [
    "#### What's the mean salary by department. \n",
    "##### Tip : There are 2 ways to do it - one way is with and the other way is without pivot tables. Do it both ways. \n"
   ]
  },
  {
   "cell_type": "code",
<<<<<<< HEAD
   "execution_count": 7,
   "metadata": {},
   "outputs": [
    {
     "data": {
      "text/html": [
       "<div>\n",
       "<style scoped>\n",
       "    .dataframe tbody tr th:only-of-type {\n",
       "        vertical-align: middle;\n",
       "    }\n",
       "\n",
       "    .dataframe tbody tr th {\n",
       "        vertical-align: top;\n",
       "    }\n",
       "\n",
       "    .dataframe thead th {\n",
       "        text-align: right;\n",
       "    }\n",
       "</style>\n",
       "<table border=\"1\" class=\"dataframe\">\n",
       "  <thead>\n",
       "    <tr style=\"text-align: right;\">\n",
       "      <th></th>\n",
       "      <th>Salary</th>\n",
       "    </tr>\n",
       "    <tr>\n",
       "      <th>Department</th>\n",
       "      <th></th>\n",
       "    </tr>\n",
       "  </thead>\n",
       "  <tbody>\n",
       "    <tr>\n",
       "      <td>HR</td>\n",
       "      <td>45.00</td>\n",
       "    </tr>\n",
       "    <tr>\n",
       "      <td>IT</td>\n",
       "      <td>48.75</td>\n",
       "    </tr>\n",
       "    <tr>\n",
       "      <td>Sales</td>\n",
       "      <td>55.00</td>\n",
       "    </tr>\n",
       "  </tbody>\n",
       "</table>\n",
       "</div>"
      ],
      "text/plain": [
       "            Salary\n",
       "Department        \n",
       "HR           45.00\n",
       "IT           48.75\n",
       "Sales        55.00"
      ]
     },
     "execution_count": 7,
     "metadata": {},
     "output_type": "execute_result"
    }
   ],
   "source": [
    "# your answer here-1st way\n",
    "\n",
    "# without pivot\n",
    "\n",
    "employee[['Department', 'Salary']].groupby(['Department']).mean()"
=======
   "execution_count": 3,
   "metadata": {
    "collapsed": false,
    "jupyter": {
     "outputs_hidden": false
    }
   },
   "outputs": [],
   "source": [
    "# your answer here-1st way"
>>>>>>> upstream/master
   ]
  },
  {
   "cell_type": "code",
<<<<<<< HEAD
   "execution_count": 12,
   "metadata": {},
   "outputs": [
    {
     "data": {
      "text/html": [
       "<div>\n",
       "<style scoped>\n",
       "    .dataframe tbody tr th:only-of-type {\n",
       "        vertical-align: middle;\n",
       "    }\n",
       "\n",
       "    .dataframe tbody tr th {\n",
       "        vertical-align: top;\n",
       "    }\n",
       "\n",
       "    .dataframe thead th {\n",
       "        text-align: right;\n",
       "    }\n",
       "</style>\n",
       "<table border=\"1\" class=\"dataframe\">\n",
       "  <thead>\n",
       "    <tr style=\"text-align: right;\">\n",
       "      <th></th>\n",
       "      <th>Salary</th>\n",
       "    </tr>\n",
       "    <tr>\n",
       "      <th>Department</th>\n",
       "      <th></th>\n",
       "    </tr>\n",
       "  </thead>\n",
       "  <tbody>\n",
       "    <tr>\n",
       "      <td>HR</td>\n",
       "      <td>45.00</td>\n",
       "    </tr>\n",
       "    <tr>\n",
       "      <td>IT</td>\n",
       "      <td>48.75</td>\n",
       "    </tr>\n",
       "    <tr>\n",
       "      <td>Sales</td>\n",
       "      <td>55.00</td>\n",
       "    </tr>\n",
       "  </tbody>\n",
       "</table>\n",
       "</div>"
      ],
      "text/plain": [
       "            Salary\n",
       "Department        \n",
       "HR           45.00\n",
       "IT           48.75\n",
       "Sales        55.00"
      ]
     },
     "execution_count": 12,
     "metadata": {},
     "output_type": "execute_result"
    }
   ],
   "source": [
    "# your answer here-2nd way\n",
    "\n",
    "# with pivot\n",
    "\n",
    "employee.pivot_table(index=[\"Department\"], values=[\"Salary\"], aggfunc=np.mean)"
=======
   "execution_count": 4,
   "metadata": {
    "collapsed": false,
    "jupyter": {
     "outputs_hidden": false
    }
   },
   "outputs": [],
   "source": [
    "# your answer here-2nd way"
>>>>>>> upstream/master
   ]
  },
  {
   "cell_type": "markdown",
   "metadata": {},
   "source": [
    "#### We want now to group the data by more than one column. Use Pandas pivot table function to select the mean salary by department and title"
   ]
  },
  {
   "cell_type": "code",
<<<<<<< HEAD
   "execution_count": 11,
   "metadata": {},
   "outputs": [
    {
     "data": {
      "text/html": [
       "<div>\n",
       "<style scoped>\n",
       "    .dataframe tbody tr th:only-of-type {\n",
       "        vertical-align: middle;\n",
       "    }\n",
       "\n",
       "    .dataframe tbody tr th {\n",
       "        vertical-align: top;\n",
       "    }\n",
       "\n",
       "    .dataframe thead th {\n",
       "        text-align: right;\n",
       "    }\n",
       "</style>\n",
       "<table border=\"1\" class=\"dataframe\">\n",
       "  <thead>\n",
       "    <tr style=\"text-align: right;\">\n",
       "      <th></th>\n",
       "      <th></th>\n",
       "      <th>Salary</th>\n",
       "    </tr>\n",
       "    <tr>\n",
       "      <th>Department</th>\n",
       "      <th>Title</th>\n",
       "      <th></th>\n",
       "    </tr>\n",
       "  </thead>\n",
       "  <tbody>\n",
       "    <tr>\n",
       "      <td rowspan=\"2\" valign=\"top\">HR</td>\n",
       "      <td>VP</td>\n",
       "      <td>70.0</td>\n",
       "    </tr>\n",
       "    <tr>\n",
       "      <td>analyst</td>\n",
       "      <td>32.5</td>\n",
       "    </tr>\n",
       "    <tr>\n",
       "      <td rowspan=\"3\" valign=\"top\">IT</td>\n",
       "      <td>VP</td>\n",
       "      <td>70.0</td>\n",
       "    </tr>\n",
       "    <tr>\n",
       "      <td>analyst</td>\n",
       "      <td>32.5</td>\n",
       "    </tr>\n",
       "    <tr>\n",
       "      <td>associate</td>\n",
       "      <td>60.0</td>\n",
       "    </tr>\n",
       "    <tr>\n",
       "      <td>Sales</td>\n",
       "      <td>associate</td>\n",
       "      <td>55.0</td>\n",
       "    </tr>\n",
       "  </tbody>\n",
       "</table>\n",
       "</div>"
      ],
      "text/plain": [
       "                      Salary\n",
       "Department Title            \n",
       "HR         VP           70.0\n",
       "           analyst      32.5\n",
       "IT         VP           70.0\n",
       "           analyst      32.5\n",
       "           associate    60.0\n",
       "Sales      associate    55.0"
      ]
     },
     "execution_count": 11,
     "metadata": {},
     "output_type": "execute_result"
    }
   ],
   "source": [
    "# your answer here\n",
    "\n",
    "employee.pivot_table(index=[\"Department\", \"Title\"], values=[\"Salary\"], aggfunc=np.mean)"
=======
   "execution_count": 5,
   "metadata": {
    "collapsed": false,
    "jupyter": {
     "outputs_hidden": false
    }
   },
   "outputs": [],
   "source": [
    "# your answer here"
>>>>>>> upstream/master
   ]
  },
  {
   "cell_type": "markdown",
   "metadata": {},
   "source": [
    "#### We want to display the number of years of work experience and the salary for each Title. Add Years as a column in your pivot table\n",
    "*Hint: Use Pandas doc(see References in README.md) to explore the pivot_table() arguments*"
   ]
  },
  {
   "cell_type": "code",
<<<<<<< HEAD
   "execution_count": 14,
   "metadata": {},
   "outputs": [
    {
     "data": {
      "text/html": [
       "<div>\n",
       "<style scoped>\n",
       "    .dataframe tbody tr th:only-of-type {\n",
       "        vertical-align: middle;\n",
       "    }\n",
       "\n",
       "    .dataframe tbody tr th {\n",
       "        vertical-align: top;\n",
       "    }\n",
       "\n",
       "    .dataframe thead tr th {\n",
       "        text-align: left;\n",
       "    }\n",
       "\n",
       "    .dataframe thead tr:last-of-type th {\n",
       "        text-align: right;\n",
       "    }\n",
       "</style>\n",
       "<table border=\"1\" class=\"dataframe\">\n",
       "  <thead>\n",
       "    <tr>\n",
       "      <th></th>\n",
       "      <th colspan=\"6\" halign=\"left\">Salary</th>\n",
       "    </tr>\n",
       "    <tr>\n",
       "      <th>Years</th>\n",
       "      <th>1</th>\n",
       "      <th>2</th>\n",
       "      <th>3</th>\n",
       "      <th>4</th>\n",
       "      <th>7</th>\n",
       "      <th>8</th>\n",
       "    </tr>\n",
       "    <tr>\n",
       "      <th>Title</th>\n",
       "      <th></th>\n",
       "      <th></th>\n",
       "      <th></th>\n",
       "      <th></th>\n",
       "      <th></th>\n",
       "      <th></th>\n",
       "    </tr>\n",
       "  </thead>\n",
       "  <tbody>\n",
       "    <tr>\n",
       "      <td>VP</td>\n",
       "      <td>NaN</td>\n",
       "      <td>NaN</td>\n",
       "      <td>NaN</td>\n",
       "      <td>NaN</td>\n",
       "      <td>NaN</td>\n",
       "      <td>70.0</td>\n",
       "    </tr>\n",
       "    <tr>\n",
       "      <td>analyst</td>\n",
       "      <td>35.0</td>\n",
       "      <td>30.0</td>\n",
       "      <td>NaN</td>\n",
       "      <td>35.0</td>\n",
       "      <td>NaN</td>\n",
       "      <td>NaN</td>\n",
       "    </tr>\n",
       "    <tr>\n",
       "      <td>associate</td>\n",
       "      <td>NaN</td>\n",
       "      <td>55.0</td>\n",
       "      <td>55.0</td>\n",
       "      <td>NaN</td>\n",
       "      <td>60.0</td>\n",
       "      <td>NaN</td>\n",
       "    </tr>\n",
       "  </tbody>\n",
       "</table>\n",
       "</div>"
      ],
      "text/plain": [
       "          Salary                              \n",
       "Years          1     2     3     4     7     8\n",
       "Title                                         \n",
       "VP           NaN   NaN   NaN   NaN   NaN  70.0\n",
       "analyst     35.0  30.0   NaN  35.0   NaN   NaN\n",
       "associate    NaN  55.0  55.0   NaN  60.0   NaN"
      ]
     },
     "execution_count": 14,
     "metadata": {},
     "output_type": "execute_result"
    }
   ],
   "source": [
    "# your answer here\n",
    "\n",
    "employee.pivot_table(values=[\"Salary\"], index=[\"Title\"], columns=\"Years\")"
=======
   "execution_count": 6,
   "metadata": {
    "collapsed": false,
    "jupyter": {
     "outputs_hidden": false
    }
   },
   "outputs": [],
   "source": [
    "# your answer here"
>>>>>>> upstream/master
   ]
  },
  {
   "cell_type": "markdown",
   "metadata": {},
   "source": [
    "#### We want to know the information about the mean salary and number of employees in each department and for each job title"
   ]
  },
  {
   "cell_type": "code",
<<<<<<< HEAD
   "execution_count": 20,
   "metadata": {},
   "outputs": [
    {
     "data": {
      "text/html": [
       "<div>\n",
       "<style scoped>\n",
       "    .dataframe tbody tr th:only-of-type {\n",
       "        vertical-align: middle;\n",
       "    }\n",
       "\n",
       "    .dataframe tbody tr th {\n",
       "        vertical-align: top;\n",
       "    }\n",
       "\n",
       "    .dataframe thead tr th {\n",
       "        text-align: left;\n",
       "    }\n",
       "\n",
       "    .dataframe thead tr:last-of-type th {\n",
       "        text-align: right;\n",
       "    }\n",
       "</style>\n",
       "<table border=\"1\" class=\"dataframe\">\n",
       "  <thead>\n",
       "    <tr>\n",
       "      <th></th>\n",
       "      <th></th>\n",
       "      <th>mean</th>\n",
       "      <th>count</th>\n",
       "    </tr>\n",
       "    <tr>\n",
       "      <th></th>\n",
       "      <th></th>\n",
       "      <th>Salary</th>\n",
       "      <th>Salary</th>\n",
       "    </tr>\n",
       "    <tr>\n",
       "      <th>Department</th>\n",
       "      <th>Title</th>\n",
       "      <th></th>\n",
       "      <th></th>\n",
       "    </tr>\n",
       "  </thead>\n",
       "  <tbody>\n",
       "    <tr>\n",
       "      <td rowspan=\"2\" valign=\"top\">HR</td>\n",
       "      <td>VP</td>\n",
       "      <td>70.0</td>\n",
       "      <td>1</td>\n",
       "    </tr>\n",
       "    <tr>\n",
       "      <td>analyst</td>\n",
       "      <td>32.5</td>\n",
       "      <td>2</td>\n",
       "    </tr>\n",
       "    <tr>\n",
       "      <td rowspan=\"3\" valign=\"top\">IT</td>\n",
       "      <td>VP</td>\n",
       "      <td>70.0</td>\n",
       "      <td>1</td>\n",
       "    </tr>\n",
       "    <tr>\n",
       "      <td>analyst</td>\n",
       "      <td>32.5</td>\n",
       "      <td>2</td>\n",
       "    </tr>\n",
       "    <tr>\n",
       "      <td>associate</td>\n",
       "      <td>60.0</td>\n",
       "      <td>1</td>\n",
       "    </tr>\n",
       "    <tr>\n",
       "      <td>Sales</td>\n",
       "      <td>associate</td>\n",
       "      <td>55.0</td>\n",
       "      <td>2</td>\n",
       "    </tr>\n",
       "  </tbody>\n",
       "</table>\n",
       "</div>"
      ],
      "text/plain": [
       "                       mean  count\n",
       "                     Salary Salary\n",
       "Department Title                  \n",
       "HR         VP          70.0      1\n",
       "           analyst     32.5      2\n",
       "IT         VP          70.0      1\n",
       "           analyst     32.5      2\n",
       "           associate   60.0      1\n",
       "Sales      associate   55.0      2"
      ]
     },
     "execution_count": 20,
     "metadata": {},
     "output_type": "execute_result"
    }
   ],
   "source": [
    "# your answer here\n",
    "\n",
    "# employee['No Employees'] =\n",
    "\n",
    "employee.pivot_table(values=[\"Salary\"], index=[\"Department\",\"Title\"], aggfunc=['mean', 'count'])"
=======
   "execution_count": 7,
   "metadata": {
    "collapsed": false,
    "jupyter": {
     "outputs_hidden": false
    }
   },
   "outputs": [],
   "source": [
    "# your answer here"
>>>>>>> upstream/master
   ]
  },
  {
   "cell_type": "markdown",
   "metadata": {},
   "source": [
    "#### We want to know for each department and for each job title the Salary's median,minimum,maximum and standard deviation. Comment your results"
   ]
  },
  {
   "cell_type": "code",
<<<<<<< HEAD
   "execution_count": 22,
   "metadata": {},
   "outputs": [
    {
     "data": {
      "text/html": [
       "<div>\n",
       "<style scoped>\n",
       "    .dataframe tbody tr th:only-of-type {\n",
       "        vertical-align: middle;\n",
       "    }\n",
       "\n",
       "    .dataframe tbody tr th {\n",
       "        vertical-align: top;\n",
       "    }\n",
       "\n",
       "    .dataframe thead tr th {\n",
       "        text-align: left;\n",
       "    }\n",
       "\n",
       "    .dataframe thead tr:last-of-type th {\n",
       "        text-align: right;\n",
       "    }\n",
       "</style>\n",
       "<table border=\"1\" class=\"dataframe\">\n",
       "  <thead>\n",
       "    <tr>\n",
       "      <th></th>\n",
       "      <th></th>\n",
       "      <th>median</th>\n",
       "      <th>min</th>\n",
       "      <th>max</th>\n",
       "      <th>std</th>\n",
       "    </tr>\n",
       "    <tr>\n",
       "      <th></th>\n",
       "      <th></th>\n",
       "      <th>Salary</th>\n",
       "      <th>Salary</th>\n",
       "      <th>Salary</th>\n",
       "      <th>Salary</th>\n",
       "    </tr>\n",
       "    <tr>\n",
       "      <th>Department</th>\n",
       "      <th>Title</th>\n",
       "      <th></th>\n",
       "      <th></th>\n",
       "      <th></th>\n",
       "      <th></th>\n",
       "    </tr>\n",
       "  </thead>\n",
       "  <tbody>\n",
       "    <tr>\n",
       "      <td rowspan=\"2\" valign=\"top\">HR</td>\n",
       "      <td>VP</td>\n",
       "      <td>70.0</td>\n",
       "      <td>70</td>\n",
       "      <td>70</td>\n",
       "      <td>NaN</td>\n",
       "    </tr>\n",
       "    <tr>\n",
       "      <td>analyst</td>\n",
       "      <td>32.5</td>\n",
       "      <td>30</td>\n",
       "      <td>35</td>\n",
       "      <td>3.535534</td>\n",
       "    </tr>\n",
       "    <tr>\n",
       "      <td rowspan=\"3\" valign=\"top\">IT</td>\n",
       "      <td>VP</td>\n",
       "      <td>70.0</td>\n",
       "      <td>70</td>\n",
       "      <td>70</td>\n",
       "      <td>NaN</td>\n",
       "    </tr>\n",
       "    <tr>\n",
       "      <td>analyst</td>\n",
       "      <td>32.5</td>\n",
       "      <td>30</td>\n",
       "      <td>35</td>\n",
       "      <td>3.535534</td>\n",
       "    </tr>\n",
       "    <tr>\n",
       "      <td>associate</td>\n",
       "      <td>60.0</td>\n",
       "      <td>60</td>\n",
       "      <td>60</td>\n",
       "      <td>NaN</td>\n",
       "    </tr>\n",
       "    <tr>\n",
       "      <td>Sales</td>\n",
       "      <td>associate</td>\n",
       "      <td>55.0</td>\n",
       "      <td>55</td>\n",
       "      <td>55</td>\n",
       "      <td>0.000000</td>\n",
       "    </tr>\n",
       "  </tbody>\n",
       "</table>\n",
       "</div>"
      ],
      "text/plain": [
       "                     median    min    max       std\n",
       "                     Salary Salary Salary    Salary\n",
       "Department Title                                   \n",
       "HR         VP          70.0     70     70       NaN\n",
       "           analyst     32.5     30     35  3.535534\n",
       "IT         VP          70.0     70     70       NaN\n",
       "           analyst     32.5     30     35  3.535534\n",
       "           associate   60.0     60     60       NaN\n",
       "Sales      associate   55.0     55     55  0.000000"
      ]
     },
     "execution_count": 22,
     "metadata": {},
     "output_type": "execute_result"
    }
   ],
   "source": [
    "# your answer here\n",
    "\n",
    "employee.pivot_table(values=[\"Salary\"], index=[\"Department\",\"Title\"], aggfunc=['median', 'min', 'max', 'std'])"
=======
   "execution_count": 8,
   "metadata": {
    "collapsed": false,
    "jupyter": {
     "outputs_hidden": false
    }
   },
   "outputs": [],
   "source": [
    "# your answer here"
>>>>>>> upstream/master
   ]
  },
  {
   "cell_type": "markdown",
   "metadata": {},
   "source": [
    "#### Based on your comments, fill the missing values with an appropriate value"
   ]
  },
  {
   "cell_type": "code",
<<<<<<< HEAD
   "execution_count": 23,
   "metadata": {},
   "outputs": [
    {
     "data": {
      "text/html": [
       "<div>\n",
       "<style scoped>\n",
       "    .dataframe tbody tr th:only-of-type {\n",
       "        vertical-align: middle;\n",
       "    }\n",
       "\n",
       "    .dataframe tbody tr th {\n",
       "        vertical-align: top;\n",
       "    }\n",
       "\n",
       "    .dataframe thead tr th {\n",
       "        text-align: left;\n",
       "    }\n",
       "\n",
       "    .dataframe thead tr:last-of-type th {\n",
       "        text-align: right;\n",
       "    }\n",
       "</style>\n",
       "<table border=\"1\" class=\"dataframe\">\n",
       "  <thead>\n",
       "    <tr>\n",
       "      <th></th>\n",
       "      <th></th>\n",
       "      <th>median</th>\n",
       "      <th>min</th>\n",
       "      <th>max</th>\n",
       "      <th>std</th>\n",
       "    </tr>\n",
       "    <tr>\n",
       "      <th></th>\n",
       "      <th></th>\n",
       "      <th>Salary</th>\n",
       "      <th>Salary</th>\n",
       "      <th>Salary</th>\n",
       "      <th>Salary</th>\n",
       "    </tr>\n",
       "    <tr>\n",
       "      <th>Department</th>\n",
       "      <th>Title</th>\n",
       "      <th></th>\n",
       "      <th></th>\n",
       "      <th></th>\n",
       "      <th></th>\n",
       "    </tr>\n",
       "  </thead>\n",
       "  <tbody>\n",
       "    <tr>\n",
       "      <td rowspan=\"2\" valign=\"top\">HR</td>\n",
       "      <td>VP</td>\n",
       "      <td>70.0</td>\n",
       "      <td>70</td>\n",
       "      <td>70</td>\n",
       "      <td>NaN</td>\n",
       "    </tr>\n",
       "    <tr>\n",
       "      <td>analyst</td>\n",
       "      <td>32.5</td>\n",
       "      <td>30</td>\n",
       "      <td>35</td>\n",
       "      <td>3.535534</td>\n",
       "    </tr>\n",
       "    <tr>\n",
       "      <td rowspan=\"3\" valign=\"top\">IT</td>\n",
       "      <td>VP</td>\n",
       "      <td>70.0</td>\n",
       "      <td>70</td>\n",
       "      <td>70</td>\n",
       "      <td>NaN</td>\n",
       "    </tr>\n",
       "    <tr>\n",
       "      <td>analyst</td>\n",
       "      <td>32.5</td>\n",
       "      <td>30</td>\n",
       "      <td>35</td>\n",
       "      <td>3.535534</td>\n",
       "    </tr>\n",
       "    <tr>\n",
       "      <td>associate</td>\n",
       "      <td>60.0</td>\n",
       "      <td>60</td>\n",
       "      <td>60</td>\n",
       "      <td>NaN</td>\n",
       "    </tr>\n",
       "    <tr>\n",
       "      <td>Sales</td>\n",
       "      <td>associate</td>\n",
       "      <td>55.0</td>\n",
       "      <td>55</td>\n",
       "      <td>55</td>\n",
       "      <td>0.000000</td>\n",
       "    </tr>\n",
       "  </tbody>\n",
       "</table>\n",
       "</div>"
      ],
      "text/plain": [
       "                     median    min    max       std\n",
       "                     Salary Salary Salary    Salary\n",
       "Department Title                                   \n",
       "HR         VP          70.0     70     70       NaN\n",
       "           analyst     32.5     30     35  3.535534\n",
       "IT         VP          70.0     70     70       NaN\n",
       "           analyst     32.5     30     35  3.535534\n",
       "           associate   60.0     60     60       NaN\n",
       "Sales      associate   55.0     55     55  0.000000"
      ]
     },
     "execution_count": 23,
     "metadata": {},
     "output_type": "execute_result"
    }
   ],
   "source": [
    "# your answer here\n",
    "\n",
    "#employee.pivot_table(values=[\"Salary\"], index=[\"Department\",\"Title\"], aggfunc=['median', 'min', 'max', 'std'], fill_value=0)"
=======
   "execution_count": 9,
   "metadata": {
    "collapsed": false,
    "jupyter": {
     "outputs_hidden": false
    }
   },
   "outputs": [],
   "source": [
    "# your answer here"
>>>>>>> upstream/master
   ]
  },
  {
   "cell_type": "markdown",
   "metadata": {},
   "source": [
    "#### The stake holders want to know for each department the number of employees and how much money is spend on salaries. Could you provide that information? "
   ]
  },
  {
   "cell_type": "code",
<<<<<<< HEAD
   "execution_count": 25,
   "metadata": {},
   "outputs": [
    {
     "data": {
      "text/html": [
       "<div>\n",
       "<style scoped>\n",
       "    .dataframe tbody tr th:only-of-type {\n",
       "        vertical-align: middle;\n",
       "    }\n",
       "\n",
       "    .dataframe tbody tr th {\n",
       "        vertical-align: top;\n",
       "    }\n",
       "\n",
       "    .dataframe thead tr th {\n",
       "        text-align: left;\n",
       "    }\n",
       "\n",
       "    .dataframe thead tr:last-of-type th {\n",
       "        text-align: right;\n",
       "    }\n",
       "</style>\n",
       "<table border=\"1\" class=\"dataframe\">\n",
       "  <thead>\n",
       "    <tr>\n",
       "      <th></th>\n",
       "      <th>sum</th>\n",
       "      <th>count</th>\n",
       "    </tr>\n",
       "    <tr>\n",
       "      <th></th>\n",
       "      <th>Salary</th>\n",
       "      <th>Salary</th>\n",
       "    </tr>\n",
       "    <tr>\n",
       "      <th>Department</th>\n",
       "      <th></th>\n",
       "      <th></th>\n",
       "    </tr>\n",
       "  </thead>\n",
       "  <tbody>\n",
       "    <tr>\n",
       "      <td>HR</td>\n",
       "      <td>135</td>\n",
       "      <td>3</td>\n",
       "    </tr>\n",
       "    <tr>\n",
       "      <td>IT</td>\n",
       "      <td>195</td>\n",
       "      <td>4</td>\n",
       "    </tr>\n",
       "    <tr>\n",
       "      <td>Sales</td>\n",
       "      <td>110</td>\n",
       "      <td>2</td>\n",
       "    </tr>\n",
       "  </tbody>\n",
       "</table>\n",
       "</div>"
      ],
      "text/plain": [
       "              sum  count\n",
       "           Salary Salary\n",
       "Department              \n",
       "HR            135      3\n",
       "IT            195      4\n",
       "Sales         110      2"
      ]
     },
     "execution_count": 25,
     "metadata": {},
     "output_type": "execute_result"
    }
   ],
   "source": [
    "# your answer here\n",
    "\n",
    "employee.pivot_table(values=[\"Salary\"], index=[\"Department\"], aggfunc=['sum','count'])"
=======
   "execution_count": 10,
   "metadata": {
    "collapsed": false,
    "jupyter": {
     "outputs_hidden": false
    }
   },
   "outputs": [],
   "source": [
    "# your answer here"
>>>>>>> upstream/master
   ]
  },
  {
   "cell_type": "markdown",
   "metadata": {},
   "source": [
    "#### For each Department and Title, we want to know the the total years of work experience and the mean salary"
   ]
  },
  {
   "cell_type": "code",
<<<<<<< HEAD
   "execution_count": 36,
   "metadata": {},
   "outputs": [
    {
     "data": {
      "text/html": [
       "<div>\n",
       "<style scoped>\n",
       "    .dataframe tbody tr th:only-of-type {\n",
       "        vertical-align: middle;\n",
       "    }\n",
       "\n",
       "    .dataframe tbody tr th {\n",
       "        vertical-align: top;\n",
       "    }\n",
       "\n",
       "    .dataframe thead tr th {\n",
       "        text-align: left;\n",
       "    }\n",
       "\n",
       "    .dataframe thead tr:last-of-type th {\n",
       "        text-align: right;\n",
       "    }\n",
       "</style>\n",
       "<table border=\"1\" class=\"dataframe\">\n",
       "  <thead>\n",
       "    <tr>\n",
       "      <th></th>\n",
       "      <th></th>\n",
       "      <th colspan=\"2\" halign=\"left\">mean</th>\n",
       "      <th colspan=\"2\" halign=\"left\">sum</th>\n",
       "    </tr>\n",
       "    <tr>\n",
       "      <th></th>\n",
       "      <th></th>\n",
       "      <th>Salary</th>\n",
       "      <th>Years</th>\n",
       "      <th>Salary</th>\n",
       "      <th>Years</th>\n",
       "    </tr>\n",
       "    <tr>\n",
       "      <th>Department</th>\n",
       "      <th>Title</th>\n",
       "      <th></th>\n",
       "      <th></th>\n",
       "      <th></th>\n",
       "      <th></th>\n",
       "    </tr>\n",
       "  </thead>\n",
       "  <tbody>\n",
       "    <tr>\n",
       "      <td rowspan=\"2\" valign=\"top\">HR</td>\n",
       "      <td>VP</td>\n",
       "      <td>70.0</td>\n",
       "      <td>8.0</td>\n",
       "      <td>70</td>\n",
       "      <td>8</td>\n",
       "    </tr>\n",
       "    <tr>\n",
       "      <td>analyst</td>\n",
       "      <td>32.5</td>\n",
       "      <td>3.0</td>\n",
       "      <td>65</td>\n",
       "      <td>6</td>\n",
       "    </tr>\n",
       "    <tr>\n",
       "      <td rowspan=\"3\" valign=\"top\">IT</td>\n",
       "      <td>VP</td>\n",
       "      <td>70.0</td>\n",
       "      <td>8.0</td>\n",
       "      <td>70</td>\n",
       "      <td>8</td>\n",
       "    </tr>\n",
       "    <tr>\n",
       "      <td>analyst</td>\n",
       "      <td>32.5</td>\n",
       "      <td>1.5</td>\n",
       "      <td>65</td>\n",
       "      <td>3</td>\n",
       "    </tr>\n",
       "    <tr>\n",
       "      <td>associate</td>\n",
       "      <td>60.0</td>\n",
       "      <td>7.0</td>\n",
       "      <td>60</td>\n",
       "      <td>7</td>\n",
       "    </tr>\n",
       "    <tr>\n",
       "      <td>Sales</td>\n",
       "      <td>associate</td>\n",
       "      <td>55.0</td>\n",
       "      <td>2.5</td>\n",
       "      <td>110</td>\n",
       "      <td>5</td>\n",
       "    </tr>\n",
       "  </tbody>\n",
       "</table>\n",
       "</div>"
      ],
      "text/plain": [
       "                       mean          sum      \n",
       "                     Salary Years Salary Years\n",
       "Department Title                              \n",
       "HR         VP          70.0   8.0     70     8\n",
       "           analyst     32.5   3.0     65     6\n",
       "IT         VP          70.0   8.0     70     8\n",
       "           analyst     32.5   1.5     65     3\n",
       "           associate   60.0   7.0     60     7\n",
       "Sales      associate   55.0   2.5    110     5"
      ]
     },
     "execution_count": 36,
     "metadata": {},
     "output_type": "execute_result"
    }
   ],
   "source": [
    "# your answer here\n",
    "\n",
    "employee1 = employee.pivot_table(values=[\"Salary\", \"Years\"], index=[\"Department\", \"Title\"], aggfunc=['mean','sum'])\n",
    "\n",
    "employee1"
   ]
  },
  {
   "cell_type": "code",
   "execution_count": 33,
   "metadata": {},
   "outputs": [
    {
     "data": {
      "text/html": [
       "<div>\n",
       "<style scoped>\n",
       "    .dataframe tbody tr th:only-of-type {\n",
       "        vertical-align: middle;\n",
       "    }\n",
       "\n",
       "    .dataframe tbody tr th {\n",
       "        vertical-align: top;\n",
       "    }\n",
       "\n",
       "    .dataframe thead th {\n",
       "        text-align: right;\n",
       "    }\n",
       "</style>\n",
       "<table border=\"1\" class=\"dataframe\">\n",
       "  <thead>\n",
       "    <tr style=\"text-align: right;\">\n",
       "      <th></th>\n",
       "      <th></th>\n",
       "      <th>Salary</th>\n",
       "      <th>Years</th>\n",
       "    </tr>\n",
       "    <tr>\n",
       "      <th>Department</th>\n",
       "      <th>Title</th>\n",
       "      <th></th>\n",
       "      <th></th>\n",
       "    </tr>\n",
       "  </thead>\n",
       "  <tbody>\n",
       "    <tr>\n",
       "      <td rowspan=\"2\" valign=\"top\">HR</td>\n",
       "      <td>VP</td>\n",
       "      <td>70.0</td>\n",
       "      <td>8</td>\n",
       "    </tr>\n",
       "    <tr>\n",
       "      <td>analyst</td>\n",
       "      <td>32.5</td>\n",
       "      <td>6</td>\n",
       "    </tr>\n",
       "    <tr>\n",
       "      <td rowspan=\"3\" valign=\"top\">IT</td>\n",
       "      <td>VP</td>\n",
       "      <td>70.0</td>\n",
       "      <td>8</td>\n",
       "    </tr>\n",
       "    <tr>\n",
       "      <td>analyst</td>\n",
       "      <td>32.5</td>\n",
       "      <td>3</td>\n",
       "    </tr>\n",
       "    <tr>\n",
       "      <td>associate</td>\n",
       "      <td>60.0</td>\n",
       "      <td>7</td>\n",
       "    </tr>\n",
       "    <tr>\n",
       "      <td>Sales</td>\n",
       "      <td>associate</td>\n",
       "      <td>55.0</td>\n",
       "      <td>5</td>\n",
       "    </tr>\n",
       "  </tbody>\n",
       "</table>\n",
       "</div>"
      ],
      "text/plain": [
       "                      Salary  Years\n",
       "Department Title                   \n",
       "HR         VP           70.0      8\n",
       "           analyst      32.5      6\n",
       "IT         VP           70.0      8\n",
       "           analyst      32.5      3\n",
       "           associate    60.0      7\n",
       "Sales      associate    55.0      5"
      ]
     },
     "execution_count": 33,
     "metadata": {},
     "output_type": "execute_result"
    }
   ],
=======
   "execution_count": 11,
   "metadata": {
    "collapsed": false,
    "jupyter": {
     "outputs_hidden": false
    }
   },
   "outputs": [],
>>>>>>> upstream/master
   "source": [
    "\n",
    "employee2 = employee1.loc[:, [('mean', 'Salary'), ('sum','Years')]]\n",
    "employee2.columns = ['Salary', 'Years']\n",
    "\n",
    "employee2"
   ]
  },
  {
   "cell_type": "markdown",
   "metadata": {},
   "source": [
    "#### Bonus\n",
    "\n",
    "#### We now want to compute the mean salary after removing the maxima for each Department. Create the appropriate pivot table\n",
    "\n",
    "#### * Hint: Write a custom function*"
   ]
  },
  {
   "cell_type": "code",
   "execution_count": 12,
<<<<<<< HEAD
   "metadata": {},
=======
   "metadata": {
    "collapsed": false,
    "jupyter": {
     "outputs_hidden": false
    }
   },
>>>>>>> upstream/master
   "outputs": [],
   "source": [
    "# your answer here--Your custom function here\n",
    "        "
   ]
  },
  {
   "cell_type": "code",
   "execution_count": 13,
<<<<<<< HEAD
   "metadata": {},
=======
   "metadata": {
    "collapsed": false,
    "jupyter": {
     "outputs_hidden": false
    }
   },
>>>>>>> upstream/master
   "outputs": [],
   "source": [
    "# your answer here"
   ]
  },
  {
   "cell_type": "markdown",
   "metadata": {},
   "source": [
    "# Challenge 2"
   ]
  },
  {
   "cell_type": "markdown",
   "metadata": {},
   "source": [
    "#### Open the ` Fitbit.csv` file and name your dataset `fitbit`"
   ]
  },
  {
   "cell_type": "code",
   "execution_count": 39,
   "metadata": {
<<<<<<< HEAD
=======
    "collapsed": false,
    "jupyter": {
     "outputs_hidden": false
    },
>>>>>>> upstream/master
    "scrolled": true
   },
   "outputs": [],
   "source": [
    "# your answer here\n",
    "\n",
    "fitbit = pd.read_csv('Fitbit.csv')"
   ]
  },
  {
   "cell_type": "markdown",
   "metadata": {},
   "source": [
    "#### Explore you dataset in terms of data types and descriptive statistics\n",
    "#### *Hint: Use Pandas functions from previous lectures*"
   ]
  },
  {
   "cell_type": "code",
<<<<<<< HEAD
   "execution_count": 40,
   "metadata": {},
   "outputs": [
    {
     "data": {
      "text/plain": [
       "Date                       object\n",
       "Calorie burned              int64\n",
       "Steps                       int64\n",
       "Distance                  float64\n",
       "Floors                      int64\n",
       "Minutes Sedentary         float64\n",
       "Minutes Lightly Active      int64\n",
       "Minutes Fairly Active       int64\n",
       "Minutes Very Active         int64\n",
       "Activity Calories           int64\n",
       "MinutesOfSleep              int64\n",
       "MinutesOfBeingAwake         int64\n",
       "NumberOfAwakings            int64\n",
       "LengthOfRestInMinutes       int64\n",
       "dtype: object"
      ]
     },
     "execution_count": 40,
     "metadata": {},
     "output_type": "execute_result"
    }
   ],
   "source": [
    "# your answer here\n",
    "\n",
    "fitbit.dtypes"
=======
   "execution_count": 15,
   "metadata": {
    "collapsed": false,
    "jupyter": {
     "outputs_hidden": false
    }
   },
   "outputs": [],
   "source": [
    "# your answer here"
>>>>>>> upstream/master
   ]
  },
  {
   "cell_type": "code",
<<<<<<< HEAD
   "execution_count": 41,
   "metadata": {},
   "outputs": [
    {
     "data": {
      "text/plain": [
       "<bound method NDFrame.describe of            Date  Calorie burned  Steps  Distance  Floors  Minutes Sedentary  \\\n",
       "0    08-05-2015            1934    905      0.65       0              1.355   \n",
       "1    09-05-2015            3631  18925     14.11       4            611.000   \n",
       "2    10-05-2015            3204  14228     10.57       1            602.000   \n",
       "3    11-05-2015            2673   6756      5.02       8            749.000   \n",
       "4    12-05-2015            2495    502      3.73       1            876.000   \n",
       "..          ...             ...    ...       ...     ...                ...   \n",
       "362  03-05-2016            3796  18588     14.13      16            599.000   \n",
       "363  04-05-2016            3525  16382     12.39      16            684.000   \n",
       "364  05-05-2016            3649  21913     16.40      19            701.000   \n",
       "365  06-05-2016            3539  19023     14.79      15            575.000   \n",
       "366  07-05-2016             304   9526      7.08       2            564.000   \n",
       "\n",
       "     Minutes Lightly Active  Minutes Fairly Active  Minutes Very Active  \\\n",
       "0                        46                      0                    0   \n",
       "1                       316                     61                   60   \n",
       "2                       226                     14                   77   \n",
       "3                       190                     23                    4   \n",
       "4                       171                      0                    0   \n",
       "..                      ...                    ...                  ...   \n",
       "362                     275                     49                   79   \n",
       "363                     333                     10                   55   \n",
       "364                     287                     29                   90   \n",
       "365                     298                      8                   85   \n",
       "366                     370                     13                   10   \n",
       "\n",
       "     Activity Calories  MinutesOfSleep  MinutesOfBeingAwake  NumberOfAwakings  \\\n",
       "0                 1680             384                   26                23   \n",
       "1                 2248             454                   35                21   \n",
       "2                 1719             387                   46                25   \n",
       "3                 9620             311                   31                21   \n",
       "4                 7360             407                   65                44   \n",
       "..                 ...             ...                  ...               ...   \n",
       "362                236             377                   33                18   \n",
       "363               2075             406                   21                 8   \n",
       "364               2249             280                   35                15   \n",
       "365               2112             370                   42                22   \n",
       "366               1604             502                   57                31   \n",
       "\n",
       "     LengthOfRestInMinutes  \n",
       "0                      417  \n",
       "1                      491  \n",
       "2                      436  \n",
       "3                      350  \n",
       "4                      491  \n",
       "..                     ...  \n",
       "362                    410  \n",
       "363                    427  \n",
       "364                    315  \n",
       "365                    412  \n",
       "366                    563  \n",
       "\n",
       "[367 rows x 14 columns]>"
      ]
     },
     "execution_count": 41,
     "metadata": {},
     "output_type": "execute_result"
    }
   ],
   "source": [
    "# your answer here\n",
    "\n",
    "fitbit.describe"
=======
   "execution_count": 16,
   "metadata": {
    "collapsed": false,
    "jupyter": {
     "outputs_hidden": false
    }
   },
   "outputs": [],
   "source": [
    "# your answer here"
>>>>>>> upstream/master
   ]
  },
  {
   "cell_type": "markdown",
   "metadata": {},
   "source": [
    "#### You suspect that there must be a linear relationship between the Minutes Very Active and the Steps. Compute the correlation between these variables."
   ]
  },
  {
   "cell_type": "code",
<<<<<<< HEAD
   "execution_count": 44,
   "metadata": {},
   "outputs": [
    {
     "data": {
      "text/plain": [
       "0.5714518481062608"
      ]
     },
     "execution_count": 44,
     "metadata": {},
     "output_type": "execute_result"
    }
   ],
   "source": [
    "# your answer here\n",
    "\n",
    "fitbit['Minutes Very Active'].corr(fitbit['Steps'])"
=======
   "execution_count": 17,
   "metadata": {
    "collapsed": false,
    "jupyter": {
     "outputs_hidden": false
    }
   },
   "outputs": [],
   "source": [
    "# your answer here"
>>>>>>> upstream/master
   ]
  },
  {
   "cell_type": "markdown",
   "metadata": {},
   "source": [
    "#### Use matplotlib to visually plot Minutes Very active vs Steps. \n",
    "\n",
    "##### Hint : import matplotlib.pyplot as plt (See previous lessons)#####\n",
    "- Use plt.scatter(x=df['col_name_1'], y=df['col_name_2'])"
   ]
  },
  {
   "cell_type": "code",
<<<<<<< HEAD
   "execution_count": 49,
   "metadata": {},
   "outputs": [
    {
     "data": {
      "image/png": "iVBORw0KGgoAAAANSUhEUgAAAYwAAAD4CAYAAAD//dEpAAAABHNCSVQICAgIfAhkiAAAAAlwSFlzAAALEgAACxIB0t1+/AAAADh0RVh0U29mdHdhcmUAbWF0cGxvdGxpYiB2ZXJzaW9uMy4xLjEsIGh0dHA6Ly9tYXRwbG90bGliLm9yZy8QZhcZAAAgAElEQVR4nO2dfZQc1ZXYf3dmWmKEY0YY4cBIWmGbFWtZB2mlBRIlOQbHiLXXIPNhIOs1OUvCHh9vYliiRLI5RvJCkFcxOHaOSVjb8QfmQ3x4LBZ7wTHa7DkE5JUsyfIYFGSDQYPWyAsjEzTAaObmj64aVffUq3pV3T1d3XV/58yZ6ddd1beqp999736KqmIYhmEYafS0WwDDMAyjMzCFYRiGYXhhCsMwDMPwwhSGYRiG4YUpDMMwDMOLvnYLkJeTTjpJFy1a1G4xDMMwOoqdO3f+WlXn5Tm2YxXGokWL2LFjR7vFMAzD6ChE5Jd5jzWTlGEYhuGFKQzDMAzDC1MYhmEYhhemMAzDMAwvTGEYhmEYXnRslJRRPoZ2jbD5kX28ODrGqQP9rF29mDXLB9stlmGUBlMYRkcwtGuE9Q/uZWx8AoCR0THWP7gXwJSGYcwQZpIyOoLNj+ybUhYhY+MTbH5kX5skMozyYQrD6AheHB3LNG4YRvMxhWF0BKcO9GcaNwyj+ZjCMDqCtasX01/prRnrr/SydvXiNklkGOXDnN5GRxA6ti1KyjDahykMo2NYs3zQFITREBaa3RimMAzD6Hh8FIGFZjeO+TAMw+hoQkUwMjqGckwRDO0aqXmdhWY3jikMwzA6Gl9FYKHZjZOqMERkgYhsE5GnRGRYRD4ZjG8QkRER2R38fCByzHoR2S8i+0RkdWR8hYjsDZ77oohIMD5bRO4NxreLyKLmX6phGN2IryKw0OzG8dlhHAWuV9XfAc4BPiEi7w6eu01VlwU/3wMInrsCWAJcAHxZRMJ4yNuBa4DTg58LgvGrgVdU9V3AbcDnGr80wzDKgK8isNDsxklVGKp6UFV/HPz9KvAUkOQhugi4R1XfUNVngf3AWSJyCvBWVX1CVRX4JrAmcsw3gr/vB94X7j4MwzCS8FUEa5YPcsvFSxkc6EeAwYF+brl4qTm8M5ApSiowFS0HtgOrgD8VkY8BO6juQl6hqkyejBx2IBgbD/6uHyf4/QKAqh4VkcPA24Bf173/NVR3KCxcuDCL6IZhdClZcnQsNLsxvBWGiLwFeAC4VlV/IyK3A38OaPD788AfA3E7A00YJ+W5YwOqdwB3AKxcuXLa84ZhlBNTBDODV5SUiFSoKotvq+qDAKr6K1WdUNVJ4C+Bs4KXHwAWRA6fD7wYjM+PGa85RkT6gBOAl/NckGEYhtEafKKkBPgq8JSq3hoZPyXysg8DPw3+3gpcEUQ+nUbVuf0jVT0IvCoi5wTn/Bjw3cgxVwV/Xwo8Fvg5DMMwjILgY5JaBfwRsFdEdgdjnwKuFJFlVE1HzwF/AqCqwyKyBfgZ1QirT6hqGCT9ceDrQD/w/eAHqgrpWyKyn+rO4orGLsswDMNoNtKpC/mVK1fqjh072i2GYRhGRyEiO1V1ZZ5jLdPbMAzD8MIUhmEYhuGFKQzDMAzDC1MYhmEYhhfWD8MoPY001bGGPEaZMIVhlJpGmupYQx6jbJhJyig1jTTVsYY8RtkwhWGUmkaa6lhDHqNsmMIwSk0jTXWsIY9RNkxhGKWmkaY61pDHKBvm9DZKTZZeCs081jA6EaslZRiGUSIaqSVlOwzDKBCW12EUGVMYhlEQLK/DKDqmMAyjICTlddQrDNuJGO3AFIZhFATfvA7biRjtwsJqDaMg+OZ1WIa50S5MYRhGQfDN67AM8/IytGuEVZse47R1D7Nq02MM7RqZ0fc3k5TRcXSr/d43r+PUgX5GYpSDZZh3N0UwRZrCMDqKInxpWsma5YOp17F29eKaewCWYV4GsgRFtAozSRkdhdnvq0rllouXMjjQjwCDA/3ccvHSrlCYhpsimCJth2F0FEX40hQBn52I0V0UwRRpOwyjo7AKsUZZKUKxS1MYRkdRhC+NYbSDIpgizSRldBRWIdYoM+02RZrCMDqOdn9pDKOsmMIwjBLTrTktRmswhWE0HZuEikPSZ9HtOS1G80l1eovIAhHZJiJPiciwiHwyGD9RRH4gIs8Ev+dGjlkvIvtFZJ+IrI6MrxCRvcFzXxQRCcZni8i9wfh2EVnU/Es1ZoJwEhoZHUM5NgnNdAmDepnaWU6hXaR9FpbTYmTFJ0rqKHC9qv4OcA7wCRF5N7AO+KGqng78MHhM8NwVwBLgAuDLIhKGtdwOXAOcHvxcEIxfDbyiqu8CbgM+14RrM9pA0SahViqwoiuitM+iyDktRb+3ZSVVYajqQVX9cfD3q8BTwCBwEfCN4GXfANYEf18E3KOqb6jqs8B+4CwROQV4q6o+odW+sN+sOyY81/3A+8Ldh9FZFG0SapUCK+JOqp60z6KoOS2tuLemgJpDpjyMwFS0HNgOvF1VD0JVqQAnBy8bBF6IHHYgGBsM/q4frzlGVY8Ch4G3xbz/NSKyQ0R2HDp0KIvoxgxRtEmoVQqsaDupONI+i6LmtDT73naCcu8UvBWGiLwFeAC4VlV/k/TSmDFNGE86pnZA9Q5VXamqK+fNm5cmstEGijYJtUqBFW0nFUfaZ1GERLA4mn1vO0G5dwpeUVIiUqGqLL6tqg8Gw78SkVNU9WBgbnopGD8ALIgcPh94MRifHzMePeaAiPQBJwAv57geo80ULbGuVZVdi1DXJw2fz6KIOS3NvredoNw7hVSFEfgSvgo8paq3Rp7aClwFbAp+fzcyfpeI3AqcStW5/SNVnRCRV0XkHKomrY8BX6o71xPApcBjgZ/D6ECKNAm1SoEVtcR4XBjt4+vOa6tMWWn2ve0E5d4p+OwwVgF/BOwVkd3B2KeoKootInI18DxwGYCqDovIFuBnVCOsPqGq4Sf/ceDrQD/w/eAHqgrpWyKyn+rO4ooGr8swpmiFAivaTgqS8yqgKuvI6Bi9IkyoMlgAmeNo9r0tqnLvRKRTF/IrV67UHTt2tFsMg+Ik6hVFjkZo5BpWbXosdiU90F/hjaOT0+z4UJ04i+C3aDXd8L/RLERkp6quzHOsZXobDVGUbOGiyNEIjV6DyyY/OjbuPGamO7a1iyKZSTsZK29uNERRIlCKIkcjNHoNzXYKG0Y9pjCMhihKBEpR5KgnS8JYo9fgCqOdO6eSeJw5fw1fTGEYDVGURL2iyBEla8JYo9fgyqu48UNLpimSEHP+GlkwH4aRm6FdIxx58+i08XZMQkWMhEkyMcXZ05txDUm2+k6JkjKKiykMIxf1DtqQgf4KGy5cMuOTUBHDXLOamFp5Deb0NZqBKQwjF3GrZ4DjZ/e1bWJq1qTYrBDMPAljNrEbRcYUhpGLmXQyz2QMfdbQ1iTZimgmM+KxPA0/zOlt5GKmnMwzXWk0S2hrmmxRJzRAr8jUuaxSanGwarb+mMIwcjFTVWlnIr8iGvoaZ0KC+J2Tj2xrlg9O3auJoKqCTUjFohtyeGYKM0kZuUhy0N4wtJe7t7/AhCq9Ilx59gJuWrM01/u02vTlct7XE7dz8pXNNSFdv2UP1927u5AmkDKZaIqaw1NETGEYuYlz0N4wtJc7n3x+6vGE6tTjPEojj+M4y2Tnct5Hce2cfGVzTTz1Ow4oRhmTbiizkgWrZuuPmaSM3MRlMd+9/YXY17rG08hq+spqj05aRaY1FfKVzWfiSTOB5G0xmue4sploitb0q8jYDsPIhWsVOuGofuwaTyNrbkLWZDnX6nJwoD+1j4SvbHHRUnG4lFfeFX/e48pmoiliDk9RMYVh5MI1MbvolbguvH5kyU3IOtmtXb2YtfftYXzymEKr9Ij36tJHtvoJqSfItK7HtRPJqgQbPa6MJhrLf/HDFIaRi6yrzSvPXpD+oiaQa7Kr12XB42Y6fqMTUpyjPckEknfFn/e4ZuSPlMlpXiZMYRi5SDLlnHvGvExRUo1OLtHjT+ivUOkVxieOreCTJrvNj+yreS3A+ISy8aFhXh+fbInjN6sJxHWve0Q4bd3DzuPzHteoiaZsTvMyYR33jFy4VslZu7c1ep644ys9wluO62P0yHjqZHfauofJ8g3w8W00G5/Q37h7lve4RnF1/mvHvTOmYx33jBknugoNK6BGI2l8JyAfO3vSDiTu+PFJZc6sPnZ95vzU93etwl20w/Hr4wOJ803kPa5RyuY0LxOmMGaQbrPrhrK3oq3oyOjYVAho0vmb0XQoboczu68ntrVpuxy/UR/Iaesejn1N3DXnPa4Ryug0LwuWhzFDdGu9mla2FV3/4F42PjSceP5WNR3acOH0pkNxvpC8+RGNkPeaZ6r+l+U1dC+mMGaIbk2GakVb0ZCx8QleOTJ9lR89fzMmpzXLB3l83Xk8u+mDPL7uvKlVeZwiifMRzPQiIO81z9RE7nPvjM7ETFIzRLfadRs1P4STyLX37s78vtHj29F0KG+eQzPkCt+//pqTzJ4zmaA2U3kN3WbmLTqmMGaILBNrJ30JmtVWNHSe1zPQX+G1N4/WhL5WemsT69qVdNXORUDcNfuEs3ZTgpqF7848ZpKaIXzNAXFmjrX37WH5Zx+dUTu5L80yP8Tdn0qP8ObRiWl5EhMTxQgFd+2iwjyHmf6sutXs6aJs11sEbIfRQup3CpesGGTb04cSdw6uMNHQll/EVVQzVq315pITgp3FkfHJaa+dBDZsHc78ns3eublqRLWrCm23mj1dlO16i4ApjBYRt11+YOdI6urb5599Juzk7SCqeFZteiw2rDUk6bmQqIIYmFPh/71+dKpmVDMm83blObgoWzhr2a63CJjCaBHNLvxWT7evonzuQagQwsTBCVUGg50D1OZvxEVbNWMyb0eeg4uy9RAv2/UWAVMYLaKZhd/i6PZVVK+jomvInEpPzX2qNwMdV+lJvYfQ3Mm8FSveLGa0spXpLtv1FoFUhSEiXwP+AHhJVd8TjG0A/i1wKHjZp1T1e8Fz64GrgQng36vqI8H4CuDrQD/wPeCTqqoiMhv4JrAC+AfgclV9rknX1zbyTh4uW75vMb1uIUlZVHqF2ZVeZ47G2PiEl7KA5ireZq9480QBdVMUlA9lu9524xMl9XXggpjx21R1WfATKot3A1cAS4JjviwiYejL7cA1wOnBT3jOq4FXVPVdwG3A53JeS6FoJEkqmki2+8bz2XzpmW1NgmpHNvPcOZXY8R6BzZeeyahDWWTB9/Pwvf5mJ6xZFJBRNFJ3GKr6tyKyyPN8FwH3qOobwLMish84S0SeA96qqk8AiMg3gTXA94NjNgTH3w/8NxER7dQyugF5tssu80M7V1HtinV3ffpvPa6SmLcRMtBf4Y2jkzUTbqVXOH5WH4fH0qvYhmS9/mZ+VhYFZBSNRnwYfyoiHwN2ANer6ivAIPBk5DUHgrHx4O/6cYLfLwCo6lEROQy8Dfh1/RuKyDVUdyksXLiwAdFnhiyTR9zEtPa+PWx8aNirTHcrGNo1wvVb9jQc+ZMnnPWwIwoqHE/y9fRXetlw4RKgcft2s7O5s9wLiwIyikZehXE78OeABr8/D/wx03uXEbzGNU7Kc7WDqncAd0C1H0Y2kYtN0fIvQgXm8iX4rnKHdo3UtEANFSEcu464STRtsqwvrx7SK8IlK44p6ryNmEI5mrnKz7pbsSggo2jkyvRW1V+p6oSqTgJ/CZwVPHUAiPbinA+8GIzPjxmvOUZE+oATgJfzyNVpRG3jPmGkM2m/jlNgUXyzmTdsHa7plw1VRbhh6zDgLuB37hnzUn1Aa5YPsnb1YnoiS44JVe7a/nxmP4tLjgGHLyXPKj+rTyLOJ3LJiqo5rohZ/0b3k2uHISKnqOrB4OGHgZ8Gf28F7hKRW4FTqTq3f6SqEyLyqoicA2wHPgZ8KXLMVcATwKXAY53qv8hibvDphhbHTNmv094nGsa69v49U+P11+9KsAvHXZPotqcPccvFS1Pv56ce/Al1+ohJrY5n2V245HjdYfJyrfKT/gfy7FaiZk2rnWS0G5+w2ruB9wInicgB4EbgvSKyjKrp6DngTwBUdVhEtgA/A44Cn1DV8Bv3cY6F1X4/+AH4KvCtwEH+MtUoq44j65c5bQXvohXFCrOYhOIYn1A+/Z29TCqx15+E6z1GRse8fEBxpUOSxiGb6al+5TJ3ToUbP7QkVq60/4FGfRLtqo5rGCE+UVJXxgx/NeH1NwM3x4zvAN4TM/46cFmaHEUnzdzgO0FB1anjm38R6yy/fw8btg57RQPFHX/tvbuZU+mh0ivT3t+l5F57c/r42PgEIvERT2HYrCtBr1fiXFuN45rUT+iveJUbmTOrz3kv0yb0Rn0SFjVVXDqpwnQjWLXaJpHUajSLbXxwoH8q/+Ly31swNXHWO3NDYp3lE8ro2LhXUx/XTufI+CRodWKP5hRkRbUazhql0ivc+KFqFJPLqZ6UuBclSa/E2fldk7oIzkZOUZIm57QJvdE8jZnqmGdko1u7acZhCqNJuL60vSKxE5Tq9Akqutoc2jXCAztHpibOCVXufPJ5lm18tOYfMUuxwjiSjh+fVObM6qvpRDfQH6/oXAwO9E9LPNx86ZlTk2TSTsLnC/eHZ7vDq+O+vK7rHT0yXjOZu+RKmpx9JvS47n6+WOvTYlKmBMtSKYxWZizH9nPodddDOjw2nrjadK38R8fGayZA39Wla6JMO77+uA0XLqHS42cuCiezpEkyaSfhs0q7ac1SPnrOwkTF49sDPCrn5z9yZubJudUTurU+LSZlMhWWpvhgqyNM6jO7w3LaLsIJyvXeSf9saXZx1/vFkXZ8/XH115lkOEqbzIZ2jSQWGfR16N60Zik3ramay05b93CsTNEe4D5+hPo8j3CnGCoeV5Z3eEyrbNlWO6l4lCnBsjQKYyYiTOr7ObiK4/msOtOilKJ2cZiuqKK5D0nvFx6/YevwNKdvpUc48uZRTlv3sLNUyapNj8XKORgoRIh3CAKJiYH11+lLloQ/n0n9tTeqSt+3KZJN6OWjTAmWpTFJzfS2Mem8PmaEOPNGFJddfNdnzmfzZdmKFa5ZPsjuG8/nC5cvmzpuoL8CUu0jkeTISzPDuByCGx8a9gorzrpKW7t68TSTWaVneg/wx9edx22XLwPgunt3TzNRhnLHRU51q33ayEeZTIWl2WHMdK8C1/ulrbzrS1psfGh42k4lbfWSd5Wb1vEubkeWtmJ37ex8lEXadbp2LtOKzcS4N9JMlGl5Mt1onzbyU5adZWkURp5tY9KEnjbhpL2fj08l/Cf0jfFuZix4lh1ZXl9MHL0iTKrmyh9Z/+BeZvf11OSOQDXMuF7RpZko0+TuRvu0YaRRGoWR1XadZwUanXDyrrzjfCo+q5dGnPp5iv81ep648uP9lV7vrXzWnUu9AkhTiEk+pG61TxtGGqVRGJBt25h3BToyOsbQrpFpzuF6mu1TyevUdymaS1YM8sDOEe8dmes8v7vwhNiJ93CQWBgymHFHlMcZXv84SSG6oseSSoMYRrdTKoWRhSSFcNq6h+lJCAf1Wdk326fio4DidgCNFv8LcZ3nyV+8Evv6+jt37hnzgKrvJHy/c8+Yx7anD2XyEcWVIolTdGkmw5kIkTWMTkM6tDAsK1eu1B07drTs/K5wUV8GB/p5fN15zufjqtWmmWRuGNrL3dtfYEKVXhGuPHvBVP6BS97QJ+AKt3WZcAR4dtMHfS4VcOc/NJPo/blhaC93Pvl86jFpxQK7TSF04zUZzUVEdqrqyjzH2g7DgW9CnIu4FX/9l/mSFYPOFXQ99RNkWCoEqolra1cvZu39e6Y5fMNdUFxOyNj4hDNxLutOJ0t127xETWzbnj7kdUxSscBui2yx8udGqylNHkZW6mOrs1JfXDAuH+GBnSOsXb3Yq67Q3dtfSB/PscSfUG1KOYu0vJFm8WLgI/JVTq1WYkWiTDWNjPZQKoWRtZZUNCEua7nt+kV7o1/mtKqumx/ZN62znQ9hklGjXd1CBeu6T70iCDCn0ti/3An9Fa8+G2WkTDWNjPZQGpNUo9t133LbIYfrkt4a/TKn9Y3IOymce8a8GtNMI/dpzfJBrrt3d+xzk6pTPpGoLyYrbx6dYCyhOVKZKVNNI6M9lEZhNFpLatDxZfTxAQztGnFGVfnmNfRXejgyPv34K89eMHWePOaXel9A1kZQ9ffOZ9KKFgtctO7hTPImddKLo1WNmIpIK2oamRPdiFIak1SjK3xX+fJZfdMnpLiMbtdq+sibR2NNPvU+jyPjk/TIsYZBvSJ89JyFUxNvXh9C6BMITXVJLVN9msT41HKK0qz53GXqChVqGWh2TaMyNQYy/CjNDqPR7XpcVdjDY+PTopLqwzjTahK9cmSctfftYeNDw4weGU/Mj5hUd7hu+H7XOkxCLgbmVLyiwVyNoOp3Hif0V5i2B0hQCv19PZl2DSJwXF/vtFX0f754KTt++bIz7LgsNDPyy3qIG/WUJg8jT95DEss/+2hsqOrcORV2feb8qcfNzk9Iy4/IauLpr/Sk+gSS8jV8nge3ostzf75w+TIzk8wArs8ma46OUSwsD8ODNcsHp61A43pk++LqdVE/3uz8hLQdUVJDojiSlIUE7xfueFw+HJ9claSOf1nuT1jtt1MURCf7AMyJbtRTGh9GXI/sB3aOtNwe28z8BB8HZrNs9oMD/TX5Ia6+F77KKanjn+/96bSif53uA7Ae4kY9pVEYzU5qGuiveI3XOyLnzql498QOyeLADHtc+zJ3TsVrUohzqF6yYtArCimt41/9eT96zkIGAwUTnn8mmtI0u+d7pyfSlakxkOFHaXwYzbbHDu0aYe19e2qS5So9wubLzkz9QmXJQxCB2z6yLPOX1Mc3EPpwIHuRvTifUEilR3jLcX01Tvx2TDIuc1BSy9hm+bjAfABGMTEfhgc+9tgs9ua81UzrTWNpqPpVv61nYE7F6WeB6eXEs06KruivXvFTmnE0097vSkDc8cuXa8q2h+PHVXqaHhFkPgCj2yiNwmhGB7x68jhf08Js48iSOAfVHYxLWQz0V9h94/mxz/mSVMtpUjWxKVXeDoZZcZmD4nZ2WRovZaEViXSG0U5KozCa2QGvEfJOQOEEmjahppX9ru/TnZVwYncRXT1HTW8C9PQIE4EJL2sHw6y47nPWciSN7Aasp4bRbZRGYaQxU4Xb8obZJiXORScgV1Xb6HkaIWmHFF091ysuhSllEeLTwTDv/XfdZ1fYsatlbKO7gU4KATaMNFKjpETkayLykoj8NDJ2ooj8QESeCX7PjTy3XkT2i8g+EVkdGV8hInuD574oUp25RGS2iNwbjG8XkUXNvcQqQ7tGWHv/npoQx7X375mKhHGtJPOsMJOibZLCSCu9Qn9MiYuk8NWwA+CqTY9xw5C7BElIlhV23HUkTeChg3ho14hXcyOo7aEdR94Vvisk9MqzF8SOb7hwiUUEGUYKPmG1XwcuqBtbB/xQVU8Hfhg8RkTeDVwBLAmO+bKIhN/O24FrgNODn/CcVwOvqOq7gNuAz+W9mCQ2PjQ8rYzH+ISy8aFhoHkx52mx99FQRagNG9186Zk89ee/zxcuXzZt4hpMmDjD9/GZpJPO43Md9X0+6s+7/LOPZipPEu2h3cyYf1dI6E1rljoVQ7ScfVp/EsMoI15htcGq/69U9T3B433Ae1X1oIicAvyNqi4WkfUAqnpL8LpHgA3Ac8A2VT0jGL8yOP5Pwteo6hMi0gf8PTBPUwTLGlabVDIjzGhO6iHtS1Kr1M9/JD56yCc6KCmM1ZcsYaKu6xCBPpFprV4vWTFYE32UR55Ozoo2jE6hHWG1b1fVgwCB0jg5GB8Enoy87kAwNh78XT8eHvNCcK6jInIYeBvw6/o3FZFrqO5SWLjQPzktjWgHvEbNEEnO1mvv3c3Gh4ZrihP6RgfVlzbJSn0Ybd7rUAV6qjb/w2PJxRLjOH5WL0fenIhVCGbvN4xi02ynd5xHVRPGk46ZPqh6B3AHVHcYeQRMImtUTtyKOM2p/cqRca/ooOu37OG6e3fXJJZlyd8I6RXh57d8INMxkOycH59Qjp/dVxOe62qcFKUHuPnD5hcwjE4lb2mQXwWmKILfLwXjB4BoMaP5wIvB+PyY8ZpjApPUCcDLOeVyMtdhe6/HNyrHZeM/94x5qbWRonkVSTuS6Hk3PjScyxyVZzcC6TWe6vto+ARfTUJNWYxml+IwDKO15N1hbAWuAjYFv78bGb9LRG4FTqXq3P6Rqk6IyKsicg6wHfgY8KW6cz0BXAo8lua/yMONH1rC9fftmRbaWU9cVE64kxgZHZsKy4wLzxwbn2Db04e45eKlXLdl97S+3lGi0UFpYbZJiWVp5A2jDXcB12/ZEx+GWtdHw/cTC687yRQHlrtgGEXEJ6z2bqqT+WIROSAiV1NVFO8XkWeA9wePUdVhYAvwM+CvgU+oajjTfRz4CrAf+Dnw/WD8q8DbRGQ/8GcEEVetIO1i46JyojsJoKbabRwvjo6xZvmgszhhSFJ0UDPJu8OAqtL4/EfOjI1eUiWXEguv22WK2/jQcEdXeDWMbiZ1h6GqVzqeep/j9TcDN8eM7wDeEzP+OnBZmhyNsvmRfTWRPfX0isQ6vLOW8ggnxNGEOk4A554xD6jNBk7aacQlloVUeoSjqrGr/Lgw2mbUzPLxWdQTVcguU1xcSRPr8mYYxaA0md5JvomkcNMsmcaVXuG1N45y2rqH6UlpZLTt6UNTf4fv6wqbDRPLIN5ElKQIDx4e44ahvVOtSptVMytNwUH1fhw/q68mmio8T9aM92Zn3BuGkZ3S9MNwZQy7dhZpx0WPD/tcoNVaTUq6Kah+Akyq/hpNLJvMaGKaVLjzyee5YWiv833y9GiIM6VVeoWB/spUQtzmS89k943nxybCuRL1XKY8q/BqGO2nNDuMRW+LX9Ge8465iaaOuIqjIdGdyapNjyWWE6+nfgJ0raDrq7+e0F/JVUDwru3Pc9OapU2r2dRoYT3X8RDfl8IqvBpG+ymNwvg/v4iP1I2OJ9n266Ok6hPhsky4cZKxxVcAABI+SURBVBOgb7+O37yer9rspFaPdymcE1Kc9HE0mmiXdLxFSRlG8SiNwnBZcjSYSDdsHa6ZSOtt+2kTlq9N3mUCi9vJ9PYIL46OsWjdw1PlwVOighNZ/+BeXN1ho9G37S7RYRnfhlFMSqMwknAVy6tvXJS0w0gyXUVxNRiqN9HMmdXLa28eO1dcefCsJMkWRnU1u5GRYRjdQ+l7evvQX+l1TrYD/RU2XLhkWq9oV5RUrwiTqqkr93eu/15DORRZCTvxuYoODg708/i682ZMHsMwWoP19PYg79Qb17goyujY+DTTVZyJKyRUAmkr95lUFnDMJDVTjaQMw+g8SqMwZvf18MbRyUzHJO0sooTFAkPiTFM9wjT/Q1JCmqszXJq8s/t6ckVRhSYpH+e7YRjlpDR5GFmVxdw5ldTGRVEmVBOLBLrcD66V+5VnL4gdjyPaCGjDhUtiS42klZRqVSMjwzC6h9LsMHyJ+iRCfBsX5SkS6Fq5h5nZaf0vXI2ZspTyiGaonzrQzyUrBhtuJOVDu6OxDMPIRmmc3kkd9yC5wdDQrhFn1dZGyNIBL6njns95XM7sHqkqnfoOeq3uZx13PTPxvoZRdhpxepfGJDW7z32pocklqZZS1pIcPlyyotpAKa0fRLgSd+1efEp7uExNbz2uMq0WVZ5SIVlpVokSwzBmjtKYpC5bOZ87n3w+9jmX89knTDYvc+dUanpgu6KmfHt5R30haRnrPqaqVkdFWTSWYXQepVEYD//kYOLz9RNV/UQdpywqPcJbjutj9Mh4prBdVz+JOMXlW1791IF+hnaNsPGh4ZqaVmkZ666qs62OirJoLMPoPEpjkkorDBhOuGHL0Ou37HFWjw1/j08qc2b1cdvly1KjqcKqtmE002FH6Gu94vJZcfdXejn3jHmsf3BvYj+JONoVFWXRWIbReZRGYaRx6NXXufbe3VOd3lzmpwlV+iu90xLwknp591d6+fxHzqwp8+1aSfeI1PgyksqyRxXQtqcPJe5EXIpnzfLBqfDh6Pla7Xhu1/sahpGf0kRJNVIaJIoroS6MsnL1/q6PwkrzTYThvRBf7rt+ck27PivtYRgGWJSUF81QFtGdRT1hL+/H153Hc5s+ONULu34nEu4ewhV2ryOjLlpyxGclnmT7N1OPYRjNoDQKo1HCsuQuX0X9hO0TNpoWrht1gj++7rzYznUhcT4BqO5UzNRjGEYzKE2UVKNEy5L7dITzDRtN66PhG2baaAc8wzCMNExheDIwp9qRzndi9g0bTeujkSXM1BoPGYbRSkxheBK1HPlMzHGKIG4nEp6nPn/C9XrDMIx2YT4MT0bHxp2lO+LIEja6Zvkguz5zPl8I8jkszNQwjCJSmrDa99/6Nzzz0msNvWejxfGsOqthGO3GOu55cOTNbP0w4khqeBQlTjEA1ivbMIyOpjQKo1lF7dLOU5+QFyqG4yo9XrWjDMMwikppfBjNKmqXdh5X/oWrlpVVZzUMo1NoSGGIyHMisldEdovIjmDsRBH5gYg8E/yeG3n9ehHZLyL7RGR1ZHxFcJ79IvJFkbSGotlZu3oxld7GTusTtZRVAVh1VsMwOoVm7DDOVdVlESfKOuCHqno68MPgMSLybuAKYAlwAfBlEQlTk28HrgFOD34uaIJc02nAvx9meqeZj1wKYKC/YtVZDcPoaFphkroI+Ebw9zeANZHxe1T1DVV9FtgPnCUipwBvVdUntBqy9c3IMU1j8yP7pnWWy0I00zsJV9nuDRcuseqshmF0NI06vRV4VEQU+B+qegfwdlU9CKCqB0Xk5OC1g8CTkWMPBGPjwd/1400lzVTUK8KVZy9g29OHGmrsk5YJbgrCMIxOpVGFsUpVXwyUwg9E5OmE18Y5EDRhfPoJRK6harpi4cKFmQRNq9k0ocoDO0e4ZMVgTetUyG46shIdhmF0Iw2ZpFT1xeD3S8B3gLOAXwVmJoLfLwUvPwAsiBw+H3gxGJ8fMx73fneo6kpVXTlv3rxMsp57Rvrrx8Yn2Pb0ITMdGYZhxJB7hyEixwM9qvpq8Pf5wGeBrcBVwKbg93eDQ7YCd4nIrcCpVJ3bP1LVCRF5VUTOAbYDHwO+lFcuF9uePuT1urCvhSkIwzCMWhoxSb0d+E4QAdsH3KWqfy0ifwdsEZGrgeeBywBUdVhEtgA/A44Cn1DV0O7zceDrQD/w/eCnqfiGu1qYq2EYRjy5FYaq/gI4M2b8H4D3OY65Gbg5ZnwH8J68sviQ5sMAC3M1DMNIojSZ3i4fxvGzes1XYRiG4UFpFMaDOw/Ejqsqt12+DIDr7t3Nqk2PZSpjbhiGURZKU3zwyHh8tdoj45NWRdYwDMOD0uwwknBVkTUMwzCOUZodhkhtm9U04qKqrAGSYRhlpjQ7jD88Oz4z/PhZvbHj9eG1YZ+LkdExlGOmK/N3GIZRFkqjMG5as5RV7zyxZmzVO0/k5g8v9aoi6+pzYaYrwzDKQmkUxtCuEX78/OGasfCxTykQV+KfNUAyDKMslMaHkbRDeHzdeV59LhqpYmsYhtHplGaH0egOwdXnwjLDDcMoC6VRGK6dQJY+F1bF1jCMMlMak9Ta1YtZe/8exieOxdZWesX6XBiGYXhSmh0GML0tUwM9vg3DMMpGaRRGXE/v8Um1sFjDMAxPSmOSsrBYwzhG2asWlP3681IahWFhsYZRJaxaEC24ufb+PWzYOszhsfGun0Djrt8KjvpRGpOUqx+GT69vw+gWhnaNcP2WPdNyksYnlNGx8VKUvbGqDfkpzQ7D1dPbt9d3EmXd3nb7dXfb9YUr6wmPKpzhBNrJ1+vCzNP5KY3CaNU/SVm3t91+3d14fXEr6yS6dQI183R+SqMwWvVPkrS9zTqxFHVFGydXM657pq83y/s183MtClkVQLdOoGtXL65ZDIBVbfClNAqjVf8kri/hyOgYp6172HsizLOinYkJ1yWXa6XqOyklXS/Q9OvK+n7daLZwLZpEoE+kJuy8myfQ8H+piIuzoiOapatQgVi5cqXu2LEj0zE3DO3l7u0vMKFKrwhXnr2Am9YsnXo+zwS8/LOP8sqR8cTXVHqF42f1JUagrNr0WOyXeXCgn8fXnTdNvhP6K/zm9XGiqSWVHmHzZWdOnbsZCsUlV69IrC08Km+e8/YITMb8S86dU+HGDy3xkt+1I4p7v7lzKrw+PjltITG7r4fRsemfq+/1FZF6pQnVa73l4up3wCbQciAiO1V1ZZ5jS7PDGNo1wl3bn5+ajCZUuWv786z8rRNZs3wwt83aR9+GEShJ501a0Q7tGmHjQ8M1iiluMhufVDZsHZ66nmgplJHRMa6/L3vopEsul+PUN+osbvKGeGUB8MqRca/PI+uOKE7Zj41PcFylh/5Kb1eZLdJW1qYgjDRKozA+9eBPpk1GkwrX3bsbyG+zPhwzcacRDeELv7w9jhX7wJxK4oRXT6hINj40XFM3C2BiMl1x1eMyY7h2GL5RZ67jk/D5PFyfY9b3Gz0yzm2XL4udXIvqa/LB6qEZjVAahXFkfDJ2XKEhm7xrQk2jfuXrmsxeH59gzCF7EmlmMqhOpNdv2QO4lYbL99OoDyOrsvA9f9KOKG7H4DI9nTrQHzu5dmP0lGH4UprEvSTGxifokfjnBuZUEo+N65PhQ6+I164hq7Jw9Sh3MaGamKTlKus+2GC5eNfxaaSd3/V8VO7odWy4cEmmPieW9GWUmdLsMNJw2c7TFsL1dmGfdXPSCr1RKr3VNcBAfyV25RxHmqnHZcZoJOosbueShs/5k6LhkswxviamboyeMgxfTGGk4OOjiE5ESVFFk6qpUTv1xEXx+Mi74cIlrL1vz7QKvS6yTniNhibGHX/uGfPY9vQh52Of8+eRK4td35K+jDJjCoN0W3YW1q5ePG2irg93DUlbYfdXernxQ0sA2LB12GvHEMrrmpDDsGLXcT7UO31vu3xZLvt9qxywrXTsWtKXUWYKozBE5ALgvwK9wFdUddNMvXcYh553IqjPj5jmdYjxj/issOtDHuvf57U3j9ZEQtXLGzdxrvytExua8Mru9LWkL6PMFCJxT0R6gf8LvB84APwdcKWq/sx1TNbEvUXrHnY+99ymDwL5Et3ikqHiaEXCV97wzkbCQn0SDA3DKC7dkLh3FrBfVX8BICL3ABcBToXRCvKYMnwLurXCKZrX9NKIycacvoZRXooSVjsIvBB5fCAYq0FErhGRHSKy49ChxsuSNwPfibJbnKKu6+iW6zMMw01RFEZcFsQ0W5mq3qGqK1V15bx5xWh85DNRdpNTNC7vpJuuzzAMN0VRGAeABZHH84EXm/kGp598fKZxX+Im0EqPMHdOpSZBrFucoq5Evm65PsMw3BTF6d1H1en9PmCEqtP7X6nqsOuYPNVq33/r3/DMS69NPT795OP5wZ+9N4/INXRybSHDMMpFI07vQigMABH5APAFqmG1X1PVm5Nen0dhGIZhlJ1uiJJCVb8HfK/dchiGYRjxFMWHYRiGYRQcUxiGYRiGF6YwDMMwDC9MYRiGYRheFCZKKisicgj4Zc7DTwJ+3URxmo3J1xhFlq/IsoHJ1yidIN/xqpor87ljFUYjiMiOvGFlM4HJ1xhFlq/IsoHJ1yjdLp+ZpAzDMAwvTGEYhmEYXpRVYdzRbgFSMPkao8jyFVk2MPkapavlK6UPwzAMw8hOWXcYhmEYRkZMYRiGYRhelE5hiMgFIrJPRPaLyLo2y7JARLaJyFMiMiwinwzGTxSRH4jIM8HvuW2Ws1dEdonIXxVNPhEZEJH7ReTp4D7+k4LJd13w2f5URO4WkePaKZ+IfE1EXhKRn0bGnPKIyPrgu7JPRFa3Sb7Nwef7ExH5jogMtEO+ONkiz/0HEVEROakdsiXJJyL/LpBhWET+oiH5VLU0P1RLp/8ceAcwC9gDvLuN8pwC/G7w9z+i2hPk3cBfAOuC8XXA59p83/4MuAv4q+BxYeQDvgH8m+DvWcBAUeSj2mb4WaA/eLwF+NftlA/4F8DvAj+NjMXKE/wv7gFmA6cF353eNsh3PtAX/P25dskXJ1swvgB4hGoi8UkFu3fnAv8LmB08PrkR+cq2wzgL2K+qv1DVN4F7gIvaJYyqHlTVHwd/vwo8RXWSuYjqREjwe017JAQRmQ98EPhKZLgQ8onIW6l+Sb4KoKpvqupoUeQL6AP6gyZhc6h2kmybfKr6t8DLdcMueS4C7lHVN1T1WWA/1e/QjMqnqo+q6tHg4ZNUO3LOuHyOewdwG/AfqW0rXYh7B3wc2KSqbwSveakR+cqmMAaBFyKPDwRjbUdEFgHLge3A21X1IFSVCnBy+yTjC1S/DJORsaLI9w7gEPA/A5PZV0Tk+KLIp6ojwH8BngcOAodV9dGiyBfBJU8Rvy9/DHw/+Lvt8onIhcCIqu6pe6rtsgX8NvDPRWS7iPxvEfm9YDyXfGVTGBIz1va4YhF5C/AAcK2q/qbd8oSIyB8AL6nqznbL4qCP6hb8dlVdDrxG1aRSCAJfwEVUt/ynAseLyEfbK1UmCvV9EZFPA0eBb4dDMS+bMflEZA7waeAzcU/HjLXj3vUBc4FzgLXAFhERcspXNoVxgKq9MWQ+VRNB2xCRClVl8W1VfTAY/pWInBI8fwrwkuv4FrMKuFBEnqNqvjtPRO4skHwHgAOquj14fD9VBVIU+f4l8KyqHlLVceBB4J8WSL4QlzyF+b6IyFXAHwB/qIERnvbL906qi4E9wXdkPvBjEfnHBZAt5ADwoFb5EVVLwUl55Subwvg74HQROU1EZgFXAFvbJUyg6b8KPKWqt0ae2gpcFfx9FfDdmZYNQFXXq+p8VV1E9V49pqofLZB8fw+8ICKLg6H3AT+jIPJRNUWdIyJzgs/6fVT9VEWRL8Qlz1bgChGZLSKnAacDP5pp4UTkAuA/AReq6pHIU22VT1X3qurJqroo+I4coBrE8vftli3CEHAegIj8NtXAkF/nlq+VXvsi/gAfoBqN9HPg022W5Z9R3Qb+BNgd/HwAeBvwQ+CZ4PeJBbhv7+VYlFRh5AOWATuCezhEdftdJPk2Ak8DPwW+RTUqpW3yAXdT9aeMU53grk6Sh6rJ5efAPuD32yTffqr29vA78t/bIV+cbHXPP0cQJVWgezcLuDP4//sxcF4j8llpEMMwDMOLspmkDMMwjJyYwjAMwzC8MIVhGIZheGEKwzAMw/DCFIZhGIbhhSkMwzAMwwtTGIZhGIYX/x8UUCVp8gOmdwAAAABJRU5ErkJggg==\n",
      "text/plain": [
       "<Figure size 432x288 with 1 Axes>"
      ]
     },
     "metadata": {
      "needs_background": "light"
     },
     "output_type": "display_data"
    }
   ],
   "source": [
    "# your answer here\n",
    "\n",
    "import matplotlib.pyplot as plt\n",
    "\n",
    "plt.scatter(x=fitbit['Minutes Very Active'], y=fitbit['Steps']);"
=======
   "execution_count": 18,
   "metadata": {
    "collapsed": false,
    "jupyter": {
     "outputs_hidden": false
    }
   },
   "outputs": [],
   "source": [
    "# your answer here"
>>>>>>> upstream/master
   ]
  },
  {
   "cell_type": "markdown",
   "metadata": {},
   "source": [
    "#### What can you say about Minute Very Active and Steps? Write a comment below"
   ]
  },
  {
   "cell_type": "code",
   "execution_count": 19,
   "metadata": {
    "collapsed": true,
    "jupyter": {
     "outputs_hidden": true
    }
   },
   "outputs": [],
   "source": [
    "# your comment here\n",
    "\n",
    "# the longer the minutes people are very active, the higher the number of steps."
   ]
  },
  {
   "cell_type": "markdown",
   "metadata": {},
   "source": [
    "#### We also suspect that there must be a linear relationship between the Minutes Sedentary and the Steps. Compute the correlation between these variables."
   ]
  },
  {
   "cell_type": "code",
<<<<<<< HEAD
   "execution_count": 50,
   "metadata": {},
   "outputs": [
    {
     "data": {
      "text/plain": [
       "0.07690608062990091"
      ]
     },
     "execution_count": 50,
     "metadata": {},
     "output_type": "execute_result"
    }
   ],
   "source": [
    "# your answer here\n",
    "\n",
    "fitbit['Minutes Sedentary'].corr(fitbit['Steps'])"
=======
   "execution_count": 20,
   "metadata": {
    "collapsed": false,
    "jupyter": {
     "outputs_hidden": false
    }
   },
   "outputs": [],
   "source": [
    "# your answer here"
>>>>>>> upstream/master
   ]
  },
  {
   "cell_type": "markdown",
   "metadata": {},
   "source": [
    "#### Use matplotlib to visually plot Minutes Sedentary vs Steps. Based on the results of the computed correlation and the plot. What can you say about these 2 variables?"
   ]
  },
  {
   "cell_type": "code",
<<<<<<< HEAD
   "execution_count": 51,
   "metadata": {},
   "outputs": [
    {
     "data": {
      "image/png": "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\n",
      "text/plain": [
       "<Figure size 432x288 with 1 Axes>"
      ]
     },
     "metadata": {
      "needs_background": "light"
     },
     "output_type": "display_data"
    }
   ],
   "source": [
    "# your answer here\n",
    "\n",
    "plt.scatter(x=fitbit['Minutes Sedentary'], y=fitbit['Steps']);"
=======
   "execution_count": 21,
   "metadata": {
    "collapsed": false,
    "jupyter": {
     "outputs_hidden": false
    }
   },
   "outputs": [],
   "source": [
    "# your answer here"
>>>>>>> upstream/master
   ]
  },
  {
   "cell_type": "code",
   "execution_count": 22,
   "metadata": {
    "collapsed": true,
    "jupyter": {
     "outputs_hidden": true
    }
   },
   "outputs": [],
   "source": [
    "# Your comment here\n",
    "\n",
    "# almost no correlation"
   ]
  },
  {
   "cell_type": "markdown",
   "metadata": {},
   "source": [
    "#### We also suspect that there must be a linear relationship between the MinutesOfSleep and the Steps. Compute the correlation between these variables."
   ]
  },
  {
   "cell_type": "code",
<<<<<<< HEAD
   "execution_count": 52,
   "metadata": {},
   "outputs": [
    {
     "data": {
      "text/plain": [
       "0.1309856595083638"
      ]
     },
     "execution_count": 52,
     "metadata": {},
     "output_type": "execute_result"
    }
   ],
   "source": [
    "# your answer here\n",
    "\n",
    "fitbit['MinutesOfSleep'].corr(fitbit['Steps'])"
=======
   "execution_count": 23,
   "metadata": {
    "collapsed": false,
    "jupyter": {
     "outputs_hidden": false
    }
   },
   "outputs": [],
   "source": [
    "# your answer here"
>>>>>>> upstream/master
   ]
  },
  {
   "cell_type": "markdown",
   "metadata": {},
   "source": [
    "#### Use matplotlib to visually plot MinutesOfSleep vs Steps. Based on the results of the computed correlation and the plot. What can you say about these 2 variables?"
   ]
  },
  {
   "cell_type": "code",
<<<<<<< HEAD
   "execution_count": 53,
   "metadata": {},
   "outputs": [
    {
     "data": {
      "image/png": "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\n",
      "text/plain": [
       "<Figure size 432x288 with 1 Axes>"
      ]
     },
     "metadata": {
      "needs_background": "light"
     },
     "output_type": "display_data"
    }
   ],
   "source": [
    "# your answer here\n",
    "\n",
    "plt.scatter(x=fitbit['MinutesOfSleep'], y=fitbit['Steps']);"
=======
   "execution_count": 24,
   "metadata": {
    "collapsed": false,
    "jupyter": {
     "outputs_hidden": false
    }
   },
   "outputs": [],
   "source": [
    "# your answer here"
>>>>>>> upstream/master
   ]
  },
  {
   "cell_type": "markdown",
   "metadata": {},
   "source": [
    "#### Select a subset of your dataset with the columns below and compute the correlation matrix. Save the results in the variable `cor_fit`\n",
    "column= ['Calorie burned', 'Steps','Floors','Minutes Sedentary','Minutes Very Active', 'MinutesOfSleep']"
   ]
  },
  {
   "cell_type": "code",
   "execution_count": 25,
<<<<<<< HEAD
   "metadata": {},
=======
   "metadata": {
    "collapsed": false,
    "jupyter": {
     "outputs_hidden": false
    }
   },
>>>>>>> upstream/master
   "outputs": [],
   "source": [
    "# your answer here"
   ]
  },
  {
   "cell_type": "code",
<<<<<<< HEAD
   "execution_count": 74,
   "metadata": {},
   "outputs": [
    {
     "data": {
      "image/png": "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\n",
      "text/plain": [
       "<Figure size 432x288 with 2 Axes>"
      ]
     },
     "metadata": {
      "needs_background": "light"
     },
     "output_type": "display_data"
    }
   ],
   "source": [
    "#Print cor_fit\n",
    "\n",
    "import seaborn as sns\n",
    "%matplotlib inline\n",
    "\n",
    "# plot the heatmap\n",
    "cor_fit = sns.heatmap(fitbit[['Calorie burned', 'Steps','Floors','Minutes Sedentary','Minutes Very Active', 'MinutesOfSleep']].corr(), \n",
    "        xticklabels=corr.columns,\n",
    "        yticklabels=corr.columns,\n",
    "        cmap = \"Blues\");"
   ]
  },
  {
   "cell_type": "code",
   "execution_count": 112,
   "metadata": {},
=======
   "execution_count": 26,
   "metadata": {
    "collapsed": false,
    "jupyter": {
     "outputs_hidden": false
    }
   },
>>>>>>> upstream/master
   "outputs": [],
   "source": [
    "#plt.xcorr(x=fitbit[['Calorie burned', 'Steps','Floors','Minutes Sedentary','Minutes Very Active', 'MinutesOfSleep']],\n",
    "#          y=fitbit[['Calorie burned', 'Steps','Floors','Minutes Sedentary','Minutes Very Active', 'MinutesOfSleep']]);"
   ]
  },
  {
   "cell_type": "markdown",
   "metadata": {},
   "source": [
    "#### Based on the result of the correlation matrix. What are the highly correlated features with the variable Steps?\n",
    "*Hint: From the results above select the variable Steps and order your results in descending order (use Pandas sort_values function)*"
   ]
  },
  {
   "cell_type": "code",
   "execution_count": 27,
<<<<<<< HEAD
   "metadata": {},
=======
   "metadata": {
    "collapsed": false,
    "jupyter": {
     "outputs_hidden": false
    }
   },
>>>>>>> upstream/master
   "outputs": [],
   "source": [
    "# your answer here"
   ]
  },
  {
   "cell_type": "markdown",
   "metadata": {},
   "source": [
    "# Challenge 3"
   ]
  },
  {
   "cell_type": "markdown",
   "metadata": {},
   "source": [
    "#### Open the `Time_Grades.csv` file and name your dataset `time_grades`"
   ]
  },
  {
   "cell_type": "code",
<<<<<<< HEAD
   "execution_count": 84,
   "metadata": {},
=======
   "execution_count": 28,
   "metadata": {
    "collapsed": false,
    "jupyter": {
     "outputs_hidden": false
    }
   },
>>>>>>> upstream/master
   "outputs": [],
   "source": [
    "# your answer here\n",
    "\n",
    "time_grades = pd.read_csv('Time_Grades.csv')"
   ]
  },
  {
   "cell_type": "code",
<<<<<<< HEAD
   "execution_count": 85,
   "metadata": {},
   "outputs": [
    {
     "data": {
      "text/html": [
       "<div>\n",
       "<style scoped>\n",
       "    .dataframe tbody tr th:only-of-type {\n",
       "        vertical-align: middle;\n",
       "    }\n",
       "\n",
       "    .dataframe tbody tr th {\n",
       "        vertical-align: top;\n",
       "    }\n",
       "\n",
       "    .dataframe thead th {\n",
       "        text-align: right;\n",
       "    }\n",
       "</style>\n",
       "<table border=\"1\" class=\"dataframe\">\n",
       "  <thead>\n",
       "    <tr style=\"text-align: right;\">\n",
       "      <th></th>\n",
       "      <th>Name</th>\n",
       "      <th>Study time</th>\n",
       "      <th>Grade</th>\n",
       "    </tr>\n",
       "  </thead>\n",
       "  <tbody>\n",
       "    <tr>\n",
       "      <td>0</td>\n",
       "      <td>Jose</td>\n",
       "      <td>4</td>\n",
       "      <td>4</td>\n",
       "    </tr>\n",
       "    <tr>\n",
       "      <td>1</td>\n",
       "      <td>Maria</td>\n",
       "      <td>9</td>\n",
       "      <td>7</td>\n",
       "    </tr>\n",
       "    <tr>\n",
       "      <td>2</td>\n",
       "      <td>David</td>\n",
       "      <td>8</td>\n",
       "      <td>9</td>\n",
       "    </tr>\n",
       "    <tr>\n",
       "      <td>3</td>\n",
       "      <td>Sonia</td>\n",
       "      <td>10</td>\n",
       "      <td>7</td>\n",
       "    </tr>\n",
       "    <tr>\n",
       "      <td>4</td>\n",
       "      <td>Samuel</td>\n",
       "      <td>20</td>\n",
       "      <td>9</td>\n",
       "    </tr>\n",
       "    <tr>\n",
       "      <td>5</td>\n",
       "      <td>Eva</td>\n",
       "      <td>5</td>\n",
       "      <td>3</td>\n",
       "    </tr>\n",
       "    <tr>\n",
       "      <td>6</td>\n",
       "      <td>Carlos</td>\n",
       "      <td>12</td>\n",
       "      <td>7</td>\n",
       "    </tr>\n",
       "    <tr>\n",
       "      <td>7</td>\n",
       "      <td>Pedro</td>\n",
       "      <td>6</td>\n",
       "      <td>5</td>\n",
       "    </tr>\n",
       "    <tr>\n",
       "      <td>8</td>\n",
       "      <td>Ana</td>\n",
       "      <td>18</td>\n",
       "      <td>9</td>\n",
       "    </tr>\n",
       "    <tr>\n",
       "      <td>9</td>\n",
       "      <td>Gervasio</td>\n",
       "      <td>7</td>\n",
       "      <td>3</td>\n",
       "    </tr>\n",
       "    <tr>\n",
       "      <td>10</td>\n",
       "      <td>Gemma</td>\n",
       "      <td>7</td>\n",
       "      <td>8</td>\n",
       "    </tr>\n",
       "    <tr>\n",
       "      <td>11</td>\n",
       "      <td>Alicia</td>\n",
       "      <td>11</td>\n",
       "      <td>7</td>\n",
       "    </tr>\n",
       "    <tr>\n",
       "      <td>12</td>\n",
       "      <td>Jonathan</td>\n",
       "      <td>2</td>\n",
       "      <td>1</td>\n",
       "    </tr>\n",
       "    <tr>\n",
       "      <td>13</td>\n",
       "      <td>Cristina</td>\n",
       "      <td>13</td>\n",
       "      <td>8</td>\n",
       "    </tr>\n",
       "    <tr>\n",
       "      <td>14</td>\n",
       "      <td>Pilar</td>\n",
       "      <td>3</td>\n",
       "      <td>2</td>\n",
       "    </tr>\n",
       "  </tbody>\n",
       "</table>\n",
       "</div>"
      ],
      "text/plain": [
       "        Name  Study time  Grade\n",
       "0       Jose           4      4\n",
       "1      Maria           9      7\n",
       "2      David           8      9\n",
       "3      Sonia          10      7\n",
       "4     Samuel          20      9\n",
       "5        Eva           5      3\n",
       "6     Carlos          12      7\n",
       "7      Pedro           6      5\n",
       "8        Ana          18      9\n",
       "9   Gervasio           7      3\n",
       "10     Gemma           7      8\n",
       "11    Alicia          11      7\n",
       "12  Jonathan           2      1\n",
       "13  Cristina          13      8\n",
       "14     Pilar           3      2"
      ]
     },
     "execution_count": 85,
     "metadata": {},
     "output_type": "execute_result"
    }
   ],
   "source": [
    "#Print time_grades\n",
    "\n",
    "time_grades"
=======
   "execution_count": 29,
   "metadata": {
    "collapsed": true,
    "jupyter": {
     "outputs_hidden": true
    }
   },
   "outputs": [],
   "source": [
    "#Print time_grades"
>>>>>>> upstream/master
   ]
  },
  {
   "cell_type": "markdown",
   "metadata": {},
   "source": [
    "#### Show visually the frequency distribution of the time_grades dataset."
   ]
  },
  {
   "cell_type": "code",
<<<<<<< HEAD
   "execution_count": 159,
   "metadata": {},
   "outputs": [
    {
     "data": {
      "image/png": "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\n",
      "text/plain": [
       "<Figure size 432x288 with 2 Axes>"
      ]
     },
     "metadata": {
      "needs_background": "light"
     },
     "output_type": "display_data"
    }
   ],
   "source": [
    "# your answer here\n",
    "\n",
    "time_grades.hist(bins=10, range=[1, 21]);"
=======
   "execution_count": 30,
   "metadata": {
    "collapsed": false,
    "jupyter": {
     "outputs_hidden": false
    }
   },
   "outputs": [],
   "source": [
    "# your answer here"
>>>>>>> upstream/master
   ]
  },
  {
   "cell_type": "markdown",
   "metadata": {},
   "source": [
    "#### Is there a correaltion between study time and Grade? Use both Pearson and Spearman correlation and comment your results."
   ]
  },
  {
   "cell_type": "code",
<<<<<<< HEAD
   "execution_count": 166,
   "metadata": {},
   "outputs": [
    {
     "data": {
      "text/html": [
       "<div>\n",
       "<style scoped>\n",
       "    .dataframe tbody tr th:only-of-type {\n",
       "        vertical-align: middle;\n",
       "    }\n",
       "\n",
       "    .dataframe tbody tr th {\n",
       "        vertical-align: top;\n",
       "    }\n",
       "\n",
       "    .dataframe thead th {\n",
       "        text-align: right;\n",
       "    }\n",
       "</style>\n",
       "<table border=\"1\" class=\"dataframe\">\n",
       "  <thead>\n",
       "    <tr style=\"text-align: right;\">\n",
       "      <th></th>\n",
       "      <th>Study time</th>\n",
       "      <th>Grade</th>\n",
       "    </tr>\n",
       "  </thead>\n",
       "  <tbody>\n",
       "    <tr>\n",
       "      <td>Study time</td>\n",
       "      <td>1.000000</td>\n",
       "      <td>0.798046</td>\n",
       "    </tr>\n",
       "    <tr>\n",
       "      <td>Grade</td>\n",
       "      <td>0.798046</td>\n",
       "      <td>1.000000</td>\n",
       "    </tr>\n",
       "  </tbody>\n",
       "</table>\n",
       "</div>"
      ],
      "text/plain": [
       "            Study time     Grade\n",
       "Study time    1.000000  0.798046\n",
       "Grade         0.798046  1.000000"
      ]
     },
     "execution_count": 166,
     "metadata": {},
     "output_type": "execute_result"
    }
   ],
   "source": [
    "# your answer here-Pearson \n",
    "\n",
    "time_grades.corr(method='pearson')"
=======
   "execution_count": 31,
   "metadata": {
    "collapsed": false,
    "jupyter": {
     "outputs_hidden": false
    }
   },
   "outputs": [],
   "source": [
    "# your answer here-Pearson "
>>>>>>> upstream/master
   ]
  },
  {
   "cell_type": "code",
<<<<<<< HEAD
   "execution_count": 167,
   "metadata": {},
   "outputs": [
    {
     "data": {
      "text/html": [
       "<div>\n",
       "<style scoped>\n",
       "    .dataframe tbody tr th:only-of-type {\n",
       "        vertical-align: middle;\n",
       "    }\n",
       "\n",
       "    .dataframe tbody tr th {\n",
       "        vertical-align: top;\n",
       "    }\n",
       "\n",
       "    .dataframe thead th {\n",
       "        text-align: right;\n",
       "    }\n",
       "</style>\n",
       "<table border=\"1\" class=\"dataframe\">\n",
       "  <thead>\n",
       "    <tr style=\"text-align: right;\">\n",
       "      <th></th>\n",
       "      <th>Study time</th>\n",
       "      <th>Grade</th>\n",
       "    </tr>\n",
       "  </thead>\n",
       "  <tbody>\n",
       "    <tr>\n",
       "      <td>Study time</td>\n",
       "      <td>1.000000</td>\n",
       "      <td>0.819659</td>\n",
       "    </tr>\n",
       "    <tr>\n",
       "      <td>Grade</td>\n",
       "      <td>0.819659</td>\n",
       "      <td>1.000000</td>\n",
       "    </tr>\n",
       "  </tbody>\n",
       "</table>\n",
       "</div>"
      ],
      "text/plain": [
       "            Study time     Grade\n",
       "Study time    1.000000  0.819659\n",
       "Grade         0.819659  1.000000"
      ]
     },
     "execution_count": 167,
     "metadata": {},
     "output_type": "execute_result"
    }
   ],
   "source": [
    "## your answer here-Spearman\n",
    "\n",
    "time_grades.corr(method='spearman')"
=======
   "execution_count": 32,
   "metadata": {
    "collapsed": false,
    "jupyter": {
     "outputs_hidden": false
    }
   },
   "outputs": [],
   "source": [
    "## your answer here-Spearman"
>>>>>>> upstream/master
   ]
  },
  {
   "cell_type": "markdown",
   "metadata": {},
   "source": [
    "#### Use matplotlib to visually plot Study time vs Grade. Based on the results of the computed correlation and the plot. What can you say about these 2 variables?"
   ]
  },
  {
   "cell_type": "code",
<<<<<<< HEAD
   "execution_count": 179,
   "metadata": {},
   "outputs": [
    {
     "data": {
      "image/png": "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\n",
      "text/plain": [
       "<Figure size 936x504 with 1 Axes>"
      ]
     },
     "metadata": {
      "needs_background": "light"
     },
     "output_type": "display_data"
    }
   ],
   "source": [
    "# your answer here\n",
    "\n",
    "fig = plt.figure(figsize=(13,7))\n",
    "plt.scatter(x=time_grades['Study time'], y=time_grades['Grade'])\n",
    "plt.title('Study time vs Grade')\n",
    "plt.xlabel('Study time')\n",
    "plt.ylabel('Grade')\n",
    "plt.show()"
=======
   "execution_count": 33,
   "metadata": {
    "collapsed": false,
    "jupyter": {
     "outputs_hidden": false
    }
   },
   "outputs": [],
   "source": [
    "# your answer here"
>>>>>>> upstream/master
   ]
  },
  {
   "cell_type": "code",
   "execution_count": 34,
   "metadata": {
    "collapsed": true,
    "jupyter": {
     "outputs_hidden": true
    }
   },
   "outputs": [],
   "source": [
    "#your comment here"
   ]
  },
  {
   "cell_type": "markdown",
   "metadata": {},
   "source": [
    "#### Could you explain the difference between Pearson and Spearman correlation? (see References in README.md) "
   ]
  },
  {
   "cell_type": "code",
   "execution_count": 35,
   "metadata": {
    "collapsed": true,
    "jupyter": {
     "outputs_hidden": true
    }
   },
   "outputs": [],
   "source": [
    "#your comment here"
   ]
  }
 ],
 "metadata": {
  "anaconda-cloud": {},
  "kernelspec": {
   "display_name": "Python 3",
   "language": "python",
   "name": "python3"
  },
  "language_info": {
   "codemirror_mode": {
    "name": "ipython",
    "version": 3
   },
   "file_extension": ".py",
   "mimetype": "text/x-python",
   "name": "python",
   "nbconvert_exporter": "python",
   "pygments_lexer": "ipython3",
<<<<<<< HEAD
   "version": "3.7.4"
=======
   "version": "3.8.0"
>>>>>>> upstream/master
  }
 },
 "nbformat": 4,
 "nbformat_minor": 4
}
