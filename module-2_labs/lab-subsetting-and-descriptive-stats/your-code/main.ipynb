{
 "cells": [
  {
   "cell_type": "markdown",
   "metadata": {},
   "source": [
    "# Before you start :\n",
    "   - These exercises are related to the Subsetting and Descriptive Stats lessons.\n",
    "   - Keep in mind that you need to use some of the functions you learned in the previous lessons.\n",
    "   - All datasets are provided in the `your-code` folder of this lab.\n",
    "   - Elaborate your codes and outputs as much as you can.\n",
    "   - Try your best to answer the questions and complete the tasks and most importantly enjoy the process!!!"
   ]
  },
  {
   "cell_type": "markdown",
   "metadata": {},
   "source": [
    "#### Import all the libraries that are necessary"
   ]
  },
  {
   "cell_type": "code",
   "execution_count": 63,
   "metadata": {},
   "execution_count": 1,
   "metadata": {
    "collapsed": true,
    "jupyter": {
     "outputs_hidden": true
    }
   },
   "outputs": [],
   "source": [
    "# import libraries here",
    "",
    "import pandas as pd",
    "import numpy as np ",
    "import seaborn as sns"
   ]
  },
  {
   "cell_type": "markdown",
   "metadata": {},
   "source": [
    "# Challenge 1"
   ]
  },
  {
   "cell_type": "markdown",
   "metadata": {},
   "source": [
    "#### In this challenge we will use the `Temp_States.csv` file. ",
    "",
    "#### First import it into a data frame called `temp`."
   ]
  },
  {
   "cell_type": "code",
   "execution_count": 8,
   "metadata": {},
   "execution_count": 2,
   "metadata": {
    "collapsed": true,
    "jupyter": {
     "outputs_hidden": true
    }
   },
   "outputs": [],
   "source": [
    "# your answer here",
    "",
    "temp = pd.read_csv('Temp_States.csv')"
   ]
  },
  {
   "cell_type": "markdown",
   "metadata": {},
   "source": [
    "#### Print `temp`"
   ]
  },
  {
   "cell_type": "code",
   "execution_count": 9,
   "metadata": {},
   "outputs": [
    {
     "name": "stdout",
     "output_type": "stream",
     "text": [
      "         City        State  Temperature",
      "0         NYC     New York    19.444444",
      "1      Albany     New York     9.444444",
      "2     Buffalo     New York     3.333333",
      "3    Hartford  Connecticut    17.222222",
      "4  Bridgeport  Connecticut    14.444444",
      "5      Treton   New Jersey    22.222222",
      "6      Newark   New Jersey    20.000000"
     ]
    }
   ],
   "source": [
    "print(temp)"
   ]
  },
  {
   "cell_type": "markdown",
   "metadata": {},
   "source": [
    "#### Explore the data types of the Temp dataframe. What type of data do we have? Comment your result."
   ]
  },
  {
   "cell_type": "code",
   "execution_count": 11,
   "metadata": {},
   "outputs": [
    {
     "data": {
      "text/plain": [
       "City            object",
       "State           object",
       "Temperature    float64",
       "dtype: object"
      ]
     },
     "execution_count": 11,
     "metadata": {},
     "output_type": "execute_result"
    }
   ],
   "source": [
    "# your answer here",
    "temp.dtypes"
   ]
  },
  {
   "cell_type": "markdown",
   "metadata": {},
   "source": [
    "#### Select the rows where state is New York"
   ]
  },
  {
   "cell_type": "code",
   "execution_count": 16,
   "metadata": {},
   "outputs": [
    {
     "data": {
      "text/html": [
       "<div>",
       "<style scoped>",
       "    .dataframe tbody tr th:only-of-type {",
       "        vertical-align: middle;",
       "    }",
       "",
       "    .dataframe tbody tr th {",
       "        vertical-align: top;",
       "    }",
       "",
       "    .dataframe thead th {",
       "        text-align: right;",
       "    }",
       "</style>",
       "<table border=\"1\" class=\"dataframe\">",
       "  <thead>",
       "    <tr style=\"text-align: right;\">",
       "      <th></th>",
       "      <th>City</th>",
       "      <th>State</th>",
       "      <th>Temperature</th>",
       "    </tr>",
       "  </thead>",
       "  <tbody>",
       "    <tr>",
       "      <th>0</th>",
       "      <td>NYC</td>",
       "      <td>New York</td>",
       "      <td>19.444444</td>",
       "    </tr>",
       "    <tr>",
       "      <th>1</th>",
       "      <td>Albany</td>",
       "      <td>New York</td>",
       "      <td>9.444444</td>",
       "    </tr>",
       "    <tr>",
       "      <th>2</th>",
       "      <td>Buffalo</td>",
       "      <td>New York</td>",
       "      <td>3.333333</td>",
       "    </tr>",
       "  </tbody>",
       "</table>",
       "</div>"
      ],
      "text/plain": [
       "      City     State  Temperature",
       "0      NYC  New York    19.444444",
       "1   Albany  New York     9.444444",
       "2  Buffalo  New York     3.333333"
      ]
     },
     "execution_count": 16,
     "metadata": {},
     "output_type": "execute_result"
    }
   ],
   "source": [
    "# your answer here",
    "temp[temp['State']=='New York']"
   ]
  },
  {
   "cell_type": "markdown",
   "metadata": {},
   "source": [
    "#### What is the average of the temperature of cities in New York?"
   ]
  },
  {
   "cell_type": "code",
   "execution_count": 17,
   "metadata": {},
   "outputs": [
    {
     "data": {
      "text/html": [
       "<div>",
       "<style scoped>",
       "    .dataframe tbody tr th:only-of-type {",
       "        vertical-align: middle;",
       "    }",
       "",
       "    .dataframe tbody tr th {",
       "        vertical-align: top;",
       "    }",
       "",
       "    .dataframe thead th {",
       "        text-align: right;",
       "    }",
       "</style>",
       "<table border=\"1\" class=\"dataframe\">",
       "  <thead>",
       "    <tr style=\"text-align: right;\">",
       "      <th></th>",
       "      <th>Temperature</th>",
       "    </tr>",
       "    <tr>",
       "      <th>State</th>",
       "      <th></th>",
       "    </tr>",
       "  </thead>",
       "  <tbody>",
       "    <tr>",
       "      <th>New York</th>",
       "      <td>10.740741</td>",
       "    </tr>",
       "  </tbody>",
       "</table>",
       "</div>"
      ],
      "text/plain": [
       "          Temperature",
       "State                ",
       "New York    10.740741"
      ]
     },
     "execution_count": 17,
     "metadata": {},
     "output_type": "execute_result"
    }
   ],
   "source": [
    "# your answer here",
    "temp[temp['State']=='New York'].groupby('State').mean()"
   ]
  },
  {
   "cell_type": "markdown",
   "metadata": {},
   "source": [
    "#### We want to know cities and states with Temperature above 15 degress Celcius"
   ]
  },
  {
   "cell_type": "code",
   "execution_count": 20,
   "metadata": {},
   "outputs": [
    {
     "data": {
      "text/html": [
       "<div>",
       "<style scoped>",
       "    .dataframe tbody tr th:only-of-type {",
       "        vertical-align: middle;",
       "    }",
       "",
       "    .dataframe tbody tr th {",
       "        vertical-align: top;",
       "    }",
       "",
       "    .dataframe thead th {",
       "        text-align: right;",
       "    }",
       "</style>",
       "<table border=\"1\" class=\"dataframe\">",
       "  <thead>",
       "    <tr style=\"text-align: right;\">",
       "      <th></th>",
       "      <th>City</th>",
       "      <th>State</th>",
       "      <th>Temperature</th>",
       "    </tr>",
       "  </thead>",
       "  <tbody>",
       "    <tr>",
       "      <th>0</th>",
       "      <td>NYC</td>",
       "      <td>New York</td>",
       "      <td>19.444444</td>",
       "    </tr>",
       "    <tr>",
       "      <th>3</th>",
       "      <td>Hartford</td>",
       "      <td>Connecticut</td>",
       "      <td>17.222222</td>",
       "    </tr>",
       "    <tr>",
       "      <th>5</th>",
       "      <td>Treton</td>",
       "      <td>New Jersey</td>",
       "      <td>22.222222</td>",
       "    </tr>",
       "    <tr>",
       "      <th>6</th>",
       "      <td>Newark</td>",
       "      <td>New Jersey</td>",
       "      <td>20.000000</td>",
       "    </tr>",
       "  </tbody>",
       "</table>",
       "</div>"
      ],
      "text/plain": [
       "       City        State  Temperature",
       "0       NYC     New York    19.444444",
       "3  Hartford  Connecticut    17.222222",
       "5    Treton   New Jersey    22.222222",
       "6    Newark   New Jersey    20.000000"
      ]
     },
     "execution_count": 20,
     "metadata": {},
     "output_type": "execute_result"
    }
   ],
   "source": [
    "# your answer here",
    "temp.loc[temp['Temperature']>15]"
   ]
  },
  {
   "cell_type": "markdown",
   "metadata": {},
   "source": [
    "#### Now, return only the cities that have a temperature above 15 degress Celcius"
   ]
  },
  {
   "cell_type": "code",
   "execution_count": 21,
   "metadata": {},
   "outputs": [
    {
     "data": {
      "text/plain": [
       "0         NYC",
       "3    Hartford",
       "5      Treton",
       "6      Newark",
       "Name: City, dtype: object"
      ]
     },
     "execution_count": 21,
     "metadata": {},
     "output_type": "execute_result"
    }
   ],
   "source": [
    "# your answer here",
    "temp.loc[temp['Temperature']>15]['City']"
   ]
  },
  {
   "cell_type": "markdown",
   "metadata": {},
   "source": [
    "#### We want to know which cities have a temperature above 15 degrees Celcius and below 20 degrees Celcius",
    "",
    "*Hint: First write the condition then select the rows.*"
   ]
  },
  {
   "cell_type": "code",
   "execution_count": 23,
   "metadata": {},
   "outputs": [
    {
     "data": {
      "text/plain": [
       "0         NYC",
       "3    Hartford",
       "Name: City, dtype: object"
      ]
     },
     "execution_count": 23,
     "metadata": {},
     "output_type": "execute_result"
    }
   ],
   "source": [
    "# your answer here",
    "temp.loc[(temp['Temperature']>15) & (temp['Temperature']<20)]['City']"
   ]
  },
  {
   "cell_type": "markdown",
   "metadata": {},
   "source": [
    "#### Find the mean and the standard deviation of the temperature of each state.",
    "",
    "*Hint: Use functions from Data Manipulation lesson*"
   ]
  },
  {
   "cell_type": "code",
   "execution_count": 26,
   "metadata": {},
   "outputs": [
    {
     "data": {
      "text/html": [
       "<div>",
       "<style scoped>",
       "    .dataframe tbody tr th:only-of-type {",
       "        vertical-align: middle;",
       "    }",
       "",
       "    .dataframe tbody tr th {",
       "        vertical-align: top;",
       "    }",
       "",
       "    .dataframe thead th {",
       "        text-align: right;",
       "    }",
       "</style>",
       "<table border=\"1\" class=\"dataframe\">",
       "  <thead>",
       "    <tr style=\"text-align: right;\">",
       "      <th></th>",
       "      <th>Temperature</th>",
       "    </tr>",
       "    <tr>",
       "      <th>State</th>",
       "      <th></th>",
       "    </tr>",
       "  </thead>",
       "  <tbody>",
       "    <tr>",
       "      <th>Connecticut</th>",
       "      <td>1.964186</td>",
       "    </tr>",
       "    <tr>",
       "      <th>New Jersey</th>",
       "      <td>1.571348</td>",
       "    </tr>",
       "    <tr>",
       "      <th>New York</th>",
       "      <td>8.133404</td>",
       "    </tr>",
       "  </tbody>",
       "</table>",
       "</div>"
      ],
      "text/plain": [
       "             Temperature",
       "State                   ",
       "Connecticut     1.964186",
       "New Jersey      1.571348",
       "New York        8.133404"
      ]
     },
     "execution_count": 26,
     "metadata": {},
     "output_type": "execute_result"
    }
   ],
   "source": [
    "# your answer here",
    "temp.groupby('State').mean()",
    "temp.groupby('State').std()"
   ]
  },
  {
   "cell_type": "markdown",
   "metadata": {},
   "source": [
    "# Challenge 2"
   ]
  },
  {
   "cell_type": "markdown",
   "metadata": {},
   "source": [
    "#### Load the `employee.csv` file into a DataFrame. Call the dataframe `employee`"
   ]
  },
  {
   "cell_type": "code",
   "execution_count": 27,
   "metadata": {},
   "execution_count": 11,
   "metadata": {
    "collapsed": true,
    "jupyter": {
     "outputs_hidden": true
    }
   },
   "outputs": [],
   "source": [
    "# your answer here",
    "",
    "employee = pd.read_csv('employee.csv')"
   ]
  },
  {
   "cell_type": "markdown",
   "metadata": {},
   "source": [
    "#### Explore the data types of the Temp dataframe. Comment your results"
   ]
  },
  {
   "cell_type": "code",
   "execution_count": 29,
   "metadata": {},
   "outputs": [
    {
     "data": {
      "text/plain": [
       "Name          object",
       "Department    object",
       "Education     object",
       "Gender        object",
       "Title         object",
       "Years          int64",
       "Salary         int64",
       "dtype: object"
      ]
     },
     "execution_count": 29,
     "metadata": {},
     "output_type": "execute_result"
    }
   ],
   "source": [
    "# your answer here",
    "employee.dtypes"
   ]
  },
  {
   "cell_type": "markdown",
   "metadata": {},
   "source": [
    "#### Show visually the frequency distribution (histogram) of the employee dataset (Years and Salary, 20 buckets). In few words describe these histograms?"
   ]
  },
  {
   "cell_type": "code",
   "execution_count": 34,
   "metadata": {},
   "outputs": [
    {
     "data": {
      "text/plain": [
       "<matplotlib.axes._subplots.AxesSubplot at 0x116b38c90>"
      ]
     },
     "execution_count": 34,
     "metadata": {},
     "output_type": "execute_result"
    },
    {
     "data": {
      "image/png": "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",
      "text/plain": [
       "<Figure size 432x288 with 1 Axes>"
      ]
     },
     "metadata": {
      "needs_background": "light"
     },
     "output_type": "display_data"
    }
   ],
   "source": [
    "# your answer here",
    "employee['Years'].plot(kind='hist')"
   ]
  },
  {
   "cell_type": "code",
   "execution_count": 35,
   "metadata": {},
   "outputs": [
    {
     "data": {
      "text/plain": [
       "<matplotlib.axes._subplots.AxesSubplot at 0x116c08490>"
      ]
     },
     "execution_count": 35,
     "metadata": {},
     "output_type": "execute_result"
    },
    {
     "data": {
      "image/png": "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",
      "text/plain": [
       "<Figure size 432x288 with 1 Axes>"
      ]
     },
     "metadata": {
      "needs_background": "light"
     },
     "output_type": "display_data"
    }
   ],
   "source": [
    "employee['Salary'].plot(kind='hist')",
    "#The distribution of the Salary are not evenly distributed. There are a huge gap between lowest and highest salary. "
   ]
  },
  {
   "cell_type": "markdown",
   "metadata": {},
   "source": [
    "#### What's the average salary in this company?"
   ]
  },
  {
   "cell_type": "code",
   "execution_count": 39,
   "metadata": {},
   "outputs": [
    {
     "data": {
      "text/plain": [
       "48.888888888888886"
      ]
     },
     "execution_count": 39,
     "metadata": {},
     "output_type": "execute_result"
    }
   ],
   "source": [
    "# your answer here",
    "employee['Salary'].mean()"
   ]
  },
  {
   "cell_type": "markdown",
   "metadata": {},
   "source": [
    "#### What's the highest salary?"
   ]
  },
  {
   "cell_type": "code",
   "execution_count": 40,
   "metadata": {},
   "outputs": [
    {
     "data": {
      "text/plain": [
       "70"
      ]
     },
     "execution_count": 40,
     "metadata": {},
     "output_type": "execute_result"
    }
   ],
   "source": [
    "# your answer here",
    "employee['Salary'].max()"
   ]
  },
  {
   "cell_type": "markdown",
   "metadata": {},
   "source": [
    "#### What's the lowest salary?"
   ]
  },
  {
   "cell_type": "code",
   "execution_count": 41,
   "metadata": {},
   "outputs": [
    {
     "data": {
      "text/plain": [
       "30"
      ]
     },
     "execution_count": 41,
     "metadata": {},
     "output_type": "execute_result"
    }
   ],
   "source": [
    "# your answer here",
    "employee['Salary'].min()"
   ]
  },
  {
   "cell_type": "markdown",
   "metadata": {},
   "source": [
    "#### Who are the employees with the lowest salary?"
   ]
  },
  {
   "cell_type": "code",
   "execution_count": 44,
   "metadata": {},
   "outputs": [
    {
     "data": {
      "text/html": [
       "<div>",
       "<style scoped>",
       "    .dataframe tbody tr th:only-of-type {",
       "        vertical-align: middle;",
       "    }",
       "",
       "    .dataframe tbody tr th {",
       "        vertical-align: top;",
       "    }",
       "",
       "    .dataframe thead th {",
       "        text-align: right;",
       "    }",
       "</style>",
       "<table border=\"1\" class=\"dataframe\">",
       "  <thead>",
       "    <tr style=\"text-align: right;\">",
       "      <th></th>",
       "      <th>Name</th>",
       "      <th>Department</th>",
       "      <th>Education</th>",
       "      <th>Gender</th>",
       "      <th>Title</th>",
       "      <th>Years</th>",
       "      <th>Salary</th>",
       "    </tr>",
       "  </thead>",
       "  <tbody>",
       "    <tr>",
       "      <th>1</th>",
       "      <td>Maria</td>",
       "      <td>IT</td>",
       "      <td>Master</td>",
       "      <td>F</td>",
       "      <td>analyst</td>",
       "      <td>2</td>",
       "      <td>30</td>",
       "    </tr>",
       "    <tr>",
       "      <th>2</th>",
       "      <td>David</td>",
       "      <td>HR</td>",
       "      <td>Master</td>",
       "      <td>M</td>",
       "      <td>analyst</td>",
       "      <td>2</td>",
       "      <td>30</td>",
       "    </tr>",
       "  </tbody>",
       "</table>",
       "</div>"
      ],
      "text/plain": [
       "    Name Department Education Gender    Title  Years  Salary",
       "1  Maria         IT    Master      F  analyst      2      30",
       "2  David         HR    Master      M  analyst      2      30"
      ]
     },
     "execution_count": 44,
     "metadata": {},
     "output_type": "execute_result"
    }
   ],
   "source": [
    "# your answer here",
    "employee.loc[employee['Salary']==employee['Salary'].min()]"
   ]
  },
  {
   "cell_type": "markdown",
   "metadata": {},
   "source": [
    "#### Could you give all the information about an employee called David?"
   ]
  },
  {
   "cell_type": "code",
   "execution_count": 45,
   "metadata": {},
   "outputs": [
    {
     "data": {
      "text/html": [
       "<div>",
       "<style scoped>",
       "    .dataframe tbody tr th:only-of-type {",
       "        vertical-align: middle;",
       "    }",
       "",
       "    .dataframe tbody tr th {",
       "        vertical-align: top;",
       "    }",
       "",
       "    .dataframe thead th {",
       "        text-align: right;",
       "    }",
       "</style>",
       "<table border=\"1\" class=\"dataframe\">",
       "  <thead>",
       "    <tr style=\"text-align: right;\">",
       "      <th></th>",
       "      <th>Name</th>",
       "      <th>Department</th>",
       "      <th>Education</th>",
       "      <th>Gender</th>",
       "      <th>Title</th>",
       "      <th>Years</th>",
       "      <th>Salary</th>",
       "    </tr>",
       "  </thead>",
       "  <tbody>",
       "    <tr>",
       "      <th>2</th>",
       "      <td>David</td>",
       "      <td>HR</td>",
       "      <td>Master</td>",
       "      <td>M</td>",
       "      <td>analyst</td>",
       "      <td>2</td>",
       "      <td>30</td>",
       "    </tr>",
       "  </tbody>",
       "</table>",
       "</div>"
      ],
      "text/plain": [
       "    Name Department Education Gender    Title  Years  Salary",
       "2  David         HR    Master      M  analyst      2      30"
      ]
     },
     "execution_count": 45,
     "metadata": {},
     "output_type": "execute_result"
    }
   ],
   "source": [
    "# your answer here",
    "employee.loc[employee['Name']=='David']"
   ]
  },
  {
   "cell_type": "markdown",
   "metadata": {},
   "source": [
    "#### Could you give only David's salary?"
   ]
  },
  {
   "cell_type": "code",
   "execution_count": 53,
   "metadata": {},
   "outputs": [
    {
     "data": {
      "text/plain": [
       "2    30",
       "Name: Salary, dtype: int64"
      ]
     },
     "execution_count": 53,
     "metadata": {},
     "output_type": "execute_result"
    }
   ],
   "source": [
    "# your answer here",
    "employee.loc[employee['Name']=='David']['Salary']"
   ]
  },
  {
   "cell_type": "markdown",
   "metadata": {},
   "source": [
    "#### Print all the rows where job title is associate"
   ]
  },
  {
   "cell_type": "code",
   "execution_count": 54,
   "metadata": {},
   "outputs": [
    {
     "data": {
      "text/html": [
       "<div>",
       "<style scoped>",
       "    .dataframe tbody tr th:only-of-type {",
       "        vertical-align: middle;",
       "    }",
       "",
       "    .dataframe tbody tr th {",
       "        vertical-align: top;",
       "    }",
       "",
       "    .dataframe thead th {",
       "        text-align: right;",
       "    }",
       "</style>",
       "<table border=\"1\" class=\"dataframe\">",
       "  <thead>",
       "    <tr style=\"text-align: right;\">",
       "      <th></th>",
       "      <th>Name</th>",
       "      <th>Department</th>",
       "      <th>Education</th>",
       "      <th>Gender</th>",
       "      <th>Title</th>",
       "      <th>Years</th>",
       "      <th>Salary</th>",
       "    </tr>",
       "  </thead>",
       "  <tbody>",
       "    <tr>",
       "      <th>4</th>",
       "      <td>Samuel</td>",
       "      <td>Sales</td>",
       "      <td>Master</td>",
       "      <td>M</td>",
       "      <td>associate</td>",
       "      <td>3</td>",
       "      <td>55</td>",
       "    </tr>",
       "    <tr>",
       "      <th>5</th>",
       "      <td>Eva</td>",
       "      <td>Sales</td>",
       "      <td>Bachelor</td>",
       "      <td>F</td>",
       "      <td>associate</td>",
       "      <td>2</td>",
       "      <td>55</td>",
       "    </tr>",
       "    <tr>",
       "      <th>7</th>",
       "      <td>Pedro</td>",
       "      <td>IT</td>",
       "      <td>Phd</td>",
       "      <td>M</td>",
       "      <td>associate</td>",
       "      <td>7</td>",
       "      <td>60</td>",
       "    </tr>",
       "  </tbody>",
       "</table>",
       "</div>"
      ],
      "text/plain": [
       "     Name Department Education Gender      Title  Years  Salary",
       "4  Samuel      Sales    Master      M  associate      3      55",
       "5     Eva      Sales  Bachelor      F  associate      2      55",
       "7   Pedro         IT       Phd      M  associate      7      60"
      ]
     },
     "execution_count": 54,
     "metadata": {},
     "output_type": "execute_result"
    }
   ],
   "source": [
    "# your answer here",
    "employee.loc[employee['Title']=='associate']"
   ]
  },
  {
   "cell_type": "markdown",
   "metadata": {},
   "source": [
    "#### Print the first 3 rows of your dataframe",
    "",
    "##### Tip : There are 2 ways to do it. Do it both ways"
   ]
  },
  {
   "cell_type": "code",
   "execution_count": 55,
   "metadata": {},
   "outputs": [
    {
     "data": {
      "text/html": [
       "<div>",
       "<style scoped>",
       "    .dataframe tbody tr th:only-of-type {",
       "        vertical-align: middle;",
       "    }",
       "",
       "    .dataframe tbody tr th {",
       "        vertical-align: top;",
       "    }",
       "",
       "    .dataframe thead th {",
       "        text-align: right;",
       "    }",
       "</style>",
       "<table border=\"1\" class=\"dataframe\">",
       "  <thead>",
       "    <tr style=\"text-align: right;\">",
       "      <th></th>",
       "      <th>Name</th>",
       "      <th>Department</th>",
       "      <th>Education</th>",
       "      <th>Gender</th>",
       "      <th>Title</th>",
       "      <th>Years</th>",
       "      <th>Salary</th>",
       "    </tr>",
       "  </thead>",
       "  <tbody>",
       "    <tr>",
       "      <th>0</th>",
       "      <td>Jose</td>",
       "      <td>IT</td>",
       "      <td>Bachelor</td>",
       "      <td>M</td>",
       "      <td>analyst</td>",
       "      <td>1</td>",
       "      <td>35</td>",
       "    </tr>",
       "    <tr>",
       "      <th>1</th>",
       "      <td>Maria</td>",
       "      <td>IT</td>",
       "      <td>Master</td>",
       "      <td>F</td>",
       "      <td>analyst</td>",
       "      <td>2</td>",
       "      <td>30</td>",
       "    </tr>",
       "    <tr>",
       "      <th>2</th>",
       "      <td>David</td>",
       "      <td>HR</td>",
       "      <td>Master</td>",
       "      <td>M</td>",
       "      <td>analyst</td>",
       "      <td>2</td>",
       "      <td>30</td>",
       "    </tr>",
       "  </tbody>",
       "</table>",
       "</div>"
      ],
      "text/plain": [
       "    Name Department Education Gender    Title  Years  Salary",
       "0   Jose         IT  Bachelor      M  analyst      1      35",
       "1  Maria         IT    Master      F  analyst      2      30",
       "2  David         HR    Master      M  analyst      2      30"
      ]
     },
     "execution_count": 55,
     "metadata": {},
     "output_type": "execute_result"
    }
   ],
   "source": [
    "# your answer here- 1 method",
    "employee.head(3)"
   ]
  },
  {
   "cell_type": "code",
   "execution_count": 57,
   "metadata": {},
   "outputs": [
    {
     "data": {
      "text/html": [
       "<div>",
       "<style scoped>",
       "    .dataframe tbody tr th:only-of-type {",
       "        vertical-align: middle;",
       "    }",
       "",
       "    .dataframe tbody tr th {",
       "        vertical-align: top;",
       "    }",
       "",
       "    .dataframe thead th {",
       "        text-align: right;",
       "    }",
       "</style>",
       "<table border=\"1\" class=\"dataframe\">",
       "  <thead>",
       "    <tr style=\"text-align: right;\">",
       "      <th></th>",
       "      <th>Name</th>",
       "      <th>Department</th>",
       "      <th>Education</th>",
       "      <th>Gender</th>",
       "      <th>Title</th>",
       "      <th>Years</th>",
       "      <th>Salary</th>",
       "    </tr>",
       "  </thead>",
       "  <tbody>",
       "    <tr>",
       "      <th>0</th>",
       "      <td>Jose</td>",
       "      <td>IT</td>",
       "      <td>Bachelor</td>",
       "      <td>M</td>",
       "      <td>analyst</td>",
       "      <td>1</td>",
       "      <td>35</td>",
       "    </tr>",
       "    <tr>",
       "      <th>1</th>",
       "      <td>Maria</td>",
       "      <td>IT</td>",
       "      <td>Master</td>",
       "      <td>F</td>",
       "      <td>analyst</td>",
       "      <td>2</td>",
       "      <td>30</td>",
       "    </tr>",
       "    <tr>",
       "      <th>2</th>",
       "      <td>David</td>",
       "      <td>HR</td>",
       "      <td>Master</td>",
       "      <td>M</td>",
       "      <td>analyst</td>",
       "      <td>2</td>",
       "      <td>30</td>",
       "    </tr>",
       "  </tbody>",
       "</table>",
       "</div>"
      ],
      "text/plain": [
       "    Name Department Education Gender    Title  Years  Salary",
       "0   Jose         IT  Bachelor      M  analyst      1      35",
       "1  Maria         IT    Master      F  analyst      2      30",
       "2  David         HR    Master      M  analyst      2      30"
      ]
     },
     "execution_count": 57,
     "metadata": {},
     "output_type": "execute_result"
    }
   ],
   "source": [
    "# your answer here- 2nd method",
    "employee.iloc[:3]"
   ]
  },
  {
   "cell_type": "markdown",
   "metadata": {},
   "source": [
    "#### Find the employees who's title is associate and the salary above 55?"
   ]
  },
  {
   "cell_type": "code",
   "execution_count": 58,
   "metadata": {},
   "outputs": [
    {
     "data": {
      "text/html": [
       "<div>",
       "<style scoped>",
       "    .dataframe tbody tr th:only-of-type {",
       "        vertical-align: middle;",
       "    }",
       "",
       "    .dataframe tbody tr th {",
       "        vertical-align: top;",
       "    }",
       "",
       "    .dataframe thead th {",
       "        text-align: right;",
       "    }",
       "</style>",
       "<table border=\"1\" class=\"dataframe\">",
       "  <thead>",
       "    <tr style=\"text-align: right;\">",
       "      <th></th>",
       "      <th>Name</th>",
       "      <th>Department</th>",
       "      <th>Education</th>",
       "      <th>Gender</th>",
       "      <th>Title</th>",
       "      <th>Years</th>",
       "      <th>Salary</th>",
       "    </tr>",
       "  </thead>",
       "  <tbody>",
       "    <tr>",
       "      <th>7</th>",
       "      <td>Pedro</td>",
       "      <td>IT</td>",
       "      <td>Phd</td>",
       "      <td>M</td>",
       "      <td>associate</td>",
       "      <td>7</td>",
       "      <td>60</td>",
       "    </tr>",
       "  </tbody>",
       "</table>",
       "</div>"
      ],
      "text/plain": [
       "    Name Department Education Gender      Title  Years  Salary",
       "7  Pedro         IT       Phd      M  associate      7      60"
      ]
     },
     "execution_count": 58,
     "metadata": {},
     "output_type": "execute_result"
    }
   ],
   "source": [
    "# your answer here",
    "employee.loc[(employee['Title']=='associate')&(employee['Salary']>55)]"
   ]
  },
  {
   "cell_type": "markdown",
   "metadata": {},
   "source": [
    "#### Group the employees based on their number of years of employment. What are the average salaries in each group?"
   ]
  },
  {
   "cell_type": "code",
   "execution_count": 59,
   "metadata": {},
   "outputs": [
    {
     "data": {
      "text/plain": [
       "Years",
       "1    35.000000",
       "2    38.333333",
       "3    55.000000",
       "4    35.000000",
       "7    60.000000",
       "8    70.000000",
       "Name: Salary, dtype: float64"
      ]
     },
     "execution_count": 59,
     "metadata": {},
     "output_type": "execute_result"
    }
   ],
   "source": [
    "# your answer here",
    "employee.groupby('Years')['Salary'].mean()"
   ]
  },
  {
   "cell_type": "markdown",
   "metadata": {},
   "source": [
    "####  What is the average Salary per title?"
   ]
  },
  {
   "cell_type": "code",
   "execution_count": 61,
   "metadata": {},
   "outputs": [
    {
     "data": {
      "text/plain": [
       "Title",
       "VP           70.000000",
       "analyst      32.500000",
       "associate    56.666667",
       "Name: Salary, dtype: float64"
      ]
     },
     "execution_count": 61,
     "metadata": {},
     "output_type": "execute_result"
    }
   ],
   "source": [
    "# your answer here",
    "employee.groupby('Title')['Salary'].mean()"
   ]
  },
  {
   "cell_type": "markdown",
   "metadata": {},
   "source": [
    "#### Show a visual summary of the data using boxplot. What Are the First and Third Quartiles? Comment your results.",
    "##### * Hint : Quantiles vs Quartiles*",
    "##### - `In Probability and Statistics, quantiles are cut points dividing the range of a probability distribution into continuous intervals with equal probabilities. When division is into four parts the values of the variate corresponding to 25%, 50% and 75% of the total distribution are called quartiles.`"
   ]
  },
  {
   "cell_type": "code",
   "execution_count": 87,
   "metadata": {},
   "outputs": [
    {
     "data": {
      "text/html": [
       "<div>",
       "<style scoped>",
       "    .dataframe tbody tr th:only-of-type {",
       "        vertical-align: middle;",
       "    }",
       "",
       "    .dataframe tbody tr th {",
       "        vertical-align: top;",
       "    }",
       "",
       "    .dataframe thead th {",
       "        text-align: right;",
       "    }",
       "</style>",
       "<table border=\"1\" class=\"dataframe\">",
       "  <thead>",
       "    <tr style=\"text-align: right;\">",
       "      <th></th>",
       "      <th>Years</th>",
       "      <th>Salary</th>",
       "    </tr>",
       "  </thead>",
       "  <tbody>",
       "    <tr>",
       "      <th>count</th>",
       "      <td>9.000000</td>",
       "      <td>9.000000</td>",
       "    </tr>",
       "    <tr>",
       "      <th>mean</th>",
       "      <td>4.111111</td>",
       "      <td>48.888889</td>",
       "    </tr>",
       "    <tr>",
       "      <th>std</th>",
       "      <td>2.803767</td>",
       "      <td>16.541194</td>",
       "    </tr>",
       "    <tr>",
       "      <th>min</th>",
       "      <td>1.000000</td>",
       "      <td>30.000000</td>",
       "    </tr>",
       "    <tr>",
       "      <th>25%</th>",
       "      <td>2.000000</td>",
       "      <td>35.000000</td>",
       "    </tr>",
       "    <tr>",
       "      <th>50%</th>",
       "      <td>3.000000</td>",
       "      <td>55.000000</td>",
       "    </tr>",
       "    <tr>",
       "      <th>75%</th>",
       "      <td>7.000000</td>",
       "      <td>60.000000</td>",
       "    </tr>",
       "    <tr>",
       "      <th>max</th>",
       "      <td>8.000000</td>",
       "      <td>70.000000</td>",
       "    </tr>",
       "  </tbody>",
       "</table>",
       "</div>"
      ],
      "text/plain": [
       "          Years     Salary",
       "count  9.000000   9.000000",
       "mean   4.111111  48.888889",
       "std    2.803767  16.541194",
       "min    1.000000  30.000000",
       "25%    2.000000  35.000000",
       "50%    3.000000  55.000000",
       "75%    7.000000  60.000000",
       "max    8.000000  70.000000"
      ]
     },
     "execution_count": 87,
     "metadata": {},
     "output_type": "execute_result"
    }
   ],
   "source": [
    "employee.describe()"
   ]
  },
  {
   "cell_type": "code",
   "execution_count": 75,
   "metadata": {},
   "outputs": [
    {
     "data": {
      "image/png": "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",
      "text/plain": [
       "<Figure size 432x288 with 1 Axes>"
      ]
     },
     "metadata": {
      "needs_background": "light"
     },
     "output_type": "display_data"
    }
   ],
   "source": [
    "# draw boxplot here",
    "sns.boxplot(data=employee['Salary']);"
   ]
  },
  {
   "cell_type": "code",
   "execution_count": 88,
   "metadata": {},
   "outputs": [
    {
     "data": {
      "text/html": [
       "<div>",
       "<style scoped>",
       "    .dataframe tbody tr th:only-of-type {",
       "        vertical-align: middle;",
       "    }",
       "",
       "    .dataframe tbody tr th {",
       "        vertical-align: top;",
       "    }",
       "",
       "    .dataframe thead th {",
       "        text-align: right;",
       "    }",
       "</style>",
       "<table border=\"1\" class=\"dataframe\">",
       "  <thead>",
       "    <tr style=\"text-align: right;\">",
       "      <th></th>",
       "      <th>Name</th>",
       "      <th>Department</th>",
       "      <th>Education</th>",
       "      <th>Gender</th>",
       "      <th>Title</th>",
       "      <th>Years</th>",
       "      <th>Salary</th>",
       "    </tr>",
       "  </thead>",
       "  <tbody>",
       "    <tr>",
       "      <th>0</th>",
       "      <td>Jose</td>",
       "      <td>IT</td>",
       "      <td>Bachelor</td>",
       "      <td>M</td>",
       "      <td>analyst</td>",
       "      <td>1</td>",
       "      <td>35</td>",
       "    </tr>",
       "    <tr>",
       "      <th>1</th>",
       "      <td>Maria</td>",
       "      <td>IT</td>",
       "      <td>Master</td>",
       "      <td>F</td>",
       "      <td>analyst</td>",
       "      <td>2</td>",
       "      <td>30</td>",
       "    </tr>",
       "    <tr>",
       "      <th>2</th>",
       "      <td>David</td>",
       "      <td>HR</td>",
       "      <td>Master</td>",
       "      <td>M</td>",
       "      <td>analyst</td>",
       "      <td>2</td>",
       "      <td>30</td>",
       "    </tr>",
       "    <tr>",
       "      <th>3</th>",
       "      <td>Sonia</td>",
       "      <td>HR</td>",
       "      <td>Bachelor</td>",
       "      <td>F</td>",
       "      <td>analyst</td>",
       "      <td>4</td>",
       "      <td>35</td>",
       "    </tr>",
       "  </tbody>",
       "</table>",
       "</div>"
      ],
      "text/plain": [
       "    Name Department Education Gender    Title  Years  Salary",
       "0   Jose         IT  Bachelor      M  analyst      1      35",
       "1  Maria         IT    Master      F  analyst      2      30",
       "2  David         HR    Master      M  analyst      2      30",
       "3  Sonia         HR  Bachelor      F  analyst      4      35"
      ]
     },
     "execution_count": 88,
     "metadata": {},
     "output_type": "execute_result"
    }
   ],
   "source": [
    "# print first quartile here",
    "(employee.loc",
    " [(employee['Salary']>=employee.describe().loc['min']['Salary'])&",
    "  (employee['Salary']<=employee.describe().loc['25%']['Salary'])])"
   ]
  },
  {
   "cell_type": "code",
   "execution_count": 86,
   "metadata": {},
   "outputs": [
    {
     "data": {
      "text/html": [
       "<div>",
       "<style scoped>",
       "    .dataframe tbody tr th:only-of-type {",
       "        vertical-align: middle;",
       "    }",
       "",
       "    .dataframe tbody tr th {",
       "        vertical-align: top;",
       "    }",
       "",
       "    .dataframe thead th {",
       "        text-align: right;",
       "    }",
       "</style>",
       "<table border=\"1\" class=\"dataframe\">",
       "  <thead>",
       "    <tr style=\"text-align: right;\">",
       "      <th></th>",
       "      <th>Name</th>",
       "      <th>Department</th>",
       "      <th>Education</th>",
       "      <th>Gender</th>",
       "      <th>Title</th>",
       "      <th>Years</th>",
       "      <th>Salary</th>",
       "    </tr>",
       "  </thead>",
       "  <tbody>",
       "    <tr>",
       "      <th>4</th>",
       "      <td>Samuel</td>",
       "      <td>Sales</td>",
       "      <td>Master</td>",
       "      <td>M</td>",
       "      <td>associate</td>",
       "      <td>3</td>",
       "      <td>55</td>",
       "    </tr>",
       "    <tr>",
       "      <th>5</th>",
       "      <td>Eva</td>",
       "      <td>Sales</td>",
       "      <td>Bachelor</td>",
       "      <td>F</td>",
       "      <td>associate</td>",
       "      <td>2</td>",
       "      <td>55</td>",
       "    </tr>",
       "    <tr>",
       "      <th>7</th>",
       "      <td>Pedro</td>",
       "      <td>IT</td>",
       "      <td>Phd</td>",
       "      <td>M</td>",
       "      <td>associate</td>",
       "      <td>7</td>",
       "      <td>60</td>",
       "    </tr>",
       "  </tbody>",
       "</table>",
       "</div>"
      ],
      "text/plain": [
       "     Name Department Education Gender      Title  Years  Salary",
       "4  Samuel      Sales    Master      M  associate      3      55",
       "5     Eva      Sales  Bachelor      F  associate      2      55",
       "7   Pedro         IT       Phd      M  associate      7      60"
      ]
     },
     "execution_count": 86,
     "metadata": {},
     "output_type": "execute_result"
    }
   ],
   "source": [
    "# print third quartile here",
    "(employee.loc",
    " [(employee['Salary']>=employee.describe().loc['50%']['Salary'])&",
    "  (employee['Salary']<=employee.describe().loc['75%']['Salary'])])"
   ]
  },
  {
   "cell_type": "markdown",
   "metadata": {},
   "source": [
    "#### Is the mean salary per gender different?"
   ]
  },
  {
   "cell_type": "code",
   "execution_count": 71,
   "metadata": {},
   "outputs": [
    {
     "data": {
      "text/plain": [
       "Gender",
       "F    47.5",
       "M    50.0",
       "Name: Salary, dtype: float64"
      ]
     },
     "execution_count": 71,
     "metadata": {},
     "output_type": "execute_result"
    }
   ],
   "source": [
    "# your answer here",
    "employee.groupby('Gender')['Salary'].mean()"
   ]
  },
  {
   "cell_type": "markdown",
   "metadata": {},
   "source": [
    "#### Find the minimum, mean and the maximum of all numeric columns for each Department.",
    "",
    "##### Hint: Use functions from Data Manipulation lesson"
   ]
  },
  {
   "cell_type": "code",
   "execution_count": 80,
   "metadata": {},
   "outputs": [
    {
     "data": {
      "text/html": [
       "<div>",
       "<style scoped>",
       "    .dataframe tbody tr th:only-of-type {",
       "        vertical-align: middle;",
       "    }",
       "",
       "    .dataframe tbody tr th {",
       "        vertical-align: top;",
       "    }",
       "",
       "    .dataframe thead th {",
       "        text-align: right;",
       "    }",
       "</style>",
       "<table border=\"1\" class=\"dataframe\">",
       "  <thead>",
       "    <tr style=\"text-align: right;\">",
       "      <th></th>",
       "      <th>Name</th>",
       "      <th>Education</th>",
       "      <th>Gender</th>",
       "      <th>Title</th>",
       "      <th>Years</th>",
       "      <th>Salary</th>",
       "    </tr>",
       "    <tr>",
       "      <th>Department</th>",
       "      <th></th>",
       "      <th></th>",
       "      <th></th>",
       "      <th></th>",
       "      <th></th>",
       "      <th></th>",
       "    </tr>",
       "  </thead>",
       "  <tbody>",
       "    <tr>",
       "      <th>HR</th>",
       "      <td>Ana</td>",
       "      <td>Bachelor</td>",
       "      <td>F</td>",
       "      <td>VP</td>",
       "      <td>2</td>",
       "      <td>30</td>",
       "    </tr>",
       "    <tr>",
       "      <th>IT</th>",
       "      <td>Carlos</td>",
       "      <td>Bachelor</td>",
       "      <td>F</td>",
       "      <td>VP</td>",
       "      <td>1</td>",
       "      <td>30</td>",
       "    </tr>",
       "    <tr>",
       "      <th>Sales</th>",
       "      <td>Eva</td>",
       "      <td>Bachelor</td>",
       "      <td>F</td>",
       "      <td>associate</td>",
       "      <td>2</td>",
       "      <td>55</td>",
       "    </tr>",
       "  </tbody>",
       "</table>",
       "</div>"
      ],
      "text/plain": [
       "              Name Education Gender      Title  Years  Salary",
       "Department                                                   ",
       "HR             Ana  Bachelor      F         VP      2      30",
       "IT          Carlos  Bachelor      F         VP      1      30",
       "Sales          Eva  Bachelor      F  associate      2      55"
      ]
     },
     "execution_count": 80,
     "metadata": {},
     "output_type": "execute_result"
    }
   ],
   "source": [
    "# your answer here",
    "employee.groupby('Department').min()"
   ]
  },
  {
   "cell_type": "markdown",
   "metadata": {},
   "source": [
    "### Bonus Question",
    "",
    "#### For each department, compute the difference between the maximal salary and the minimal salary.",
    "",
    "##### * Hint: try using `agg` or `apply` and `lambda`*"
   ]
  },
  {
   "cell_type": "code",
   "execution_count": 98,
   "metadata": {},
   "outputs": [
    {
     "data": {
      "text/plain": [
       "Department",
       "HR       40",
       "IT       40",
       "Sales     0",
       "Name: Salary, dtype: int64"
      ]
     },
     "execution_count": 98,
     "metadata": {},
     "output_type": "execute_result"
    }
   ],
   "source": [
    "# your answer here",
    "employee.groupby('Department')['Salary'].apply(lambda x: max(x)-min(x))"
   ]
  },
  {
   "cell_type": "markdown",
   "metadata": {},
   "source": [
    "# Challenge 3"
   ]
  },
  {
   "cell_type": "markdown",
   "metadata": {},
   "source": [
    "#### Open the Orders.csv dataset. Name your dataset orders"
   ]
  },
  {
   "cell_type": "code",
   "execution_count": 102,
   "metadata": {},
   "execution_count": null,
   "metadata": {
    "collapsed": true,
    "jupyter": {
     "outputs_hidden": true
    }
   },
   "outputs": [],
   "source": [
    "# your answer here",
    "orders = pd.read_csv('Orders.zip')"
   ]
  },
  {
   "cell_type": "markdown",
   "metadata": {},
   "source": [
    "#### Explore your dataset by looking at the data types and the summary statistics. Comment your results"
   ]
  },
  {
   "cell_type": "code",
<<<<<<< HEAD
   "execution_count": 106,
   "metadata": {},
   "outputs": [
    {
     "data": {
      "text/plain": [
       "Unnamed: 0        int64",
       "InvoiceNo         int64",
       "StockCode        object",
       "year              int64",
       "month             int64",
       "day               int64",
       "hour              int64",
       "Description      object",
       "Quantity          int64",
       "InvoiceDate      object",
       "UnitPrice       float64",
       "CustomerID        int64",
       "Country          object",
       "amount_spent    float64",
       "dtype: object"
      ]
     },
     "execution_count": 106,
     "metadata": {},
     "output_type": "execute_result"
    }
   ],
   "source": [
    "# your answer here",
    "orders.dtypes"
   "execution_count": null,
   "metadata": {
    "collapsed": true,
    "jupyter": {
     "outputs_hidden": true
    }
   },
   "outputs": [],
   "source": [
    "# your answer here"
   ]
  },
  {
   "cell_type": "code",
   "execution_count": 107,
   "metadata": {},
   "outputs": [
    {
     "data": {
      "text/html": [
       "<div>",
       "<style scoped>",
       "    .dataframe tbody tr th:only-of-type {",
       "        vertical-align: middle;",
       "    }",
       "",
       "    .dataframe tbody tr th {",
       "        vertical-align: top;",
       "    }",
       "",
       "    .dataframe thead th {",
       "        text-align: right;",
       "    }",
       "</style>",
       "<table border=\"1\" class=\"dataframe\">",
       "  <thead>",
       "    <tr style=\"text-align: right;\">",
       "      <th></th>",
       "      <th>Unnamed: 0</th>",
       "      <th>InvoiceNo</th>",
       "      <th>year</th>",
       "      <th>month</th>",
       "      <th>day</th>",
       "      <th>hour</th>",
       "      <th>Quantity</th>",
       "      <th>UnitPrice</th>",
       "      <th>CustomerID</th>",
       "      <th>amount_spent</th>",
       "    </tr>",
       "  </thead>",
       "  <tbody>",
       "    <tr>",
       "      <th>count</th>",
       "      <td>397924.000000</td>",
       "      <td>397924.000000</td>",
       "      <td>397924.000000</td>",
       "      <td>397924.000000</td>",
       "      <td>397924.000000</td>",
       "      <td>397924.000000</td>",
       "      <td>397924.000000</td>",
       "      <td>397924.000000</td>",
       "      <td>397924.000000</td>",
       "      <td>397924.000000</td>",
       "    </tr>",
       "    <tr>",
       "      <th>mean</th>",
       "      <td>278465.221859</td>",
       "      <td>560617.126645</td>",
       "      <td>2010.934259</td>",
       "      <td>7.612537</td>",
       "      <td>3.614555</td>",
       "      <td>12.728247</td>",
       "      <td>13.021823</td>",
       "      <td>3.116174</td>",
       "      <td>15294.315171</td>",
       "      <td>22.394749</td>",
       "    </tr>",
       "    <tr>",
       "      <th>std</th>",
       "      <td>152771.368303</td>",
       "      <td>13106.167695</td>",
       "      <td>0.247829</td>",
       "      <td>3.416527</td>",
       "      <td>1.928274</td>",
       "      <td>2.273535</td>",
       "      <td>180.420210</td>",
       "      <td>22.096788</td>",
       "      <td>1713.169877</td>",
       "      <td>309.055588</td>",
       "    </tr>",
       "    <tr>",
       "      <th>min</th>",
       "      <td>0.000000</td>",
       "      <td>536365.000000</td>",
       "      <td>2010.000000</td>",
       "      <td>1.000000</td>",
       "      <td>1.000000</td>",
       "      <td>6.000000</td>",
       "      <td>1.000000</td>",
       "      <td>0.000000</td>",
       "      <td>12346.000000</td>",
       "      <td>0.000000</td>",
       "    </tr>",
       "    <tr>",
       "      <th>25%</th>",
       "      <td>148333.750000</td>",
       "      <td>549234.000000</td>",
       "      <td>2011.000000</td>",
       "      <td>5.000000</td>",
       "      <td>2.000000</td>",
       "      <td>11.000000</td>",
       "      <td>2.000000</td>",
       "      <td>1.250000</td>",
       "      <td>13969.000000</td>",
       "      <td>4.680000</td>",
       "    </tr>",
       "    <tr>",
       "      <th>50%</th>",
       "      <td>284907.500000</td>",
       "      <td>561893.000000</td>",
       "      <td>2011.000000</td>",
       "      <td>8.000000</td>",
       "      <td>3.000000</td>",
       "      <td>13.000000</td>",
       "      <td>6.000000</td>",
       "      <td>1.950000</td>",
       "      <td>15159.000000</td>",
       "      <td>11.800000</td>",
       "    </tr>",
       "    <tr>",
       "      <th>75%</th>",
       "      <td>410079.250000</td>",
       "      <td>572090.000000</td>",
       "      <td>2011.000000</td>",
       "      <td>11.000000</td>",
       "      <td>5.000000</td>",
       "      <td>14.000000</td>",
       "      <td>12.000000</td>",
       "      <td>3.750000</td>",
       "      <td>16795.000000</td>",
       "      <td>19.800000</td>",
       "    </tr>",
       "    <tr>",
       "      <th>max</th>",
       "      <td>541908.000000</td>",
       "      <td>581587.000000</td>",
       "      <td>2011.000000</td>",
       "      <td>12.000000</td>",
       "      <td>7.000000</td>",
       "      <td>20.000000</td>",
       "      <td>80995.000000</td>",
       "      <td>8142.750000</td>",
       "      <td>18287.000000</td>",
       "      <td>168469.600000</td>",
       "    </tr>",
       "  </tbody>",
       "</table>",
       "</div>"
      ],
      "text/plain": [
       "          Unnamed: 0      InvoiceNo           year          month  \\",
       "count  397924.000000  397924.000000  397924.000000  397924.000000   ",
       "mean   278465.221859  560617.126645    2010.934259       7.612537   ",
       "std    152771.368303   13106.167695       0.247829       3.416527   ",
       "min         0.000000  536365.000000    2010.000000       1.000000   ",
       "25%    148333.750000  549234.000000    2011.000000       5.000000   ",
       "50%    284907.500000  561893.000000    2011.000000       8.000000   ",
       "75%    410079.250000  572090.000000    2011.000000      11.000000   ",
       "max    541908.000000  581587.000000    2011.000000      12.000000   ",
       "",
       "                 day           hour       Quantity      UnitPrice  \\",
       "count  397924.000000  397924.000000  397924.000000  397924.000000   ",
       "mean        3.614555      12.728247      13.021823       3.116174   ",
       "std         1.928274       2.273535     180.420210      22.096788   ",
       "min         1.000000       6.000000       1.000000       0.000000   ",
       "25%         2.000000      11.000000       2.000000       1.250000   ",
       "50%         3.000000      13.000000       6.000000       1.950000   ",
       "75%         5.000000      14.000000      12.000000       3.750000   ",
       "max         7.000000      20.000000   80995.000000    8142.750000   ",
       "",
       "          CustomerID   amount_spent  ",
       "count  397924.000000  397924.000000  ",
       "mean    15294.315171      22.394749  ",
       "std      1713.169877     309.055588  ",
       "min     12346.000000       0.000000  ",
       "25%     13969.000000       4.680000  ",
       "50%     15159.000000      11.800000  ",
       "75%     16795.000000      19.800000  ",
       "max     18287.000000  168469.600000  "
      ]
     },
     "execution_count": 107,
     "metadata": {},
     "output_type": "execute_result"
    }
   ],
   "source": [
    "# your answer here",
    "orders.describe()"
   "execution_count": null,
   "metadata": {
    "collapsed": true,
    "jupyter": {
     "outputs_hidden": true
    }
   },
   "outputs": [],
   "source": [
    "# your answer here"
   ]
  },
  {
   "cell_type": "markdown",
   "metadata": {},
   "source": [
    "####  What is the average Purchase Price?"
   ]
  },
  {
   "cell_type": "code",
<<<<<<< HEAD
   "execution_count": 109,
   "metadata": {},
   "outputs": [
    {
     "data": {
      "text/plain": [
       "3.1161744805540756"
      ]
     },
     "execution_count": 109,
     "metadata": {},
     "output_type": "execute_result"
    }
   ],
   "execution_count": null,
   "metadata": {
    "collapsed": true,
    "jupyter": {
     "outputs_hidden": true
    }
   },
   "outputs": [],
   "source": [
    "# your answer here",
    "orders['UnitPrice'].mean()"
   ]
  },
  {
   "cell_type": "markdown",
   "metadata": {},
   "source": [
    "#### What were the highest and lowest purchase prices? "
   ]
  },
  {
   "cell_type": "code",
   "execution_count": 111,
   "metadata": {},
   "outputs": [
    {
     "data": {
      "text/plain": [
       "8142.75"
      ]
     },
     "execution_count": 111,
     "metadata": {},
     "output_type": "execute_result"
    }
   ],
   "execution_count": null,
   "metadata": {
    "collapsed": true,
    "jupyter": {
     "outputs_hidden": true
    }
   },
   "outputs": [],
   "source": [
    "# your answer here",
    "orders['UnitPrice'].max()"
   ]
  },
  {
   "cell_type": "code",
   "execution_count": 110,
   "metadata": {},
   "outputs": [
    {
     "data": {
      "text/plain": [
       "0.0"
      ]
     },
     "execution_count": 110,
     "metadata": {},
     "output_type": "execute_result"
    }
   ],
   "execution_count": null,
   "metadata": {
    "collapsed": true,
    "jupyter": {
     "outputs_hidden": true
    }
   },
   "outputs": [],
   "source": [
    "# your answer here",
    "orders['UnitPrice'].min()"
   ]
  },
  {
   "cell_type": "markdown",
   "metadata": {},
   "source": [
    "#### Select all the customers we have in Spain"
   ]
  },
  {
   "cell_type": "code",
   "execution_count": 112,
   "metadata": {},
   "outputs": [
    {
     "data": {
      "text/html": [
       "<div>",
       "<style scoped>",
       "    .dataframe tbody tr th:only-of-type {",
       "        vertical-align: middle;",
       "    }",
       "",
       "    .dataframe tbody tr th {",
       "        vertical-align: top;",
       "    }",
       "",
       "    .dataframe thead th {",
       "        text-align: right;",
       "    }",
       "</style>",
       "<table border=\"1\" class=\"dataframe\">",
       "  <thead>",
       "    <tr style=\"text-align: right;\">",
       "      <th></th>",
       "      <th>Unnamed: 0</th>",
       "      <th>InvoiceNo</th>",
       "      <th>StockCode</th>",
       "      <th>year</th>",
       "      <th>month</th>",
       "      <th>day</th>",
       "      <th>hour</th>",
       "      <th>Description</th>",
       "      <th>Quantity</th>",
       "      <th>InvoiceDate</th>",
       "      <th>UnitPrice</th>",
       "      <th>CustomerID</th>",
       "      <th>Country</th>",
       "      <th>amount_spent</th>",
       "    </tr>",
       "  </thead>",
       "  <tbody>",
       "    <tr>",
       "      <th>4250</th>",
       "      <td>6421</td>",
       "      <td>536944</td>",
       "      <td>22383</td>",
       "      <td>2010</td>",
       "      <td>12</td>",
       "      <td>5</td>",
       "      <td>12</td>",
       "      <td>lunch bag suki  design</td>",
       "      <td>70</td>",
       "      <td>2010-12-03 12:20:00</td>",
       "      <td>1.65</td>",
       "      <td>12557</td>",
       "      <td>Spain</td>",
       "      <td>115.50</td>",
       "    </tr>",
       "    <tr>",
       "      <th>4251</th>",
       "      <td>6422</td>",
       "      <td>536944</td>",
       "      <td>22384</td>",
       "      <td>2010</td>",
       "      <td>12</td>",
       "      <td>5</td>",
       "      <td>12</td>",
       "      <td>lunch bag pink polkadot</td>",
       "      <td>100</td>",
       "      <td>2010-12-03 12:20:00</td>",
       "      <td>1.45</td>",
       "      <td>12557</td>",
       "      <td>Spain</td>",
       "      <td>145.00</td>",
       "    </tr>",
       "    <tr>",
       "      <th>4252</th>",
       "      <td>6423</td>",
       "      <td>536944</td>",
       "      <td>20727</td>",
       "      <td>2010</td>",
       "      <td>12</td>",
       "      <td>5</td>",
       "      <td>12</td>",
       "      <td>lunch bag  black skull.</td>",
       "      <td>60</td>",
       "      <td>2010-12-03 12:20:00</td>",
       "      <td>1.65</td>",
       "      <td>12557</td>",
       "      <td>Spain</td>",
       "      <td>99.00</td>",
       "    </tr>",
       "    <tr>",
       "      <th>4253</th>",
       "      <td>6424</td>",
       "      <td>536944</td>",
       "      <td>20725</td>",
       "      <td>2010</td>",
       "      <td>12</td>",
       "      <td>5</td>",
       "      <td>12</td>",
       "      <td>lunch bag red retrospot</td>",
       "      <td>70</td>",
       "      <td>2010-12-03 12:20:00</td>",
       "      <td>1.65</td>",
       "      <td>12557</td>",
       "      <td>Spain</td>",
       "      <td>115.50</td>",
       "    </tr>",
       "    <tr>",
       "      <th>4254</th>",
       "      <td>6425</td>",
       "      <td>536944</td>",
       "      <td>20728</td>",
       "      <td>2010</td>",
       "      <td>12</td>",
       "      <td>5</td>",
       "      <td>12</td>",
       "      <td>lunch bag cars blue</td>",
       "      <td>100</td>",
       "      <td>2010-12-03 12:20:00</td>",
       "      <td>1.45</td>",
       "      <td>12557</td>",
       "      <td>Spain</td>",
       "      <td>145.00</td>",
       "    </tr>",
       "    <tr>",
       "      <th>...</th>",
       "      <td>...</td>",
       "      <td>...</td>",
       "      <td>...</td>",
       "      <td>...</td>",
       "      <td>...</td>",
       "      <td>...</td>",
       "      <td>...</td>",
       "      <td>...</td>",
       "      <td>...</td>",
       "      <td>...</td>",
       "      <td>...</td>",
       "      <td>...</td>",
       "      <td>...</td>",
       "      <td>...</td>",
       "    </tr>",
       "    <tr>",
       "      <th>394733</th>",
       "      <td>535271</td>",
       "      <td>581193</td>",
       "      <td>23291</td>",
       "      <td>2011</td>",
       "      <td>12</td>",
       "      <td>3</td>",
       "      <td>17</td>",
       "      <td>dolly girl childrens cup</td>",
       "      <td>2</td>",
       "      <td>2011-12-07 17:05:00</td>",
       "      <td>1.25</td>",
       "      <td>17097</td>",
       "      <td>Spain</td>",
       "      <td>2.50</td>",
       "    </tr>",
       "    <tr>",
       "      <th>394734</th>",
       "      <td>535272</td>",
       "      <td>581193</td>",
       "      <td>85232D</td>",
       "      <td>2011</td>",
       "      <td>12</td>",
       "      <td>3</td>",
       "      <td>17</td>",
       "      <td>set/3 decoupage stacking tins</td>",
       "      <td>1</td>",
       "      <td>2011-12-07 17:05:00</td>",
       "      <td>4.95</td>",
       "      <td>17097</td>",
       "      <td>Spain</td>",
       "      <td>4.95</td>",
       "    </tr>",
       "    <tr>",
       "      <th>394735</th>",
       "      <td>535273</td>",
       "      <td>581193</td>",
       "      <td>22721</td>",
       "      <td>2011</td>",
       "      <td>12</td>",
       "      <td>3</td>",
       "      <td>17</td>",
       "      <td>set of 3 cake tins sketchbook</td>",
       "      <td>2</td>",
       "      <td>2011-12-07 17:05:00</td>",
       "      <td>1.95</td>",
       "      <td>17097</td>",
       "      <td>Spain</td>",
       "      <td>3.90</td>",
       "    </tr>",
       "    <tr>",
       "      <th>394736</th>",
       "      <td>535274</td>",
       "      <td>581193</td>",
       "      <td>23241</td>",
       "      <td>2011</td>",
       "      <td>12</td>",
       "      <td>3</td>",
       "      <td>17</td>",
       "      <td>treasure tin gymkhana design</td>",
       "      <td>1</td>",
       "      <td>2011-12-07 17:05:00</td>",
       "      <td>2.08</td>",
       "      <td>17097</td>",
       "      <td>Spain</td>",
       "      <td>2.08</td>",
       "    </tr>",
       "    <tr>",
       "      <th>394737</th>",
       "      <td>535275</td>",
       "      <td>581193</td>",
       "      <td>23247</td>",
       "      <td>2011</td>",
       "      <td>12</td>",
       "      <td>3</td>",
       "      <td>17</td>",
       "      <td>biscuit tin 50's christmas</td>",
       "      <td>1</td>",
       "      <td>2011-12-07 17:05:00</td>",
       "      <td>2.89</td>",
       "      <td>17097</td>",
       "      <td>Spain</td>",
       "      <td>2.89</td>",
       "    </tr>",
       "  </tbody>",
       "</table>",
       "<p>2485 rows × 14 columns</p>",
       "</div>"
      ],
      "text/plain": [
       "        Unnamed: 0  InvoiceNo StockCode  year  month  day  hour  \\",
       "4250          6421     536944     22383  2010     12    5    12   ",
       "4251          6422     536944     22384  2010     12    5    12   ",
       "4252          6423     536944     20727  2010     12    5    12   ",
       "4253          6424     536944     20725  2010     12    5    12   ",
       "4254          6425     536944     20728  2010     12    5    12   ",
       "...            ...        ...       ...   ...    ...  ...   ...   ",
       "394733      535271     581193     23291  2011     12    3    17   ",
       "394734      535272     581193    85232D  2011     12    3    17   ",
       "394735      535273     581193     22721  2011     12    3    17   ",
       "394736      535274     581193     23241  2011     12    3    17   ",
       "394737      535275     581193     23247  2011     12    3    17   ",
       "",
       "                          Description  Quantity          InvoiceDate  \\",
       "4250          lunch bag suki  design         70  2010-12-03 12:20:00   ",
       "4251          lunch bag pink polkadot       100  2010-12-03 12:20:00   ",
       "4252          lunch bag  black skull.        60  2010-12-03 12:20:00   ",
       "4253          lunch bag red retrospot        70  2010-12-03 12:20:00   ",
       "4254              lunch bag cars blue       100  2010-12-03 12:20:00   ",
       "...                               ...       ...                  ...   ",
       "394733       dolly girl childrens cup         2  2011-12-07 17:05:00   ",
       "394734  set/3 decoupage stacking tins         1  2011-12-07 17:05:00   ",
       "394735  set of 3 cake tins sketchbook         2  2011-12-07 17:05:00   ",
       "394736   treasure tin gymkhana design         1  2011-12-07 17:05:00   ",
       "394737     biscuit tin 50's christmas         1  2011-12-07 17:05:00   ",
       "",
       "        UnitPrice  CustomerID Country  amount_spent  ",
       "4250         1.65       12557   Spain        115.50  ",
       "4251         1.45       12557   Spain        145.00  ",
       "4252         1.65       12557   Spain         99.00  ",
       "4253         1.65       12557   Spain        115.50  ",
       "4254         1.45       12557   Spain        145.00  ",
       "...           ...         ...     ...           ...  ",
       "394733       1.25       17097   Spain          2.50  ",
       "394734       4.95       17097   Spain          4.95  ",
       "394735       1.95       17097   Spain          3.90  ",
       "394736       2.08       17097   Spain          2.08  ",
       "394737       2.89       17097   Spain          2.89  ",
       "",
       "[2485 rows x 14 columns]"
      ]
     },
     "execution_count": 112,
     "metadata": {},
     "output_type": "execute_result"
    }
   ],
   "source": [
    "# your answer here",
    "orders.loc[orders['Country']=='Spain']"
   "execution_count": null,
   "metadata": {
    "collapsed": true,
    "jupyter": {
     "outputs_hidden": true
    }
   },
   "outputs": [],
   "source": [
    "# your answer here"
   ]
  },
  {
   "cell_type": "markdown",
   "metadata": {},
   "source": [
    "#### How many customers do we have in Spain?",
    "##### Hint : Use value_counts()"
   ]
  },
  {
   "cell_type": "code",
   "execution_count": 136,
   "metadata": {},
   "outputs": [
    {
     "data": {
      "text/plain": [
       "30"
      ]
     },
     "execution_count": 136,
     "metadata": {},
     "output_type": "execute_result"
    }
   ],
   "execution_count": null,
   "metadata": {
    "collapsed": true,
    "jupyter": {
     "outputs_hidden": true
    }
   },
   "outputs": [],
   "source": [
    "# your answer here",
    "orders.loc[orders['Country']=='Spain']['CustomerID'].value_counts().count()"
   ]
  },
  {
   "cell_type": "markdown",
   "metadata": {},
   "source": [
    "#### Select all the customers who have bought more than 50 items ?"
   ]
  },
  {
   "cell_type": "code",
   "execution_count": 119,
   "metadata": {},
   "outputs": [
    {
     "data": {
      "text/html": [
       "<div>",
       "<style scoped>",
       "    .dataframe tbody tr th:only-of-type {",
       "        vertical-align: middle;",
       "    }",
       "",
       "    .dataframe tbody tr th {",
       "        vertical-align: top;",
       "    }",
       "",
       "    .dataframe thead th {",
       "        text-align: right;",
       "    }",
       "</style>",
       "<table border=\"1\" class=\"dataframe\">",
       "  <thead>",
       "    <tr style=\"text-align: right;\">",
       "      <th></th>",
       "      <th>Unnamed: 0</th>",
       "      <th>InvoiceNo</th>",
       "      <th>StockCode</th>",
       "      <th>year</th>",
       "      <th>month</th>",
       "      <th>day</th>",
       "      <th>hour</th>",
       "      <th>Description</th>",
       "      <th>Quantity</th>",
       "      <th>InvoiceDate</th>",
       "      <th>UnitPrice</th>",
       "      <th>CustomerID</th>",
       "      <th>Country</th>",
       "      <th>amount_spent</th>",
       "    </tr>",
       "  </thead>",
       "  <tbody>",
       "    <tr>",
       "      <th>46</th>",
       "      <td>46</td>",
       "      <td>536371</td>",
       "      <td>22086</td>",
       "      <td>2010</td>",
       "      <td>12</td>",
       "      <td>3</td>",
       "      <td>9</td>",
       "      <td>paper chain kit 50's christmas</td>",
       "      <td>80</td>",
       "      <td>2010-12-01 09:00:00</td>",
       "      <td>2.55</td>",
       "      <td>13748</td>",
       "      <td>United Kingdom</td>",
       "      <td>204.00</td>",
       "    </tr>",
       "    <tr>",
       "      <th>83</th>",
       "      <td>83</td>",
       "      <td>536376</td>",
       "      <td>21733</td>",
       "      <td>2010</td>",
       "      <td>12</td>",
       "      <td>3</td>",
       "      <td>9</td>",
       "      <td>red hanging heart t-light holder</td>",
       "      <td>64</td>",
       "      <td>2010-12-01 09:32:00</td>",
       "      <td>2.55</td>",
       "      <td>15291</td>",
       "      <td>United Kingdom</td>",
       "      <td>163.20</td>",
       "    </tr>",
       "    <tr>",
       "      <th>96</th>",
       "      <td>96</td>",
       "      <td>536378</td>",
       "      <td>21212</td>",
       "      <td>2010</td>",
       "      <td>12</td>",
       "      <td>3</td>",
       "      <td>9</td>",
       "      <td>pack of 72 retrospot cake cases</td>",
       "      <td>120</td>",
       "      <td>2010-12-01 09:37:00</td>",
       "      <td>0.42</td>",
       "      <td>14688</td>",
       "      <td>United Kingdom</td>",
       "      <td>50.40</td>",
       "    </tr>",
       "    <tr>",
       "      <th>102</th>",
       "      <td>102</td>",
       "      <td>536378</td>",
       "      <td>85071B</td>",
       "      <td>2010</td>",
       "      <td>12</td>",
       "      <td>3</td>",
       "      <td>9</td>",
       "      <td>red charlie+lola personal doorsign</td>",
       "      <td>96</td>",
       "      <td>2010-12-01 09:37:00</td>",
       "      <td>0.38</td>",
       "      <td>14688</td>",
       "      <td>United Kingdom</td>",
       "      <td>36.48</td>",
       "    </tr>",
       "    <tr>",
       "      <th>174</th>",
       "      <td>176</td>",
       "      <td>536386</td>",
       "      <td>85099C</td>",
       "      <td>2010</td>",
       "      <td>12</td>",
       "      <td>3</td>",
       "      <td>9</td>",
       "      <td>jumbo  bag baroque black white</td>",
       "      <td>100</td>",
       "      <td>2010-12-01 09:57:00</td>",
       "      <td>1.65</td>",
       "      <td>16029</td>",
       "      <td>United Kingdom</td>",
       "      <td>165.00</td>",
       "    </tr>",
       "    <tr>",
       "      <th>...</th>",
       "      <td>...</td>",
       "      <td>...</td>",
       "      <td>...</td>",
       "      <td>...</td>",
       "      <td>...</td>",
       "      <td>...</td>",
       "      <td>...</td>",
       "      <td>...</td>",
       "      <td>...</td>",
       "      <td>...</td>",
       "      <td>...</td>",
       "      <td>...</td>",
       "      <td>...</td>",
       "      <td>...</td>",
       "    </tr>",
       "    <tr>",
       "      <th>397720</th>",
       "      <td>541702</td>",
       "      <td>581566</td>",
       "      <td>23404</td>",
       "      <td>2011</td>",
       "      <td>12</td>",
       "      <td>5</td>",
       "      <td>11</td>",
       "      <td>home sweet home blackboard</td>",
       "      <td>144</td>",
       "      <td>2011-12-09 11:50:00</td>",
       "      <td>3.26</td>",
       "      <td>18102</td>",
       "      <td>United Kingdom</td>",
       "      <td>469.44</td>",
       "    </tr>",
       "    <tr>",
       "      <th>397721</th>",
       "      <td>541703</td>",
       "      <td>581567</td>",
       "      <td>21417</td>",
       "      <td>2011</td>",
       "      <td>12</td>",
       "      <td>5</td>",
       "      <td>11</td>",
       "      <td>cockle shell dish</td>",
       "      <td>84</td>",
       "      <td>2011-12-09 11:56:00</td>",
       "      <td>0.79</td>",
       "      <td>16626</td>",
       "      <td>United Kingdom</td>",
       "      <td>66.36</td>",
       "    </tr>",
       "    <tr>",
       "      <th>397729</th>",
       "      <td>541711</td>",
       "      <td>581567</td>",
       "      <td>21326</td>",
       "      <td>2011</td>",
       "      <td>12</td>",
       "      <td>5</td>",
       "      <td>11</td>",
       "      <td>aged glass silver t-light holder</td>",
       "      <td>144</td>",
       "      <td>2011-12-09 11:56:00</td>",
       "      <td>0.55</td>",
       "      <td>16626</td>",
       "      <td>United Kingdom</td>",
       "      <td>79.20</td>",
       "    </tr>",
       "    <tr>",
       "      <th>397761</th>",
       "      <td>541746</td>",
       "      <td>581571</td>",
       "      <td>23167</td>",
       "      <td>2011</td>",
       "      <td>12</td>",
       "      <td>5</td>",
       "      <td>12</td>",
       "      <td>small ceramic top storage jar</td>",
       "      <td>96</td>",
       "      <td>2011-12-09 12:00:00</td>",
       "      <td>0.69</td>",
       "      <td>15311</td>",
       "      <td>United Kingdom</td>",
       "      <td>66.24</td>",
       "    </tr>",
       "    <tr>",
       "      <th>397882</th>",
       "      <td>541867</td>",
       "      <td>581584</td>",
       "      <td>20832</td>",
       "      <td>2011</td>",
       "      <td>12</td>",
       "      <td>5</td>",
       "      <td>12</td>",
       "      <td>red flock love heart photo frame</td>",
       "      <td>72</td>",
       "      <td>2011-12-09 12:25:00</td>",
       "      <td>0.72</td>",
       "      <td>13777</td>",
       "      <td>United Kingdom</td>",
       "      <td>51.84</td>",
       "    </tr>",
       "  </tbody>",
       "</table>",
       "<p>11609 rows × 14 columns</p>",
       "</div>"
      ],
      "text/plain": [
       "        Unnamed: 0  InvoiceNo StockCode  year  month  day  hour  \\",
       "46              46     536371     22086  2010     12    3     9   ",
       "83              83     536376     21733  2010     12    3     9   ",
       "96              96     536378     21212  2010     12    3     9   ",
       "102            102     536378    85071B  2010     12    3     9   ",
       "174            176     536386    85099C  2010     12    3     9   ",
       "...            ...        ...       ...   ...    ...  ...   ...   ",
       "397720      541702     581566     23404  2011     12    5    11   ",
       "397721      541703     581567     21417  2011     12    5    11   ",
       "397729      541711     581567     21326  2011     12    5    11   ",
       "397761      541746     581571     23167  2011     12    5    12   ",
       "397882      541867     581584     20832  2011     12    5    12   ",
       "",
       "                               Description  Quantity          InvoiceDate  \\",
       "46         paper chain kit 50's christmas         80  2010-12-01 09:00:00   ",
       "83        red hanging heart t-light holder        64  2010-12-01 09:32:00   ",
       "96         pack of 72 retrospot cake cases       120  2010-12-01 09:37:00   ",
       "102     red charlie+lola personal doorsign        96  2010-12-01 09:37:00   ",
       "174         jumbo  bag baroque black white       100  2010-12-01 09:57:00   ",
       "...                                    ...       ...                  ...   ",
       "397720          home sweet home blackboard       144  2011-12-09 11:50:00   ",
       "397721                   cockle shell dish        84  2011-12-09 11:56:00   ",
       "397729    aged glass silver t-light holder       144  2011-12-09 11:56:00   ",
       "397761      small ceramic top storage jar         96  2011-12-09 12:00:00   ",
       "397882    red flock love heart photo frame        72  2011-12-09 12:25:00   ",
       "",
       "        UnitPrice  CustomerID         Country  amount_spent  ",
       "46           2.55       13748  United Kingdom        204.00  ",
       "83           2.55       15291  United Kingdom        163.20  ",
       "96           0.42       14688  United Kingdom         50.40  ",
       "102          0.38       14688  United Kingdom         36.48  ",
       "174          1.65       16029  United Kingdom        165.00  ",
       "...           ...         ...             ...           ...  ",
       "397720       3.26       18102  United Kingdom        469.44  ",
       "397721       0.79       16626  United Kingdom         66.36  ",
       "397729       0.55       16626  United Kingdom         79.20  ",
       "397761       0.69       15311  United Kingdom         66.24  ",
       "397882       0.72       13777  United Kingdom         51.84  ",
       "",
       "[11609 rows x 14 columns]"
      ]
     },
     "execution_count": 119,
     "metadata": {},
     "output_type": "execute_result"
    }
   ],
   "source": [
    "# your answer here",
    "orders.loc[orders['Quantity']>50]"
   "execution_count": null,
   "metadata": {
    "collapsed": true,
    "jupyter": {
     "outputs_hidden": true
    }
   },
   "outputs": [],
   "source": [
    "# your answer here"
   ]
  },
  {
   "cell_type": "markdown",
   "metadata": {},
   "source": [
    "#### Select orders from Spain that are above 50 items"
   ]
  },
  {
   "cell_type": "code",
   "execution_count": 121,
   "metadata": {},
   "outputs": [
    {
     "data": {
      "text/html": [
       "<div>",
       "<style scoped>",
       "    .dataframe tbody tr th:only-of-type {",
       "        vertical-align: middle;",
       "    }",
       "",
       "    .dataframe tbody tr th {",
       "        vertical-align: top;",
       "    }",
       "",
       "    .dataframe thead th {",
       "        text-align: right;",
       "    }",
       "</style>",
       "<table border=\"1\" class=\"dataframe\">",
       "  <thead>",
       "    <tr style=\"text-align: right;\">",
       "      <th></th>",
       "      <th>Unnamed: 0</th>",
       "      <th>InvoiceNo</th>",
       "      <th>StockCode</th>",
       "      <th>year</th>",
       "      <th>month</th>",
       "      <th>day</th>",
       "      <th>hour</th>",
       "      <th>Description</th>",
       "      <th>Quantity</th>",
       "      <th>InvoiceDate</th>",
       "      <th>UnitPrice</th>",
       "      <th>CustomerID</th>",
       "      <th>Country</th>",
       "      <th>amount_spent</th>",
       "    </tr>",
       "  </thead>",
       "  <tbody>",
       "    <tr>",
       "      <th>4250</th>",
       "      <td>6421</td>",
       "      <td>536944</td>",
       "      <td>22383</td>",
       "      <td>2010</td>",
       "      <td>12</td>",
       "      <td>5</td>",
       "      <td>12</td>",
       "      <td>lunch bag suki  design</td>",
       "      <td>70</td>",
       "      <td>2010-12-03 12:20:00</td>",
       "      <td>1.65</td>",
       "      <td>12557</td>",
       "      <td>Spain</td>",
       "      <td>115.5</td>",
       "    </tr>",
       "    <tr>",
       "      <th>4251</th>",
       "      <td>6422</td>",
       "      <td>536944</td>",
       "      <td>22384</td>",
       "      <td>2010</td>",
       "      <td>12</td>",
       "      <td>5</td>",
       "      <td>12</td>",
       "      <td>lunch bag pink polkadot</td>",
       "      <td>100</td>",
       "      <td>2010-12-03 12:20:00</td>",
       "      <td>1.45</td>",
       "      <td>12557</td>",
       "      <td>Spain</td>",
       "      <td>145.0</td>",
       "    </tr>",
       "    <tr>",
       "      <th>4252</th>",
       "      <td>6423</td>",
       "      <td>536944</td>",
       "      <td>20727</td>",
       "      <td>2010</td>",
       "      <td>12</td>",
       "      <td>5</td>",
       "      <td>12</td>",
       "      <td>lunch bag  black skull.</td>",
       "      <td>60</td>",
       "      <td>2010-12-03 12:20:00</td>",
       "      <td>1.65</td>",
       "      <td>12557</td>",
       "      <td>Spain</td>",
       "      <td>99.0</td>",
       "    </tr>",
       "    <tr>",
       "      <th>4253</th>",
       "      <td>6424</td>",
       "      <td>536944</td>",
       "      <td>20725</td>",
       "      <td>2010</td>",
       "      <td>12</td>",
       "      <td>5</td>",
       "      <td>12</td>",
       "      <td>lunch bag red retrospot</td>",
       "      <td>70</td>",
       "      <td>2010-12-03 12:20:00</td>",
       "      <td>1.65</td>",
       "      <td>12557</td>",
       "      <td>Spain</td>",
       "      <td>115.5</td>",
       "    </tr>",
       "    <tr>",
       "      <th>4254</th>",
       "      <td>6425</td>",
       "      <td>536944</td>",
       "      <td>20728</td>",
       "      <td>2010</td>",
       "      <td>12</td>",
       "      <td>5</td>",
       "      <td>12</td>",
       "      <td>lunch bag cars blue</td>",
       "      <td>100</td>",
       "      <td>2010-12-03 12:20:00</td>",
       "      <td>1.45</td>",
       "      <td>12557</td>",
       "      <td>Spain</td>",
       "      <td>145.0</td>",
       "    </tr>",
       "  </tbody>",
       "</table>",
       "</div>"
      ],
      "text/plain": [
       "      Unnamed: 0  InvoiceNo StockCode  year  month  day  hour  \\",
       "4250        6421     536944     22383  2010     12    5    12   ",
       "4251        6422     536944     22384  2010     12    5    12   ",
       "4252        6423     536944     20727  2010     12    5    12   ",
       "4253        6424     536944     20725  2010     12    5    12   ",
       "4254        6425     536944     20728  2010     12    5    12   ",
       "",
       "                  Description  Quantity          InvoiceDate  UnitPrice  \\",
       "4250  lunch bag suki  design         70  2010-12-03 12:20:00       1.65   ",
       "4251  lunch bag pink polkadot       100  2010-12-03 12:20:00       1.45   ",
       "4252  lunch bag  black skull.        60  2010-12-03 12:20:00       1.65   ",
       "4253  lunch bag red retrospot        70  2010-12-03 12:20:00       1.65   ",
       "4254      lunch bag cars blue       100  2010-12-03 12:20:00       1.45   ",
       "",
       "      CustomerID Country  amount_spent  ",
       "4250       12557   Spain         115.5  ",
       "4251       12557   Spain         145.0  ",
       "4252       12557   Spain          99.0  ",
       "4253       12557   Spain         115.5  ",
       "4254       12557   Spain         145.0  "
      ]
     },
     "execution_count": 121,
     "metadata": {},
     "output_type": "execute_result"
    }
   ],
   "source": [
    "# your answer here",
    "orders.loc[(orders['Quantity']>50)&(orders['Country']=='Spain')].head()"
   "execution_count": null,
   "metadata": {
    "collapsed": true,
    "jupyter": {
     "outputs_hidden": true
    }
   },
   "outputs": [],
   "source": [
    "# your answer here"
   ]
  },
  {
   "cell_type": "markdown",
   "metadata": {},
   "source": [
    "#### Select all free orders"
   ]
  },
  {
   "cell_type": "code",
   "execution_count": 122,
   "metadata": {},
   "outputs": [
    {
     "data": {
      "text/html": [
       "<div>",
       "<style scoped>",
       "    .dataframe tbody tr th:only-of-type {",
       "        vertical-align: middle;",
       "    }",
       "",
       "    .dataframe tbody tr th {",
       "        vertical-align: top;",
       "    }",
       "",
       "    .dataframe thead th {",
       "        text-align: right;",
       "    }",
       "</style>",
       "<table border=\"1\" class=\"dataframe\">",
       "  <thead>",
       "    <tr style=\"text-align: right;\">",
       "      <th></th>",
       "      <th>Unnamed: 0</th>",
       "      <th>InvoiceNo</th>",
       "      <th>StockCode</th>",
       "      <th>year</th>",
       "      <th>month</th>",
       "      <th>day</th>",
       "      <th>hour</th>",
       "      <th>Description</th>",
       "      <th>Quantity</th>",
       "      <th>InvoiceDate</th>",
       "      <th>UnitPrice</th>",
       "      <th>CustomerID</th>",
       "      <th>Country</th>",
       "      <th>amount_spent</th>",
       "    </tr>",
       "  </thead>",
       "  <tbody>",
       "    <tr>",
       "      <th>6914</th>",
       "      <td>9302</td>",
       "      <td>537197</td>",
       "      <td>22841</td>",
       "      <td>2010</td>",
       "      <td>12</td>",
       "      <td>7</td>",
       "      <td>14</td>",
       "      <td>round cake tin vintage green</td>",
       "      <td>1</td>",
       "      <td>2010-12-05 14:02:00</td>",
       "      <td>0.0</td>",
       "      <td>12647</td>",
       "      <td>Germany</td>",
       "      <td>0.0</td>",
       "    </tr>",
       "    <tr>",
       "      <th>22539</th>",
       "      <td>33576</td>",
       "      <td>539263</td>",
       "      <td>22580</td>",
       "      <td>2010</td>",
       "      <td>12</td>",
       "      <td>4</td>",
       "      <td>14</td>",
       "      <td>advent calendar gingham sack</td>",
       "      <td>4</td>",
       "      <td>2010-12-16 14:36:00</td>",
       "      <td>0.0</td>",
       "      <td>16560</td>",
       "      <td>United Kingdom</td>",
       "      <td>0.0</td>",
       "    </tr>",
       "    <tr>",
       "      <th>25379</th>",
       "      <td>40089</td>",
       "      <td>539722</td>",
       "      <td>22423</td>",
       "      <td>2010</td>",
       "      <td>12</td>",
       "      <td>2</td>",
       "      <td>13</td>",
       "      <td>regency cakestand 3 tier</td>",
       "      <td>10</td>",
       "      <td>2010-12-21 13:45:00</td>",
       "      <td>0.0</td>",
       "      <td>14911</td>",
       "      <td>EIRE</td>",
       "      <td>0.0</td>",
       "    </tr>",
       "    <tr>",
       "      <th>29080</th>",
       "      <td>47068</td>",
       "      <td>540372</td>",
       "      <td>22090</td>",
       "      <td>2011</td>",
       "      <td>1</td>",
       "      <td>4</td>",
       "      <td>16</td>",
       "      <td>paper bunting retrospot</td>",
       "      <td>24</td>",
       "      <td>2011-01-06 16:41:00</td>",
       "      <td>0.0</td>",
       "      <td>13081</td>",
       "      <td>United Kingdom</td>",
       "      <td>0.0</td>",
       "    </tr>",
       "    <tr>",
       "      <th>29082</th>",
       "      <td>47070</td>",
       "      <td>540372</td>",
       "      <td>22553</td>",
       "      <td>2011</td>",
       "      <td>1</td>",
       "      <td>4</td>",
       "      <td>16</td>",
       "      <td>plasters in tin skulls</td>",
       "      <td>24</td>",
       "      <td>2011-01-06 16:41:00</td>",
       "      <td>0.0</td>",
       "      <td>13081</td>",
       "      <td>United Kingdom</td>",
       "      <td>0.0</td>",
       "    </tr>",
       "  </tbody>",
       "</table>",
       "</div>"
      ],
      "text/plain": [
       "       Unnamed: 0  InvoiceNo StockCode  year  month  day  hour  \\",
       "6914         9302     537197     22841  2010     12    7    14   ",
       "22539       33576     539263     22580  2010     12    4    14   ",
       "25379       40089     539722     22423  2010     12    2    13   ",
       "29080       47068     540372     22090  2011      1    4    16   ",
       "29082       47070     540372     22553  2011      1    4    16   ",
       "",
       "                        Description  Quantity          InvoiceDate  UnitPrice  \\",
       "6914   round cake tin vintage green         1  2010-12-05 14:02:00        0.0   ",
       "22539  advent calendar gingham sack         4  2010-12-16 14:36:00        0.0   ",
       "25379      regency cakestand 3 tier        10  2010-12-21 13:45:00        0.0   ",
       "29080       paper bunting retrospot        24  2011-01-06 16:41:00        0.0   ",
       "29082        plasters in tin skulls        24  2011-01-06 16:41:00        0.0   ",
       "",
       "       CustomerID         Country  amount_spent  ",
       "6914        12647         Germany           0.0  ",
       "22539       16560  United Kingdom           0.0  ",
       "25379       14911            EIRE           0.0  ",
       "29080       13081  United Kingdom           0.0  ",
       "29082       13081  United Kingdom           0.0  "
      ]
     },
     "execution_count": 122,
     "metadata": {},
     "output_type": "execute_result"
    }
   ],
   "source": [
    "# your answer here",
    "orders.loc[orders['UnitPrice']==0].head()"
   "execution_count": null,
   "metadata": {
    "collapsed": true,
    "jupyter": {
     "outputs_hidden": true
    }
   },
   "outputs": [],
   "source": [
    "# your answer here"
   ]
  },
  {
   "cell_type": "markdown",
   "metadata": {},
   "source": [
    "#### Select all orders that are 'lunch bag'",
    "#### Hint: Use string functions"
   ]
  },
  {
   "cell_type": "code",
<<<<<<< HEAD
   "execution_count": 124,
   "metadata": {},
   "outputs": [
    {
     "data": {
      "text/html": [
       "<div>",
       "<style scoped>",
       "    .dataframe tbody tr th:only-of-type {",
       "        vertical-align: middle;",
       "    }",
       "",
       "    .dataframe tbody tr th {",
       "        vertical-align: top;",
       "    }",
       "",
       "    .dataframe thead th {",
       "        text-align: right;",
       "    }",
       "</style>",
       "<table border=\"1\" class=\"dataframe\">",
       "  <thead>",
       "    <tr style=\"text-align: right;\">",
       "      <th></th>",
       "      <th>Unnamed: 0</th>",
       "      <th>InvoiceNo</th>",
       "      <th>StockCode</th>",
       "      <th>year</th>",
       "      <th>month</th>",
       "      <th>day</th>",
       "      <th>hour</th>",
       "      <th>Description</th>",
       "      <th>Quantity</th>",
       "      <th>InvoiceDate</th>",
       "      <th>UnitPrice</th>",
       "      <th>CustomerID</th>",
       "      <th>Country</th>",
       "      <th>amount_spent</th>",
       "    </tr>",
       "  </thead>",
       "  <tbody>",
       "    <tr>",
       "      <th>93</th>",
       "      <td>93</td>",
       "      <td>536378</td>",
       "      <td>20725</td>",
       "      <td>2010</td>",
       "      <td>12</td>",
       "      <td>3</td>",
       "      <td>9</td>",
       "      <td>lunch bag red retrospot</td>",
       "      <td>10</td>",
       "      <td>2010-12-01 09:37:00</td>",
       "      <td>1.65</td>",
       "      <td>14688</td>",
       "      <td>United Kingdom</td>",
       "      <td>16.50</td>",
       "    </tr>",
       "    <tr>",
       "      <th>172</th>",
       "      <td>174</td>",
       "      <td>536385</td>",
       "      <td>22662</td>",
       "      <td>2010</td>",
       "      <td>12</td>",
       "      <td>3</td>",
       "      <td>9</td>",
       "      <td>lunch bag dolly girl design</td>",
       "      <td>10</td>",
       "      <td>2010-12-01 09:56:00</td>",
       "      <td>1.65</td>",
       "      <td>17420</td>",
       "      <td>United Kingdom</td>",
       "      <td>16.50</td>",
       "    </tr>",
       "    <tr>",
       "      <th>354</th>",
       "      <td>363</td>",
       "      <td>536401</td>",
       "      <td>22662</td>",
       "      <td>2010</td>",
       "      <td>12</td>",
       "      <td>3</td>",
       "      <td>11</td>",
       "      <td>lunch bag dolly girl design</td>",
       "      <td>1</td>",
       "      <td>2010-12-01 11:21:00</td>",
       "      <td>1.65</td>",
       "      <td>15862</td>",
       "      <td>United Kingdom</td>",
       "      <td>1.65</td>",
       "    </tr>",
       "    <tr>",
       "      <th>359</th>",
       "      <td>368</td>",
       "      <td>536401</td>",
       "      <td>20725</td>",
       "      <td>2010</td>",
       "      <td>12</td>",
       "      <td>3</td>",
       "      <td>11</td>",
       "      <td>lunch bag red retrospot</td>",
       "      <td>1</td>",
       "      <td>2010-12-01 11:21:00</td>",
       "      <td>1.65</td>",
       "      <td>15862</td>",
       "      <td>United Kingdom</td>",
       "      <td>1.65</td>",
       "    </tr>",
       "    <tr>",
       "      <th>360</th>",
       "      <td>369</td>",
       "      <td>536401</td>",
       "      <td>22382</td>",
       "      <td>2010</td>",
       "      <td>12</td>",
       "      <td>3</td>",
       "      <td>11</td>",
       "      <td>lunch bag spaceboy design</td>",
       "      <td>2</td>",
       "      <td>2010-12-01 11:21:00</td>",
       "      <td>1.65</td>",
       "      <td>15862</td>",
       "      <td>United Kingdom</td>",
       "      <td>3.30</td>",
       "    </tr>",
       "  </tbody>",
       "</table>",
       "</div>"
      ],
      "text/plain": [
       "     Unnamed: 0  InvoiceNo StockCode  year  month  day  hour  \\",
       "93           93     536378     20725  2010     12    3     9   ",
       "172         174     536385     22662  2010     12    3     9   ",
       "354         363     536401     22662  2010     12    3    11   ",
       "359         368     536401     20725  2010     12    3    11   ",
       "360         369     536401     22382  2010     12    3    11   ",
       "",
       "                     Description  Quantity          InvoiceDate  UnitPrice  \\",
       "93       lunch bag red retrospot        10  2010-12-01 09:37:00       1.65   ",
       "172  lunch bag dolly girl design        10  2010-12-01 09:56:00       1.65   ",
       "354  lunch bag dolly girl design         1  2010-12-01 11:21:00       1.65   ",
       "359      lunch bag red retrospot         1  2010-12-01 11:21:00       1.65   ",
       "360   lunch bag spaceboy design          2  2010-12-01 11:21:00       1.65   ",
       "",
       "     CustomerID         Country  amount_spent  ",
       "93        14688  United Kingdom         16.50  ",
       "172       17420  United Kingdom         16.50  ",
       "354       15862  United Kingdom          1.65  ",
       "359       15862  United Kingdom          1.65  ",
       "360       15862  United Kingdom          3.30  "
      ]
     },
     "execution_count": 124,
     "metadata": {},
     "output_type": "execute_result"
    }
   ],
   "source": [
    "# your answer here",
    "orders.loc[orders['Description'].str.contains('lunch bag')].head()"
   "execution_count": null,
   "metadata": {
    "collapsed": true,
    "jupyter": {
     "outputs_hidden": true
    }
   },
   "outputs": [],
   "source": [
    "# your answer here"
   ]
  },
  {
   "cell_type": "markdown",
   "metadata": {},
   "source": [
    "#### Select all orders that are made in 2011 and are 'lunch bag'  "
   ]
  },
  {
   "cell_type": "code",
   "execution_count": 125,
   "metadata": {},
   "outputs": [
    {
     "data": {
      "text/html": [
       "<div>",
       "<style scoped>",
       "    .dataframe tbody tr th:only-of-type {",
       "        vertical-align: middle;",
       "    }",
       "",
       "    .dataframe tbody tr th {",
       "        vertical-align: top;",
       "    }",
       "",
       "    .dataframe thead th {",
       "        text-align: right;",
       "    }",
       "</style>",
       "<table border=\"1\" class=\"dataframe\">",
       "  <thead>",
       "    <tr style=\"text-align: right;\">",
       "      <th></th>",
       "      <th>Unnamed: 0</th>",
       "      <th>InvoiceNo</th>",
       "      <th>StockCode</th>",
       "      <th>year</th>",
       "      <th>month</th>",
       "      <th>day</th>",
       "      <th>hour</th>",
       "      <th>Description</th>",
       "      <th>Quantity</th>",
       "      <th>InvoiceDate</th>",
       "      <th>UnitPrice</th>",
       "      <th>CustomerID</th>",
       "      <th>Country</th>",
       "      <th>amount_spent</th>",
       "    </tr>",
       "  </thead>",
       "  <tbody>",
       "    <tr>",
       "      <th>26340</th>",
       "      <td>42678</td>",
       "      <td>540015</td>",
       "      <td>20725</td>",
       "      <td>2011</td>",
       "      <td>1</td>",
       "      <td>2</td>",
       "      <td>11</td>",
       "      <td>lunch bag red retrospot</td>",
       "      <td>10</td>",
       "      <td>2011-01-04 11:40:00</td>",
       "      <td>1.65</td>",
       "      <td>13319</td>",
       "      <td>United Kingdom</td>",
       "      <td>16.50</td>",
       "    </tr>",
       "    <tr>",
       "      <th>26341</th>",
       "      <td>42679</td>",
       "      <td>540015</td>",
       "      <td>20726</td>",
       "      <td>2011</td>",
       "      <td>1</td>",
       "      <td>2</td>",
       "      <td>11</td>",
       "      <td>lunch bag woodland</td>",
       "      <td>10</td>",
       "      <td>2011-01-04 11:40:00</td>",
       "      <td>1.65</td>",
       "      <td>13319</td>",
       "      <td>United Kingdom</td>",
       "      <td>16.50</td>",
       "    </tr>",
       "    <tr>",
       "      <th>26512</th>",
       "      <td>42851</td>",
       "      <td>540023</td>",
       "      <td>22382</td>",
       "      <td>2011</td>",
       "      <td>1</td>",
       "      <td>2</td>",
       "      <td>12</td>",
       "      <td>lunch bag spaceboy design</td>",
       "      <td>2</td>",
       "      <td>2011-01-04 12:58:00</td>",
       "      <td>1.65</td>",
       "      <td>15039</td>",
       "      <td>United Kingdom</td>",
       "      <td>3.30</td>",
       "    </tr>",
       "    <tr>",
       "      <th>26513</th>",
       "      <td>42852</td>",
       "      <td>540023</td>",
       "      <td>20726</td>",
       "      <td>2011</td>",
       "      <td>1</td>",
       "      <td>2</td>",
       "      <td>12</td>",
       "      <td>lunch bag woodland</td>",
       "      <td>1</td>",
       "      <td>2011-01-04 12:58:00</td>",
       "      <td>1.65</td>",
       "      <td>15039</td>",
       "      <td>United Kingdom</td>",
       "      <td>1.65</td>",
       "    </tr>",
       "    <tr>",
       "      <th>26860</th>",
       "      <td>43616</td>",
       "      <td>540098</td>",
       "      <td>22384</td>",
       "      <td>2011</td>",
       "      <td>1</td>",
       "      <td>2</td>",
       "      <td>15</td>",
       "      <td>lunch bag pink polkadot</td>",
       "      <td>1</td>",
       "      <td>2011-01-04 15:50:00</td>",
       "      <td>1.65</td>",
       "      <td>16241</td>",
       "      <td>United Kingdom</td>",
       "      <td>1.65</td>",
       "    </tr>",
       "  </tbody>",
       "</table>",
       "</div>"
      ],
      "text/plain": [
       "       Unnamed: 0  InvoiceNo StockCode  year  month  day  hour  \\",
       "26340       42678     540015     20725  2011      1    2    11   ",
       "26341       42679     540015     20726  2011      1    2    11   ",
       "26512       42851     540023     22382  2011      1    2    12   ",
       "26513       42852     540023     20726  2011      1    2    12   ",
       "26860       43616     540098     22384  2011      1    2    15   ",
       "",
       "                      Description  Quantity          InvoiceDate  UnitPrice  \\",
       "26340     lunch bag red retrospot        10  2011-01-04 11:40:00       1.65   ",
       "26341          lunch bag woodland        10  2011-01-04 11:40:00       1.65   ",
       "26512  lunch bag spaceboy design          2  2011-01-04 12:58:00       1.65   ",
       "26513          lunch bag woodland         1  2011-01-04 12:58:00       1.65   ",
       "26860     lunch bag pink polkadot         1  2011-01-04 15:50:00       1.65   ",
       "",
       "       CustomerID         Country  amount_spent  ",
       "26340       13319  United Kingdom         16.50  ",
       "26341       13319  United Kingdom         16.50  ",
       "26512       15039  United Kingdom          3.30  ",
       "26513       15039  United Kingdom          1.65  ",
       "26860       16241  United Kingdom          1.65  "
      ]
     },
     "execution_count": 125,
     "metadata": {},
     "output_type": "execute_result"
    }
   ],
   "source": [
    "# your answer here",
    "orders.loc[(orders['Description'].str.contains('lunch bag')) & (orders['year']==2011)].head()"
   "execution_count": null,
   "metadata": {
    "collapsed": true,
    "jupyter": {
     "outputs_hidden": true
    }
   },
   "outputs": [],
   "source": [
    "# your answer here"
   ]
  },
  {
   "cell_type": "markdown",
   "metadata": {},
   "source": [
    "#### Show the frequency distribution of the amount spent in Spain."
   ]
  },
  {
   "cell_type": "code",
   "execution_count": 126,
   "metadata": {},
   "outputs": [
    {
     "data": {
      "text/plain": [
       "15.00     20082",
       "19.80     11033",
       "17.70      9174",
       "16.50      8490",
       "10.20      8028",
       "          ...  ",
       "176.28        1",
       "61.95         1",
       "17.73         1",
       "308.89        1",
       "77.50         1",
       "Name: amount_spent, Length: 2811, dtype: int64"
      ]
     },
     "execution_count": 126,
     "metadata": {},
     "output_type": "execute_result"
    }
   ],
   "source": [
    "# your answer here",
    "orders['amount_spent'].value_counts()"
   "execution_count": null,
   "metadata": {
    "collapsed": true,
    "jupyter": {
     "outputs_hidden": true
    }
   },
   "outputs": [],
   "source": [
    "# your answer here"
   ]
  },
  {
   "cell_type": "markdown",
   "metadata": {},
   "source": [
    "#### Select all orders made in the month of August"
   ]
  },
  {
   "cell_type": "code",
   "execution_count": 127,
   "metadata": {},
   "outputs": [
    {
     "data": {
      "text/html": [
       "<div>",
       "<style scoped>",
       "    .dataframe tbody tr th:only-of-type {",
       "        vertical-align: middle;",
       "    }",
       "",
       "    .dataframe tbody tr th {",
       "        vertical-align: top;",
       "    }",
       "",
       "    .dataframe thead th {",
       "        text-align: right;",
       "    }",
       "</style>",
       "<table border=\"1\" class=\"dataframe\">",
       "  <thead>",
       "    <tr style=\"text-align: right;\">",
       "      <th></th>",
       "      <th>Unnamed: 0</th>",
       "      <th>InvoiceNo</th>",
       "      <th>StockCode</th>",
       "      <th>year</th>",
       "      <th>month</th>",
       "      <th>day</th>",
       "      <th>hour</th>",
       "      <th>Description</th>",
       "      <th>Quantity</th>",
       "      <th>InvoiceDate</th>",
       "      <th>UnitPrice</th>",
       "      <th>CustomerID</th>",
       "      <th>Country</th>",
       "      <th>amount_spent</th>",
       "    </tr>",
       "  </thead>",
       "  <tbody>",
       "    <tr>",
       "      <th>199475</th>",
       "      <td>285421</td>",
       "      <td>561904</td>",
       "      <td>22075</td>",
       "      <td>2011</td>",
       "      <td>8</td>",
       "      <td>1</td>",
       "      <td>8</td>",
       "      <td>6 ribbons elegant christmas</td>",
       "      <td>96</td>",
       "      <td>2011-08-01 08:30:00</td>",
       "      <td>1.45</td>",
       "      <td>17941</td>",
       "      <td>United Kingdom</td>",
       "      <td>139.20</td>",
       "    </tr>",
       "    <tr>",
       "      <th>199476</th>",
       "      <td>285422</td>",
       "      <td>561904</td>",
       "      <td>85049E</td>",
       "      <td>2011</td>",
       "      <td>8</td>",
       "      <td>1</td>",
       "      <td>8</td>",
       "      <td>scandinavian reds ribbons</td>",
       "      <td>156</td>",
       "      <td>2011-08-01 08:30:00</td>",
       "      <td>1.06</td>",
       "      <td>17941</td>",
       "      <td>United Kingdom</td>",
       "      <td>165.36</td>",
       "    </tr>",
       "    <tr>",
       "      <th>199477</th>",
       "      <td>285423</td>",
       "      <td>561905</td>",
       "      <td>21385</td>",
       "      <td>2011</td>",
       "      <td>8</td>",
       "      <td>1</td>",
       "      <td>9</td>",
       "      <td>ivory hanging decoration  heart</td>",
       "      <td>24</td>",
       "      <td>2011-08-01 09:31:00</td>",
       "      <td>0.85</td>",
       "      <td>14947</td>",
       "      <td>United Kingdom</td>",
       "      <td>20.40</td>",
       "    </tr>",
       "    <tr>",
       "      <th>199478</th>",
       "      <td>285424</td>",
       "      <td>561905</td>",
       "      <td>84970L</td>",
       "      <td>2011</td>",
       "      <td>8</td>",
       "      <td>1</td>",
       "      <td>9</td>",
       "      <td>single heart zinc t-light holder</td>",
       "      <td>12</td>",
       "      <td>2011-08-01 09:31:00</td>",
       "      <td>0.95</td>",
       "      <td>14947</td>",
       "      <td>United Kingdom</td>",
       "      <td>11.40</td>",
       "    </tr>",
       "    <tr>",
       "      <th>199479</th>",
       "      <td>285425</td>",
       "      <td>561905</td>",
       "      <td>84970S</td>",
       "      <td>2011</td>",
       "      <td>8</td>",
       "      <td>1</td>",
       "      <td>9</td>",
       "      <td>hanging heart zinc t-light holder</td>",
       "      <td>12</td>",
       "      <td>2011-08-01 09:31:00</td>",
       "      <td>0.85</td>",
       "      <td>14947</td>",
       "      <td>United Kingdom</td>",
       "      <td>10.20</td>",
       "    </tr>",
       "  </tbody>",
       "</table>",
       "</div>"
      ],
      "text/plain": [
       "        Unnamed: 0  InvoiceNo StockCode  year  month  day  hour  \\",
       "199475      285421     561904     22075  2011      8    1     8   ",
       "199476      285422     561904    85049E  2011      8    1     8   ",
       "199477      285423     561905     21385  2011      8    1     9   ",
       "199478      285424     561905    84970L  2011      8    1     9   ",
       "199479      285425     561905    84970S  2011      8    1     9   ",
       "",
       "                              Description  Quantity          InvoiceDate  \\",
       "199475       6 ribbons elegant christmas         96  2011-08-01 08:30:00   ",
       "199476          scandinavian reds ribbons       156  2011-08-01 08:30:00   ",
       "199477    ivory hanging decoration  heart        24  2011-08-01 09:31:00   ",
       "199478   single heart zinc t-light holder        12  2011-08-01 09:31:00   ",
       "199479  hanging heart zinc t-light holder        12  2011-08-01 09:31:00   ",
       "",
       "        UnitPrice  CustomerID         Country  amount_spent  ",
       "199475       1.45       17941  United Kingdom        139.20  ",
       "199476       1.06       17941  United Kingdom        165.36  ",
       "199477       0.85       14947  United Kingdom         20.40  ",
       "199478       0.95       14947  United Kingdom         11.40  ",
       "199479       0.85       14947  United Kingdom         10.20  "
      ]
     },
     "execution_count": 127,
     "metadata": {},
     "output_type": "execute_result"
    }
   ],
   "source": [
    "# your answer here",
    "orders.loc[(orders['month']==8)].head()"
   "execution_count": null,
   "metadata": {
    "collapsed": true,
    "jupyter": {
     "outputs_hidden": true
    }
   },
   "outputs": [],
   "source": [
    "# your answer here"
   ]
  },
  {
   "cell_type": "markdown",
   "metadata": {},
   "source": [
    "#### Select how many orders are made by countries in the month of August",
    "##### Hint: Use value_counts()"
   ]
  },
  {
   "cell_type": "code",
<<<<<<< HEAD
   "execution_count": 129,
   "metadata": {},
   "outputs": [
    {
     "data": {
      "text/plain": [
       "United Kingdom     23105",
       "Germany              795",
       "EIRE                 593",
       "France               569",
       "Netherlands          280",
       "Switzerland          267",
       "Spain                252",
       "Belgium              194",
       "Israel               171",
       "Channel Islands      140",
       "Australia            107",
       "Italy                 95",
       "Austria               88",
       "Norway                77",
       "Finland               61",
       "Malta                 55",
       "Portugal              41",
       "Sweden                40",
       "Unspecified           23",
       "Iceland               22",
       "Poland                17",
       "Denmark               16",
       "Canada                 5",
       "Name: Country, dtype: int64"
      ]
     },
     "execution_count": 129,
     "metadata": {},
     "output_type": "execute_result"
    }
   ],
   "source": [
    "# your answer here",
    "orders.loc[(orders['month']==8)]['Country'].value_counts()"
   "execution_count": null,
   "metadata": {
    "collapsed": true,
    "jupyter": {
     "outputs_hidden": true
    }
   },
   "outputs": [],
   "source": [
    "# your answer here"
   ]
  },
  {
   "cell_type": "markdown",
   "metadata": {},
   "source": [
    "#### What's the  average amount of money spent by country"
   ]
  },
  {
   "cell_type": "code",
   "execution_count": 130,
   "metadata": {},
   "outputs": [
    {
     "data": {
      "text/plain": [
       "Country",
       "Australia               116.895620",
       "Austria                  25.624824",
       "Bahrain                  32.258824",
       "Belgium                  20.283772",
       "Brazil                   35.737500",
       "Canada                   24.280662",
       "Channel Islands          27.340160",
       "Cyprus                   22.134169",
       "Czech Republic           33.069600",
       "Denmark                  49.882474",
       "EIRE                     36.687745",
       "European Community       21.670833",
       "Finland                  32.913985",
       "France                   25.056827",
       "Germany                  25.311562",
       "Greece                   32.831172",
       "Iceland                  23.681319",
       "Israel                   29.119718",
       "Italy                    23.064960",
       "Japan                   116.561900",
       "Lebanon                  37.641778",
       "Lithuania                47.458857",
       "Malta                    24.335625",
       "Netherlands             120.798282",
       "Norway                   33.736418",
       "Poland                   22.226212",
       "Portugal                 22.872702",
       "RSA                      17.281207",
       "Saudi Arabia             16.213333",
       "Singapore                95.852658",
       "Spain                    24.779521",
       "Sweden                   85.096075",
       "Switzerland              30.642752",
       "USA                      20.002179",
       "United Arab Emirates     27.974706",
       "United Kingdom           20.625073",
       "Unspecified              10.930615",
       "Name: amount_spent, dtype: float64"
      ]
     },
     "execution_count": 130,
     "metadata": {},
     "output_type": "execute_result"
    }
   ],
   "source": [
    "# your answer here",
    "orders.groupby('Country')['amount_spent'].mean()"
   "execution_count": null,
   "metadata": {
    "collapsed": true,
    "jupyter": {
     "outputs_hidden": true
    }
   },
   "outputs": [],
   "source": [
    "# your answer here"
   ]
  },
  {
   "cell_type": "markdown",
   "metadata": {},
   "source": [
    "#### What's the most expensive item?"
   ]
  },
  {
   "cell_type": "code",
   "execution_count": 134,
   "metadata": {},
   "outputs": [
    {
     "data": {
      "text/html": [
       "<div>",
       "<style scoped>",
       "    .dataframe tbody tr th:only-of-type {",
       "        vertical-align: middle;",
       "    }",
       "",
       "    .dataframe tbody tr th {",
       "        vertical-align: top;",
       "    }",
       "",
       "    .dataframe thead th {",
       "        text-align: right;",
       "    }",
       "</style>",
       "<table border=\"1\" class=\"dataframe\">",
       "  <thead>",
       "    <tr style=\"text-align: right;\">",
       "      <th></th>",
       "      <th>Unnamed: 0</th>",
       "      <th>InvoiceNo</th>",
       "      <th>StockCode</th>",
       "      <th>year</th>",
       "      <th>month</th>",
       "      <th>day</th>",
       "      <th>hour</th>",
       "      <th>Description</th>",
       "      <th>Quantity</th>",
       "      <th>InvoiceDate</th>",
       "      <th>UnitPrice</th>",
       "      <th>CustomerID</th>",
       "      <th>Country</th>",
       "      <th>amount_spent</th>",
       "    </tr>",
       "  </thead>",
       "  <tbody>",
       "    <tr>",
       "      <th>397451</th>",
       "      <td>540421</td>",
       "      <td>581483</td>",
       "      <td>23843</td>",
       "      <td>2011</td>",
       "      <td>12</td>",
       "      <td>5</td>",
       "      <td>9</td>",
       "      <td>paper craft , little birdie</td>",
       "      <td>80995</td>",
       "      <td>2011-12-09 09:15:00</td>",
       "      <td>2.08</td>",
       "      <td>16446</td>",
       "      <td>United Kingdom</td>",
       "      <td>168469.6</td>",
       "    </tr>",
       "  </tbody>",
       "</table>",
       "</div>"
      ],
      "text/plain": [
       "        Unnamed: 0  InvoiceNo StockCode  year  month  day  hour  \\",
       "397451      540421     581483     23843  2011     12    5     9   ",
       "",
       "                        Description  Quantity          InvoiceDate  UnitPrice  \\",
       "397451  paper craft , little birdie     80995  2011-12-09 09:15:00       2.08   ",
       "",
       "        CustomerID         Country  amount_spent  ",
       "397451       16446  United Kingdom      168469.6  "
      ]
     },
     "execution_count": 134,
     "metadata": {},
     "output_type": "execute_result"
    }
   ],
   "source": [
    "# your answer here",
    "orders.loc[orders['amount_spent']==orders['amount_spent'].max()]"
   "execution_count": null,
   "metadata": {
    "collapsed": true,
    "jupyter": {
     "outputs_hidden": true
    }
   },
   "outputs": [],
   "source": [
    "# your answer here"
   ]
  },
  {
   "cell_type": "markdown",
   "metadata": {},
   "source": [
    "#### What was the average amount spent per year ?"
   ]
  },
  {
   "cell_type": "code",
   "execution_count": 135,
   "metadata": {},
   "outputs": [
    {
     "data": {
      "text/plain": [
       "year",
       "2010    21.892733",
       "2011    22.430074",
       "Name: amount_spent, dtype: float64"
      ]
     },
     "execution_count": 135,
     "metadata": {},
     "output_type": "execute_result"
    }
   ],
   "source": [
    "# your answer here",
    "orders.groupby('year')['amount_spent'].mean()"
   "execution_count": null,
   "metadata": {
    "collapsed": true,
    "jupyter": {
     "outputs_hidden": true
    }
   },
   "outputs": [],
   "source": [
    "# your answer here"
   ]
  }
 ],
 "metadata": {
  "anaconda-cloud": {},
  "kernelspec": {
   "display_name": "Python 3",
   "language": "python",
   "name": "python3"
  },
  "language_info": {
   "codemirror_mode": {
    "name": "ipython",
    "version": 3
   },
   "file_extension": ".py",
   "mimetype": "text/x-python",
   "name": "python",
   "nbconvert_exporter": "python",
   "pygments_lexer": "ipython3",
   "version": "3.7.4"
   "version": "3.7.3"
 },
 "nbformat": 4,
 "nbformat_minor": 4
}
